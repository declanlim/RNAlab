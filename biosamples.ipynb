{
 "cells": [
  {
   "cell_type": "code",
   "execution_count": 5,
   "metadata": {
    "collapsed": true,
    "ExecuteTime": {
     "end_time": "2023-05-08T13:00:06.822076300Z",
     "start_time": "2023-05-08T13:00:01.945560300Z"
    }
   },
   "outputs": [
    {
     "name": "stderr",
     "output_type": "stream",
     "text": [
      "* Owlready2 * Warning: optimized Cython parser module 'owlready2_optimized' is not available, defaulting to slower Python implementation\n"
     ]
    }
   ],
   "source": [
    "from owlready2 import *\n",
    "import pandas as pd\n",
    "import numpy as np\n",
    "import csv\n",
    "import xml.sax\n",
    "from fuzzywuzzy import process"
   ]
  },
  {
   "cell_type": "code",
   "execution_count": 6,
   "outputs": [],
   "source": [
    "# load the BTO ontology\n",
    "onto_path.append(\"/data/ontology\")\n",
    "onto = get_ontology(\"http://purl.obolibrary.org/obo/bto.owl\").load()\n",
    "# print(onto.base_iri)"
   ],
   "metadata": {
    "collapsed": false,
    "ExecuteTime": {
     "end_time": "2023-05-08T13:00:06.860390300Z",
     "start_time": "2023-05-08T13:00:03.729866100Z"
    }
   }
  },
  {
   "cell_type": "code",
   "execution_count": 7,
   "outputs": [],
   "source": [
    "# load class information and properties from the ontology\n",
    "class_names = [c.name for c in onto.classes()]\n",
    "# account for missing class labels in the ontology\n",
    "class_labels = [c.label[0] if len(c.label) > 0 else '' for c in onto.classes()]\n",
    "\n",
    "# properties_names contains all properties, including object and annotation properties\n",
    "# names list contains ontology\n",
    "object_properties_names = [o.name for o in onto.object_properties()]\n",
    "object_properties_labels = [o.label[0] if len(o.label) > 0 else o.name for o in onto.object_properties()]\n",
    "\n",
    "annotation_properties_names = [a.name for a in onto.annotation_properties()]\n",
    "annotation_properties_labels = [a.label[0] if len(a.label) > 0 else a.name for a in onto.annotation_properties()]\n",
    "\n",
    "properties_names = [p.name for p in onto.properties()]\n",
    "properties_labels = [p.label[0] if len(p.label) > 0 else p.name for p in onto.properties()]\n"
   ],
   "metadata": {
    "collapsed": false,
    "ExecuteTime": {
     "end_time": "2023-05-08T13:00:06.928611300Z",
     "start_time": "2023-05-08T13:00:06.077509700Z"
    }
   }
  },
  {
   "cell_type": "code",
   "execution_count": 8,
   "outputs": [],
   "source": [
    "# load the list of annotated body_site terms\n",
    "body_site_terms = pd.read_csv(\"data/BioAnnotate_rh-body_site.csv\", header=None)\n",
    "body_site_terms = body_site_terms[0].tolist()\n",
    "# print(body_site_terms)"
   ],
   "metadata": {
    "collapsed": false,
    "ExecuteTime": {
     "end_time": "2023-05-08T13:00:06.970432600Z",
     "start_time": "2023-05-08T13:00:06.728290600Z"
    }
   }
  },
  {
   "cell_type": "code",
   "execution_count": 17,
   "outputs": [
    {
     "name": "stdout",
     "output_type": "stream",
     "text": [
      "[('attribute_name', 'finishing strategy (depth of coverage)')]\n",
      "[('attribute_name', 'collection date'), ('harmonized_name', 'collection_date'), ('display_name', 'collection date')]\n",
      "[('attribute_name', 'estimated_size'), ('harmonized_name', 'estimated_size'), ('display_name', 'estimated size')]\n",
      "[('attribute_name', 'sop')]\n",
      "[('attribute_name', 'project_type')]\n",
      "[('attribute_name', 'host'), ('harmonized_name', 'host'), ('display_name', 'host')]\n",
      "[('attribute_name', 'lat_lon'), ('harmonized_name', 'lat_lon'), ('display_name', 'latitude and longitude')]\n",
      "[('attribute_name', 'biome'), ('harmonized_name', 'env_broad_scale'), ('display_name', 'broad-scale environmental context')]\n",
      "[('attribute_name', 'misc_param: HMP body site')]\n",
      "[('attribute_name', 'nucleic acid extraction')]\n",
      "[('attribute_name', 'feature'), ('harmonized_name', 'env_local_scale'), ('display_name', 'local-scale environmental context')]\n",
      "[('attribute_name', 'investigation_type'), ('harmonized_name', 'investigation_type'), ('display_name', 'investigation type')]\n",
      "[('attribute_name', 'host taxid'), ('harmonized_name', 'host_taxid'), ('display_name', 'host taxonomy ID')]\n",
      "[('attribute_name', 'project_name'), ('harmonized_name', 'project_name'), ('display_name', 'project name')]\n",
      "[('attribute_name', 'assembly')]\n",
      "[('attribute_name', 'geo_loc_name'), ('harmonized_name', 'geo_loc_name'), ('display_name', 'geographic location')]\n",
      "[('attribute_name', 'source_mat_id'), ('harmonized_name', 'source_material_id'), ('display_name', 'source material identifiers')]\n",
      "[('attribute_name', 'material'), ('harmonized_name', 'env_medium'), ('display_name', 'environmental medium')]\n",
      "[('attribute_name', 'ref_biomaterial'), ('harmonized_name', 'ref_biomaterial'), ('display_name', 'reference for biomaterial')]\n",
      "[('attribute_name', 'misc_param: HMP supersite')]\n",
      "[('attribute_name', 'num_replicons'), ('harmonized_name', 'num_replicons'), ('display_name', 'number of replicons')]\n",
      "[('attribute_name', 'sequencing method')]\n",
      "[('attribute_name', 'isol_growth_condt'), ('harmonized_name', 'isol_growth_condt'), ('display_name', 'isolation and growth condition')]\n",
      "[('attribute_name', 'env_package'), ('harmonized_name', 'env_package'), ('display_name', 'environmental package')]\n",
      "[('attribute_name', 'strain'), ('harmonized_name', 'strain'), ('display_name', 'strain')]\n",
      "[('attribute_name', 'isolation-source'), ('harmonized_name', 'isolation_source'), ('display_name', 'isolation source')]\n",
      "[('attribute_name', 'type-material')]\n",
      "[('attribute_name', 'finishing strategy (depth of coverage)')]\n",
      "[('attribute_name', 'collection date'), ('harmonized_name', 'collection_date'), ('display_name', 'collection date')]\n",
      "[('attribute_name', 'estimated_size'), ('harmonized_name', 'estimated_size'), ('display_name', 'estimated size')]\n",
      "[('attribute_name', 'sop')]\n",
      "[('attribute_name', 'project_type')]\n",
      "[('attribute_name', 'host'), ('harmonized_name', 'host'), ('display_name', 'host')]\n",
      "[('attribute_name', 'lat_lon'), ('harmonized_name', 'lat_lon'), ('display_name', 'latitude and longitude')]\n",
      "[('attribute_name', 'biome'), ('harmonized_name', 'env_broad_scale'), ('display_name', 'broad-scale environmental context')]\n",
      "[('attribute_name', 'misc_param: HMP body site')]\n",
      "[('attribute_name', 'nucleic acid extraction')]\n",
      "[('attribute_name', 'feature'), ('harmonized_name', 'env_local_scale'), ('display_name', 'local-scale environmental context')]\n",
      "[('attribute_name', 'investigation_type'), ('harmonized_name', 'investigation_type'), ('display_name', 'investigation type')]\n",
      "[('attribute_name', 'host taxid'), ('harmonized_name', 'host_taxid'), ('display_name', 'host taxonomy ID')]\n",
      "[('attribute_name', 'project_name'), ('harmonized_name', 'project_name'), ('display_name', 'project name')]\n",
      "[('attribute_name', 'assembly')]\n",
      "[('attribute_name', 'geo_loc_name'), ('harmonized_name', 'geo_loc_name'), ('display_name', 'geographic location')]\n",
      "[('attribute_name', 'source_mat_id'), ('harmonized_name', 'source_material_id'), ('display_name', 'source material identifiers')]\n",
      "[('attribute_name', 'material'), ('harmonized_name', 'env_medium'), ('display_name', 'environmental medium')]\n",
      "[('attribute_name', 'ref_biomaterial'), ('harmonized_name', 'ref_biomaterial'), ('display_name', 'reference for biomaterial')]\n",
      "[('attribute_name', 'misc_param: HMP supersite')]\n",
      "[('attribute_name', 'num_replicons'), ('harmonized_name', 'num_replicons'), ('display_name', 'number of replicons')]\n",
      "[('attribute_name', 'sequencing method')]\n",
      "[('attribute_name', 'isol_growth_condt'), ('harmonized_name', 'isol_growth_condt'), ('display_name', 'isolation and growth condition')]\n",
      "[('attribute_name', 'env_package'), ('harmonized_name', 'env_package'), ('display_name', 'environmental package')]\n",
      "[('attribute_name', 'strain'), ('harmonized_name', 'strain'), ('display_name', 'strain')]\n",
      "[('attribute_name', 'isolation-source'), ('harmonized_name', 'isolation_source'), ('display_name', 'isolation source')]\n",
      "[('attribute_name', 'type-material')]\n",
      "2\n"
     ]
    }
   ],
   "source": [
    "# load a single biosamples XML file. File 699 used due to smaller size\n",
    "# SAX parser used to avoid memory issues - CAN IN THEORY LOAD ALL BIOSAMPLES IN ONE FILE\n",
    "# biosamples_path = \"data/biosamples/biosample_set.699.xml\"\n",
    "biosamples_path = \"data/biosamples/biosample_small.xml\"\n",
    "\n",
    "class BioSamplesHandler(xml.sax.ContentHandler):\n",
    "    def __init__(self):\n",
    "        self.bioSampleId = \"\"\n",
    "        self.tissue_value = \"\"\n",
    "\n",
    "    def startElement(self, tag, attributes):\n",
    "        if tag == \"BioSample\":\n",
    "            self.bioSampleId = attributes[\"id\"]\n",
    "            # print(\"startElement: \", attributes[\"id\"])\n",
    "        elif tag == \"Attribute\":\n",
    "            pass\n",
    "\n",
    "\n",
    "    def endElement(self, tag):\n",
    "        if tag ==\"BioSample\":\n",
    "            self.bioSampleId = \"\"\n",
    "            self.tissue_value = \"\"\n",
    "\n",
    "\n",
    "class BioSamplesExploreHandler(xml.sax.ContentHandler):\n",
    "    def __init__(self):\n",
    "        # self.tags = set()\n",
    "        self.is_attribute = False\n",
    "        # self.attribute_names = set()\n",
    "        self.num_samples = 0\n",
    "\n",
    "    def startElement(self, name, attrs):\n",
    "        # self.tags.add(name)\n",
    "        if name == \"BioSample\":\n",
    "            self.num_samples += 1\n",
    "        if name == \"Attribute\":\n",
    "            self.is_attribute = True\n",
    "            print(attrs.items())\n",
    "            # if process.extractOne(attrs)\n",
    "            pass\n",
    "\n",
    "            # print the value of the attribute\n",
    "            # print(attrs.values()[0])\n",
    "            # print(attrs[attrs.keys()[0]])\n",
    "            # print(process.extractOne(attrs[attrs.keys()[0]], body_site_terms))\n",
    "            # if process.extractOne(attrs[attrs.keys()[0]], body_site_terms)[1] > 90:\n",
    "            #     print(name)\n",
    "\n",
    "    def endElement(self, name):\n",
    "\n",
    "        pass\n",
    "\n",
    "    def characters(self, content):\n",
    "        if self.is_attribute:\n",
    "            # print(content)\n",
    "            self.is_attribute = False\n",
    "        pass\n",
    "\n",
    "    def endDocument(self):\n",
    "        # print(self.tags)\n",
    "        print(self.num_samples)\n",
    "        pass\n",
    "\n",
    "\n",
    "parser = xml.sax.make_parser()\n",
    "# handler = BioSamplesHandler()\n",
    "handler = BioSamplesExploreHandler()\n",
    "parser.setContentHandler(handler)\n",
    "parser.parse(biosamples_path)"
   ],
   "metadata": {
    "collapsed": false,
    "ExecuteTime": {
     "end_time": "2023-05-08T13:33:39.386670400Z",
     "start_time": "2023-05-08T13:33:39.324444800Z"
    }
   }
  },
  {
   "cell_type": "code",
   "execution_count": null,
   "outputs": [],
   "source": [],
   "metadata": {
    "collapsed": false
   }
  }
 ],
 "metadata": {
  "kernelspec": {
   "display_name": "Python 3",
   "language": "python",
   "name": "python3"
  },
  "language_info": {
   "codemirror_mode": {
    "name": "ipython",
    "version": 2
   },
   "file_extension": ".py",
   "mimetype": "text/x-python",
   "name": "python",
   "nbconvert_exporter": "python",
   "pygments_lexer": "ipython2",
   "version": "2.7.6"
  }
 },
 "nbformat": 4,
 "nbformat_minor": 0
}
