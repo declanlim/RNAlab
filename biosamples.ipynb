{
 "cells": [
  {
   "cell_type": "code",
   "execution_count": 3,
   "metadata": {
    "ExecuteTime": {
     "end_time": "2023-05-08T14:40:43.410429400Z",
     "start_time": "2023-05-08T14:40:43.386425Z"
    },
    "collapsed": true
   },
   "outputs": [],
   "source": [
    "from owlready2 import *\n",
    "import pandas as pd\n",
    "import numpy as np\n",
    "import csv\n",
    "import xml.sax\n",
    "from rapidfuzz import process\n",
    "# from rapidfuzz import fuzz\n",
    "import rapidfuzz"
   ]
  },
  {
   "cell_type": "code",
   "execution_count": 4,
   "metadata": {
    "ExecuteTime": {
     "end_time": "2023-05-08T13:00:06.860390300Z",
     "start_time": "2023-05-08T13:00:03.729866100Z"
    },
    "collapsed": false
   },
   "outputs": [],
   "source": [
    "# load the BTO ontology\n",
    "onto_path.append(\"/data/ontology\")\n",
    "onto = get_ontology(\"http://purl.obolibrary.org/obo/bto.owl\").load()\n",
    "# print(onto.base_iri)"
   ]
  },
  {
   "cell_type": "code",
   "execution_count": 5,
   "metadata": {
    "ExecuteTime": {
     "end_time": "2023-05-08T13:00:06.928611300Z",
     "start_time": "2023-05-08T13:00:06.077509700Z"
    },
    "collapsed": false
   },
   "outputs": [
    {
     "name": "stdout",
     "output_type": "stream",
     "text": [
      "Number of classes:  6569\n"
     ]
    }
   ],
   "source": [
    "# load class information and properties from the ontology\n",
    "class_names = [c.name for c in onto.classes()]\n",
    "# account for missing class labels in the ontology\n",
    "class_labels = [c.label[0] if len(c.label) > 0 else '' for c in onto.classes()]\n",
    "\n",
    "# properties_names contains all properties, including object and annotation properties\n",
    "# names list contains ontology\n",
    "object_properties_names = [o.name for o in onto.object_properties()]\n",
    "object_properties_labels = [o.label[0] if len(o.label) > 0 else o.name for o in onto.object_properties()]\n",
    "\n",
    "annotation_properties_names = [a.name for a in onto.annotation_properties()]\n",
    "annotation_properties_labels = [a.label[0] if len(a.label) > 0 else a.name for a in onto.annotation_properties()]\n",
    "\n",
    "properties_names = [p.name for p in onto.properties()]\n",
    "properties_labels = [p.label[0] if len(p.label) > 0 else p.name for p in onto.properties()]\n",
    "\n",
    "print(\"Number of classes: \", len(class_names))\n"
   ]
  },
  {
   "cell_type": "code",
   "execution_count": 7,
   "metadata": {
    "ExecuteTime": {
     "end_time": "2023-05-08T13:43:12.573952700Z",
     "start_time": "2023-05-08T13:43:12.521969400Z"
    },
    "collapsed": false
   },
   "outputs": [],
   "source": [
    "# load the list of annotated body_site terms\n",
    "body_site_terms = pd.read_csv(\"data/BioAnnotate_rh-body_site.csv\", header=None)\n",
    "body_site_terms = body_site_terms[0].tolist()\n",
    "# print(len(body_site_terms))\n",
    "body_site_terms = set(body_site_terms)"
   ]
  },
  {
   "cell_type": "code",
   "execution_count": 10,
   "metadata": {
    "ExecuteTime": {
     "end_time": "2023-05-08T16:20:29.335162900Z",
     "start_time": "2023-05-08T16:15:34.221711500Z"
    },
    "collapsed": false
   },
   "outputs": [
    {
     "name": "stdout",
     "output_type": "stream",
     "text": [
      "17718\n",
      "40839\n"
     ]
    }
   ],
   "source": [
    "# load a single biosamples XML file. File 699 used due to smaller size\n",
    "# SAX parser used to avoid memory issues - CAN IN THEORY LOAD ALL BIOSAMPLES IN ONE FILE\n",
    "biosamples_path = \"data/biosamples/biosample_set.699.xml\"\n",
    "# biosamples_path = \"data/biosamples/biosample_small.xml\"\n",
    "\n",
    "\n",
    "class BioSamplesHandler(xml.sax.ContentHandler):\n",
    "    def __init__(self):\n",
    "        super().__init__()\n",
    "        self.bioSampleId = \"\"\n",
    "        self.tissue_value = \"\"\n",
    "\n",
    "    def startElement(self, tag, attributes):\n",
    "        if tag == \"BioSample\":\n",
    "            self.bioSampleId = attributes[\"id\"]\n",
    "            # print(\"startElement: \", attributes[\"id\"])\n",
    "        elif tag == \"Attribute\":\n",
    "            pass\n",
    "\n",
    "    def endElement(self, tag):\n",
    "        if tag == \"BioSample\":\n",
    "            self.bioSampleId = \"\"\n",
    "            self.tissue_value = \"\"\n",
    "\n",
    "\n",
    "class BioSamplesExploreHandler(xml.sax.ContentHandler):\n",
    "    def __init__(self):\n",
    "        # self.tags = set()\n",
    "        # self.is_attribute = False\n",
    "        super().__init__()\n",
    "        self.is_tissue_attribute = False\n",
    "        self.attribute_name = \"\"\n",
    "        self.num_samples = 0\n",
    "        self.tissue_sample_count = 0\n",
    "\n",
    "    def startElement(self, tag_name, tag_attrs):\n",
    "        # self.tags.add(name)\n",
    "        if tag_name == \"BioSample\":\n",
    "            self.num_samples += 1\n",
    "        if tag_name == \"Attribute\":\n",
    "            # ASSUMES THAT ALL ATTRIBUTE TAGS HAVE AN ATTRIBUTE_NAME ATTRIBUTE \n",
    "            # WORKS FOR BIOSAMPLES XML\n",
    "            attribute_name = tag_attrs[\"attribute_name\"]\n",
    "            # if attribute_name in body_site_terms:\n",
    "            #     self.tissue_sample_count += 1\n",
    "            #     self.is_tissue_attribute = True\n",
    "            #     self.attribute_name = attribute_name\n",
    "            search_result = process.extractOne(attribute_name, body_site_terms)\n",
    "            if search_result[1] > 85:\n",
    "                self.tissue_sample_count += 1\n",
    "                self.is_tissue_attribute = True\n",
    "                self.attribute_name = attribute_name\n",
    "            #     print(\"similar term: \", search_result)\n",
    "            #     # print(tag_attrs.values()[0])\n",
    "            pass\n",
    "\n",
    "    def endElement(self, name):\n",
    "\n",
    "        pass\n",
    "\n",
    "    def characters(self, content):\n",
    "        # if self.is_tissue_attribute:\n",
    "        #     print(self.attribute_name + \": \" + content)\n",
    "        #     self.is_tissue_attribute = False\n",
    "        #     print(\"--------------------\")\n",
    "        pass\n",
    "\n",
    "    def endDocument(self):\n",
    "        # print(self.tags)\n",
    "        print(self.num_samples)\n",
    "        print(self.tissue_sample_count)\n",
    "        pass\n",
    "\n",
    "\n",
    "parser = xml.sax.make_parser()\n",
    "# handler = BioSamplesHandler()\n",
    "handler = BioSamplesExploreHandler()\n",
    "parser.setContentHandler(handler)\n",
    "parser.parse(biosamples_path)\n",
    "\n",
    "\n",
    "# using a direct lookup from body_site_terms, 45m 22.9s\n",
    "# num_samples: 32526809\n",
    "# num_tissue_samples: 6492612\n"
   ]
  },
  {
   "cell_type": "code",
   "execution_count": 9,
   "metadata": {
    "collapsed": false
   },
   "outputs": [
    {
     "name": "stdout",
     "output_type": "stream",
     "text": [
      "35.61643835616438\n",
      "86.66666666666667\n",
      "41.0958904109589\n",
      "80.0\n",
      "85.5\n",
      "35.61643835616438\n",
      "45\n"
     ]
    }
   ],
   "source": [
    "a = \"collection site aid kajsh dkajsh dkajsh dkjahs kdh ajs das\"\n",
    "b = \"collection date\"\n",
    "\n",
    "print(rapidfuzz.fuzz.ratio(a, b))\n",
    "print(rapidfuzz.fuzz.partial_ratio(a, b))\n",
    "print(rapidfuzz.fuzz.token_sort_ratio(a, b))\n",
    "print(rapidfuzz.fuzz.token_set_ratio(a, b))\n",
    "print(rapidfuzz.fuzz.WRatio(a, b))\n",
    "print(rapidfuzz.fuzz.QRatio(a, b))\n",
    "print(rapidfuzz.distance.DamerauLevenshtein.distance(a, b))\n",
    "\n"
   ]
  }
 ],
 "metadata": {
  "kernelspec": {
   "display_name": "Python 3",
   "language": "python",
   "name": "python3"
  },
  "language_info": {
   "codemirror_mode": {
    "name": "ipython",
    "version": 3
   },
   "file_extension": ".py",
   "mimetype": "text/x-python",
   "name": "python",
   "nbconvert_exporter": "python",
   "pygments_lexer": "ipython3",
   "version": "3.9.16"
  }
 },
 "nbformat": 4,
 "nbformat_minor": 0
}
