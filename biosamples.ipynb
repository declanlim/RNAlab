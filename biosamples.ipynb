{
 "cells": [
  {
   "cell_type": "code",
   "execution_count": 4,
   "metadata": {
    "collapsed": true,
    "ExecuteTime": {
     "end_time": "2023-05-05T15:30:10.863325700Z",
     "start_time": "2023-05-05T15:30:10.853274700Z"
    }
   },
   "outputs": [],
   "source": [
    "from owlready2 import *\n",
    "import pandas as pd\n",
    "import numpy as np\n",
    "import csv"
   ]
  },
  {
   "cell_type": "code",
   "execution_count": 5,
   "outputs": [
    {
     "name": "stdout",
     "output_type": "stream",
     "text": [
      "http://purl.obolibrary.org/obo/bto.owl#\n"
     ]
    }
   ],
   "source": [
    "# load the BTO ontology\n",
    "onto_path.append(\"/data/ontology\")\n",
    "onto = get_ontology(\"http://purl.obolibrary.org/obo/bto.owl\")\n",
    "onto.load()\n",
    "print(onto.base_iri)"
   ],
   "metadata": {
    "collapsed": false,
    "ExecuteTime": {
     "end_time": "2023-05-05T15:30:22.006654Z",
     "start_time": "2023-05-05T15:30:21.986443100Z"
    }
   }
  },
  {
   "cell_type": "code",
   "execution_count": 6,
   "outputs": [],
   "source": [
    "# load class information and properties from the ontology\n",
    "class_names = [c.name for c in onto.classes()]\n",
    "# account for missing class labels in the ontology\n",
    "class_labels = [c.label[0] if len(c.label) > 0 else '' for c in onto.classes()]\n",
    "\n",
    "# properties_names contains all properties, including object and annotation properties\n",
    "# names list contains ontology\n",
    "object_properties_names = [o.name for o in onto.object_properties()]\n",
    "object_properties_labels = [o.label[0] if len(o.label) > 0 else o.name for o in onto.object_properties()]\n",
    "\n",
    "annotation_properties_names = [a.name for a in onto.annotation_properties()]\n",
    "annotation_properties_labels = [a.label[0] if len(a.label) > 0 else a.name for a in onto.annotation_properties()]\n",
    "\n",
    "properties_names = [p.name for p in onto.properties()]\n",
    "properties_labels = [p.label[0] if len(p.label) > 0 else p.name for p in onto.properties()]\n"
   ],
   "metadata": {
    "collapsed": false,
    "ExecuteTime": {
     "end_time": "2023-05-05T15:30:25.765014500Z",
     "start_time": "2023-05-05T15:30:25.154233300Z"
    }
   }
  },
  {
   "cell_type": "code",
   "execution_count": null,
   "outputs": [],
   "source": [
    "# load a single biosamples XML file. File 699 used due to smaller size\n",
    "biosamples_path = \"/data/biosamples/biosample_set.699.xml\"\n"
   ],
   "metadata": {
    "collapsed": false
   }
  }
 ],
 "metadata": {
  "kernelspec": {
   "display_name": "Python 3",
   "language": "python",
   "name": "python3"
  },
  "language_info": {
   "codemirror_mode": {
    "name": "ipython",
    "version": 2
   },
   "file_extension": ".py",
   "mimetype": "text/x-python",
   "name": "python",
   "nbconvert_exporter": "python",
   "pygments_lexer": "ipython2",
   "version": "2.7.6"
  }
 },
 "nbformat": 4,
 "nbformat_minor": 0
}
