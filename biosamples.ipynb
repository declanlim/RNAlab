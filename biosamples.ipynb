{
 "cells": [
  {
   "cell_type": "code",
   "execution_count": 12,
   "metadata": {
    "ExecuteTime": {
     "end_time": "2023-05-08T14:40:43.410429400Z",
     "start_time": "2023-05-08T14:40:43.386425Z"
    },
    "collapsed": true
   },
   "outputs": [],
   "source": [
    "from owlready2 import *\n",
    "import pandas as pd\n",
    "import numpy as np\n",
    "import csv\n",
    "import xml.sax\n",
    "from rapidfuzz import process"
   ]
  },
  {
   "cell_type": "code",
   "execution_count": 13,
   "metadata": {
    "ExecuteTime": {
     "end_time": "2023-05-08T13:00:06.860390300Z",
     "start_time": "2023-05-08T13:00:03.729866100Z"
    },
    "collapsed": false
   },
   "outputs": [],
   "source": [
    "# load the BTO ontology\n",
    "onto_path.append(\"/data/ontology\")\n",
    "onto = get_ontology(\"http://purl.obolibrary.org/obo/bto.owl\").load()\n",
    "# print(onto.base_iri)"
   ]
  },
  {
   "cell_type": "code",
   "execution_count": 33,
   "metadata": {
    "ExecuteTime": {
     "end_time": "2023-05-08T13:00:06.928611300Z",
     "start_time": "2023-05-08T13:00:06.077509700Z"
    },
    "collapsed": false
   },
   "outputs": [],
   "source": [
    "# load class information and properties from the ontology\n",
    "class_names = [c.name for c in onto.classes()]\n",
    "# account for missing class labels in the ontology\n",
    "class_labels = [c.label[0] if len(c.label) > 0 else '' for c in onto.classes()]\n",
    "\n",
    "# properties_names contains all properties, including object and annotation properties\n",
    "# names list contains ontology\n",
    "object_properties_names = [o.name for o in onto.object_properties()]\n",
    "object_properties_labels = [o.label[0] if len(o.label) > 0 else o.name for o in onto.object_properties()]\n",
    "\n",
    "annotation_properties_names = [a.name for a in onto.annotation_properties()]\n",
    "annotation_properties_labels = [a.label[0] if len(a.label) > 0 else a.name for a in onto.annotation_properties()]\n",
    "\n",
    "properties_names = [p.name for p in onto.properties()]\n",
    "properties_labels = [p.label[0] if len(p.label) > 0 else p.name for p in onto.properties()]\n"
   ]
  },
  {
   "cell_type": "code",
   "execution_count": 37,
   "metadata": {
    "ExecuteTime": {
     "end_time": "2023-05-08T13:43:12.573952700Z",
     "start_time": "2023-05-08T13:43:12.521969400Z"
    },
    "collapsed": false
   },
   "outputs": [
    {
     "name": "stdout",
     "output_type": "stream",
     "text": [
      "['biosample_tag', '%_b_cells', '%_blood', '%_brain', '%_granulocytes', '%_monocytes', '%_nk_cells', '%_t_cells', '%_tumour_cell_content', '>_5%_tumor_cellularity', '3rd_leaf_length', '3rd_leaf_length_cm', '3rd_leaf_width', '3rd_leaf_width_cm', '3rd_weigh_date_lbs', 'absolute_lymphocytes', 'absolute_macrophages', 'absolute_neutrophils', 'advanced_adenoma', 'afected_area', 'affected_area', 'age_at_blood_collection', 'age_at_skin_biopsy', 'age_feces', 'anal_cytology', 'anatomic_location', 'anatomic_segment', 'anatomic_site', 'anatomic_site_', 'anatomical_localisation', 'anatomical_location', 'anatomical_material', 'anatomical_part', 'anatomical_position', 'anatomical_site', 'anatomical_sites', 'anatomy', 'animal_source', 'animal_source_specific', 'atcc_cell_line_source', 'atcc_culture_collection_identifier', 'atcc_id', 'atrial_tissue_region', 'b_cell_stage', 'b_cell_subset', 'b_cell_type', 'b_cells', 'background_cell_line', 'bacteria_tissue', 'bal_lymphocyte_percent', 'bal_neutrophil_percent', 'basophil', 'basophil_percent', 'basophils', 'batch_of_transduced_liver_cells', 'bio_material', 'bio_sample', 'bio_sample_1', 'bio_sample_2', 'biological_material', 'biologicalsample', 'biomaterial', 'biomaterial_name', 'biomaterial_type', 'biomaterialtype', 'biopsy_grade', 'biopsy_location', 'biopsy_site', 'biopsy_source', 'biopsy_tissue', 'blood_collection_date', 'blood_monocyte_percentage', 'blood_platelets', 'blood_source', 'blood_subcomponent', 'body_compartment', 'body_fluid', 'body_habitat', 'body_location', 'body_part', 'body_product', 'body_sample_site', 'body_sample_subsite', 'body_site', 'body_site_abbreviation', 'body_site_common', 'body_site_corrected', 'body_site_orig', 'body_site_type', 'body_sites', 'body_system', 'bodyhabitat', 'bodylocation', 'bodypart', 'bodyproduct', 'bodysite', 'bodysites', 'bone', 'bone_marrow_blast_count', 'bone_marrow_blasts', 'bone_marrow_grafting_status', 'bone_marrow_grafting_type', 'bone_marrow_status', 'bone_marrow_transplant_timestamp', 'botanical_anatomy', 'bowel', 'brain', 'brain_area', 'brain_code', 'brain_hemisphere', 'brain_id', 'brain_metastasis', 'brain_number', 'brain_ph', 'brain_region', 'brain_section', 'brain_site_tissue', 'brain_structure', 'brain_sub_region_tissue', 'brain_tissue', 'brain_tumor', 'brain_weight', 'brainbank', 'brainhemisphere', 'breast_bright', 'breast_cancer', 'breast_cancer_age', 'breast_cancer_model', 'breast_cancer_subtype', 'breast_cancer_subtypes', 'breast_cancer_type', 'breast_tumor_model', 'breast_tumor_subtype', 'bronchial_scaffold_type', 'cancer', 'cancer_cell_line_composition', 'cancer_origin_type', 'cancer_site', 'cancer_tissue_source', 'cancer_type', 'cancer_type_abbrevation', 'cancersite', 'cancersitecoarse', 'cell', 'cell_class', 'cell_classification', 'cell_compartment', 'cell_description', 'cell_id', 'cell_id_assigned', 'cell_line', 'cell_line_background', 'cell_line_or_tissue', 'cell_line_origin', 'cell_line_source', 'cell_line_sournce', 'cell_line_tissue', 'cell_line_tissue_source', 'cell_line_type', 'cell_of_origin', 'cell_of_origin_subtype', 'cell_or_tissue_type', 'cell_or_tumor_type', 'cell_source', 'cell_source_and_growth', 'cell_state_source', 'cell_tissue', 'cell_tissue_subtype', 'cell_tissue_type', 'cell_type', 'cell_type_background', 'cell_type_isolated', 'cell_type_isolation', 'cell_type_of_origin', 'cell_type_or_stage', 'cell_type_origin', 'cell_type_source', 'cell_type_tissue', 'cell_type_used_for_xenograft', 'cell_types', 'cell_typing', 'cell_typle', 'cell_typr', 'cell_tytpe', 'celll_subtype', 'celll_type', 'cells_derived_from', 'cells_subtype', 'cells_type', 'cellsubset', 'cellsubtype', 'celltype', 'celltype_identifier', 'cellular_compartment', 'cellular_component', 'cellular_fraction', 'cellular_source', 'cervical_immune_cell_subsets_numberofcd4positivealpha4beta7positive', 'characteristics_[cell_type', 'characteristics:_tissue', 'characteristics:cancer_type_abbrevation', 'clinicalinformation:specimen_type', 'clinicalinformation:white_blood_cell_count_at_diagnosis', 'co_cultured_cell_type', 'collection_description', 'collection_details', 'collection_information', 'collection_site', 'collection_site_and_cell_type', 'collection_site_name', 'collection_site_or_growth_conditions', 'collection_sites', 'colon', 'colon_location', 'colon_segment_involved', 'colon_status', 'colonic_transit', 'colonoscopy_surgery_timing', 'colontumor', 'colorbreast', 'colorectal_cancer_stadium', 'commercial_cell_line', 'complex_fungi', 'condition', 'condition_desc', 'condition_description', 'condition_of_thoracic_aorta', 'condition_type', 'confirmed_metastasis', 'confluent_necrosis', 'constipation_duration', 'constipation_re_diagnosis', 'constipation_severity', 'control_tissue', 'copy_num_per_gram_feces', 'coronalcaries', 'coronary_artery_disease_status', 'crohns_disease', 'crop', 'cst_dendrogram_introitus_cervix', 'deep_dyspareunia_category', 'deep_dyspareunia_score', 'deep_ulcer', 'degree_of_aortic_valve_disease', 'degree_of_dysplasia', 'degree_of_fibrosis', 'degree_of_fibrosis_chc_at_the_end_of_follow_up', 'derived_cell_type', 'derived_cell_typed', 'derived_from_hesc_or_ipsc', 'derived_material', 'derived_source', 'derived_strain', 'derived_tissue', 'description___site', 'developmental_tissue', 'differentiated_cell_type', 'disease_cell_type', 'disease_colony_sample_distance', 'disease_location', 'disease_site', 'diseaselocation', 'dissected_region', 'dna_source', 'embryo_source', 'endocrine_cell_type', 'endometrial_cancer_type', 'endometrial_cell_type_compartment', 'endothelial_cells', 'engrafted_tumor_collection_site', 'env_material', 'eosinophil', 'eosinophil_percent', 'eosinophil_purity_percent', 'eosinophils', 'eosinophils_per_high_powered_field', 'eosinphil_pct', 'eosinphl_pct', 'erythrocytes', 'extent_of_affected_surface_ileum', 'extent_of_affected_surface_left_colon', 'extent_of_affected_surface_rectum', 'extent_of_affected_surface_right_colon', 'extent_of_affected_surface_transverse_colon', 'extent_of_ulcerated_surface_ileum', 'extent_of_ulcerated_surface_left_colon', 'extent_of_ulcerated_surface_rectum', 'extent_of_ulcerated_surface_right_colon', 'extent_of_ulcerated_surface_transverse_colon', 'extraction_site', 'fallopian_tube_region', 'fat_tissue_location', 'femur', 'fetal_region', 'fromtissue', 'frozen_tissue', 'fruit', 'fruit_acidity', 'fruit_color', 'fruit_frequency', 'fruit_phenotype', 'fruit_shape', 'fruit_stage', 'fruit_status', 'fruit_thinning', 'fruits_or_vegetables', 'fungal_cell_type', 'fungal_stage', 'fungi', 'fungi_head', 'fungus', 'gall_bladder', 'gastriculcer', 'gbm_cell_population', 'gbm_classification', 'gbm_grade', 'gbm_subtype', 'gender_animal_site', 'genital_hsv', 'genitalia_number', 'genotype_cell_type', 'genotype_tissue', 'germ_layer', 'germinal_zone', 'germline', 'gi_location', 'gi_sample', 'gingivitis', 'gland_type', 'glands', 'glial_cluster', 'gliomas_classification', 'gonad_weight', 'gonadal_status', 'graft_type', 'growth_phase_cell_type', 'growth_source', 'gut', 'gut_chamber', 'gut_compartment', 'gut_location', 'gut_locations', 'gut_mass', 'gut_section', 'gut_segment_type', 'gutchamber', 'gutsampleid', 'harvested_leaf__leaf_number_on_main_shoot_', 'healthy_liver', 'heart', 'heart_chambers', 'hek293t_genotype', 'helper_t_cells', 'hepatic_fat_fraction', 'hepatic_zone', 'hepaticfatfraction', 'her_status', 'her2_prediction_mgc', 'her2_prediction_sgc', 'hes_cell_type', 'hesc_line', 'high_risk_adenoma', 'high_stool', 'hippocampal_subfield', 'hippocampal_subregion', 'histologic_type', 'histological_grade', 'histological_subtype_primary_tumor', 'histological_tumor_classification', 'histological_type', 'histology_grade', 'histology_of_cancer', 'histology_type', 'histology::subtype', 'histology::type', 'histopathological_grade', 'histopathological_type', 'host_blood', 'host_body_site', 'host_cell_type', 'host_tissue', 'host_tissue_sample', 'host_tissue_sampled', 'host_tissue_samples', 'host_tissue_subsection', 'human_cell_type', 'ileal_invovlement', 'ileum', 'intestinal_region', 'intestinal_segment', 'intestine', 'isolate_tissue_sampled', 'lesion.mm', 'lesion.size', 'liver_weight_[g]', 'lung_section_portion', 'lymphocyte', 'lymphocyte_percent', 'lymphocytes', 'lymphocytes_in_lamina_propria', 'monocyte', 'monocyte_pct', 'monocyte_percent', 'monocyte_subset', 'monocytes', 'mouse_tissue', 'multiple_torso_limb_sites', 'muscle_source', 'muscle_type', 'myocyte', 'necrotic_tissue', 'neutrophil', 'neutrophil_percent', 'neutrophils', 'organ', 'organ_name', 'organ_of_origin', 'organ_or_cell_type', 'organ_part', 'organ_parts', 'organ_parts___0', 'organ_parts___1', 'organ_site', 'organ_tissue', 'orginal_tissue', 'origin_tissue', 'original_tissue', 'patient_tumor_site_of_collection', 'percentage_lymphocytes', 'ph_vaginal', 'plant_body_site', 'platelet', 'platelet_count', 'platelets', 'presence_and_size_of_ulcers_ses_cd_ileum', 'presence_and_size_of_ulcers_ses_cd_left_colon', 'presence_and_size_of_ulcers_ses_cd_rectum', 'presence_and_size_of_ulcers_ses_cd_right_colon', 'presence_and_type_of_narrowings_ileum', 'presence_and_type_of_narrowings_left_colon', 'presence_and_type_of_narrowings_rectum', 'presence_and_type_of_narrowings_right_colon', 'primary_tissue', 'primary_tumor_site', 'primary_tumor_tissue', 'primary_tumour_location', 'prostate_cancer', 'prostate_lobe', 'prostatic_lobe', 'prostatic_zone', 'rbc', 'red_blood_cell_count__x10^12_l_', 'region_of_tissue', 'rhizocompartment', 'root', 'root_compartment', 'sample_lymphocyte_percentage', 'sample_tiss', 'sample_tissue', 'sample_tissue_type', 'sample_type_body_site', 'sample_type_skin_type', 'simple_body_site', 'site_of_biopsy_i', 'site_of_biopsy_ii', 'site_of_extraction', 'skin_region', 'skin_sample', 'skin_site', 'skin_type', 'skintype', 'source_of_tissue', 'source_organ', 'source_tissue', 'source_tissue_cell_type', 'specific_tissue', 'terminal_ileum', 'thyroid', 'tiissue', 'tiisue', 'tisse', 'tisssue', 'tisssue_type', 'tissu', 'tissue', 'tissue___cells', 'tissue__type', 'tissue_cell_subtype', 'tissue_cell_type', 'tissue_cell_type_source', 'tissue_cells', 'tissue_compartment', 'tissue_group', 'tissue_layer', 'tissue_location', 'tissue_of_origin', 'tissue_of_origin_for_tumor', 'tissue_or_cell_type', 'tissue_origin', 'tissue_region', 'tissue_rego', 'tissue_sample', 'tissue_samples', 'tissue_sampling', 'tissue_section', 'tissue_side', 'tissue_site', 'tissue_soure', 'tissue_subset', 'tissue_subtype', 'tissue_subtype_brodmann_area', 'tissue_subype', 'tissue_thickness', 'tissue_type', 'tissue_type_details', 'tissue_type_source', 'tissue_types', 'tissues', 'tissuetype', 'tissure', 'tissus', 'tisue', 'tisue_type', 'tonsils', 'tooth', 'tooth_sampled', 'tssue', 'tumor__origin', 'tumor_cell_type', 'tumor_diameter', 'tumor_site', 'tumor_size', 'tumor_size__mm_', 'tumor_size_by_pet_or_ct_cm', 'tumor_weight', 'tumorsize', 'tumour_site', 'tumour_size', 'tumour_size__mm_', 'type_of_liver_tissue', 'type_of_tissue', 'ulcer_depth_centimeters', 'ulcer_location', 'ulcers_age', 'vaginal_ph', 'vaginal_wall_ph', 'vascular_origin', 'xenograft_tissue']\n"
     ]
    }
   ],
   "source": [
    "# load the list of annotated body_site terms\n",
    "body_site_terms = pd.read_csv(\"data/BioAnnotate_rh-body_site.csv\", header=None)\n",
    "body_site_terms = body_site_terms[0].tolist()\n",
    "print(body_site_terms)"
   ]
  },
  {
   "cell_type": "code",
   "execution_count": 36,
   "metadata": {
    "ExecuteTime": {
     "end_time": "2023-05-08T16:20:29.335162900Z",
     "start_time": "2023-05-08T16:15:34.221711500Z"
    },
    "collapsed": false
   },
   "outputs": [
    {
     "name": "stdout",
     "output_type": "stream",
     "text": [
      "similar term:  ('basophil', 90.0, 51)\n",
      "sop: http://hmpdacc.org/doc/CommonGeneAnnotation_SOP.pdf\n",
      "--------------------\n",
      "similar term:  ('host_blood', 90.0, 377)\n",
      "host: Homo sapiens\n",
      "--------------------\n",
      "similar term:  ('anatomical_material', 90.0, 31)\n",
      "material: biological product [ENVO:02000043]\n",
      "--------------------\n",
      "similar term:  ('derived_strain', 90.0, 252)\n",
      "strain: DSM 17216\n",
      "--------------------\n",
      "similar term:  ('basophil', 90.0, 51)\n",
      "sop: http://hmpdacc.org/doc/CommonGeneAnnotation_SOP.pdf\n",
      "--------------------\n",
      "similar term:  ('host_blood', 90.0, 377)\n",
      "host: Homo sapiens\n",
      "--------------------\n",
      "similar term:  ('anatomical_material', 90.0, 31)\n",
      "material: biological product [ENVO:02000043]\n",
      "--------------------\n",
      "similar term:  ('derived_strain', 90.0, 252)\n",
      "strain: DSM 17241\n",
      "--------------------\n",
      "similar term:  ('collection_site', 86.66666666666667, 207)\n",
      "collection_date: 2020-09-16\n",
      "--------------------\n",
      "similar term:  ('sample_type_body_site', 90.0, 460)\n",
      "sample_type: microbe\n",
      "--------------------\n",
      "similar term:  ('biomaterial', 90.0, 61)\n",
      "biomaterial_provider: Wuxi_Hospital\n",
      "--------------------\n",
      "3\n",
      "11\n"
     ]
    }
   ],
   "source": [
    "# load a single biosamples XML file. File 699 used due to smaller size\n",
    "# SAX parser used to avoid memory issues - CAN IN THEORY LOAD ALL BIOSAMPLES IN ONE FILE\n",
    "biosamples_path = \"data/biosamples/biosample_set.699.xml\"\n",
    "# biosamples_path = \"data/biosamples/biosample_small.xml\"\n",
    "\n",
    "\n",
    "class BioSamplesHandler(xml.sax.ContentHandler):\n",
    "    def __init__(self):\n",
    "        super().__init__()\n",
    "        self.bioSampleId = \"\"\n",
    "        self.tissue_value = \"\"\n",
    "\n",
    "    def startElement(self, tag, attributes):\n",
    "        if tag == \"BioSample\":\n",
    "            self.bioSampleId = attributes[\"id\"]\n",
    "            # print(\"startElement: \", attributes[\"id\"])\n",
    "        elif tag == \"Attribute\":\n",
    "            pass\n",
    "\n",
    "    def endElement(self, tag):\n",
    "        if tag == \"BioSample\":\n",
    "            self.bioSampleId = \"\"\n",
    "            self.tissue_value = \"\"\n",
    "\n",
    "\n",
    "class BioSamplesExploreHandler(xml.sax.ContentHandler):\n",
    "    def __init__(self):\n",
    "        # self.tags = set()\n",
    "        # self.is_attribute = False\n",
    "        super().__init__()\n",
    "        self.is_tissue_attribute = False\n",
    "        self.attribute_name = \"\"\n",
    "        self.num_samples = 0\n",
    "        self.tissue_sample_count = 0\n",
    "\n",
    "    def startElement(self, tag_name, tag_attrs):\n",
    "        # self.tags.add(name)\n",
    "        if tag_name == \"BioSample\":\n",
    "            self.num_samples += 1\n",
    "        if tag_name == \"Attribute\":\n",
    "            # ASSUMES THAT ALL ATTRIBUTE TAGS HAVE AN ATTRIBUTE_NAME ATTRIBUTE\n",
    "            attribute_name = tag_attrs[\"attribute_name\"]\n",
    "            search_result = process.extractOne(attribute_name, body_site_terms)\n",
    "            if search_result[1] > 85:\n",
    "                self.tissue_sample_count += 1\n",
    "                self.is_tissue_attribute = True\n",
    "                self.attribute_name = attribute_name\n",
    "                print(\"similar term: \", search_result)\n",
    "                # print(tag_attrs.values()[0])\n",
    "            pass\n",
    "\n",
    "    def endElement(self, name):\n",
    "\n",
    "        pass\n",
    "\n",
    "    def characters(self, content):\n",
    "        if self.is_tissue_attribute:\n",
    "            print(self.attribute_name + \": \" + content)\n",
    "            self.is_tissue_attribute = False\n",
    "            print(\"--------------------\")\n",
    "\n",
    "\n",
    "        pass\n",
    "\n",
    "    def endDocument(self):\n",
    "        # print(self.tags)\n",
    "        print(self.num_samples)\n",
    "        print(self.tissue_sample_count)\n",
    "        pass\n",
    "\n",
    "\n",
    "parser = xml.sax.make_parser()\n",
    "# handler = BioSamplesHandler()\n",
    "handler = BioSamplesExploreHandler()\n",
    "parser.setContentHandler(handler)\n",
    "parser.parse(biosamples_path)"
   ]
  },
  {
   "cell_type": "code",
   "execution_count": null,
   "metadata": {
    "collapsed": false
   },
   "outputs": [],
   "source": []
  }
 ],
 "metadata": {
  "kernelspec": {
   "display_name": "Python 3",
   "language": "python",
   "name": "python3"
  },
  "language_info": {
   "codemirror_mode": {
    "name": "ipython",
    "version": 3
   },
   "file_extension": ".py",
   "mimetype": "text/x-python",
   "name": "python",
   "nbconvert_exporter": "python",
   "pygments_lexer": "ipython3",
   "version": "3.9.16"
  }
 },
 "nbformat": 4,
 "nbformat_minor": 0
}
