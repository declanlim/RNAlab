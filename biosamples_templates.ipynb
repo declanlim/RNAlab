{
 "cells": [
  {
   "cell_type": "code",
   "execution_count": 2,
   "metadata": {},
   "outputs": [
    {
     "name": "stderr",
     "output_type": "stream",
     "text": [
      "* Owlready2 * Warning: optimized Cython parser module 'owlready2_optimized' is not available, defaulting to slower Python implementation\n",
      "\n",
      "Warning: SQLite3 version 3.40.0 and 3.41.2 have huge performance regressions; please install version 3.41.1 or 3.42!\n",
      "\n"
     ]
    }
   ],
   "source": [
    "import os\n",
    "import csv\n",
    "import owlready2"
   ]
  },
  {
   "attachments": {},
   "cell_type": "markdown",
   "metadata": {},
   "source": [
    "'*' indicates mandatory field\n",
    "\n",
    "'**' indicates at least one attribute in the group required\n",
    "\n",
    "all other attributes are optional\n"
   ]
  },
  {
   "cell_type": "code",
   "execution_count": 16,
   "metadata": {},
   "outputs": [
    {
     "name": "stdout",
     "output_type": "stream",
     "text": [
      "{'Beta-lactamase.1.0': ['*sample_name', '*organism', '*beta_lactamase_family', '*carbapenemase', '*edta_inhibitor_tested'], 'Human.1.0': ['*sample_name', '*organism', '*isolate', '*age', '*biomaterial_provider', '*sex', '*tissue'], 'Invertebrate.1.0': ['*sample_name', '*organism', '*collection_date', '*geo_loc_name', '*tissue'], 'Metagenome.environmental.1.0': ['*sample_name', '*organism', '*collection_date', '*geo_loc_name', '*lat_lon'], 'Microbe.1.0': ['*sample_name', '*organism', '*collection_date', '*geo_loc_name', '*sample_type'], 'Model.organism.animal.1.0': ['*sample_name', '*organism', '*sex', '*tissue'], 'OneHealthEnteric.1.0': ['*sample_name', '*organism', '*collected_by', '*collection_date', '*geo_loc_name', '*isolation_source', '*purpose_of_sampling', '*source_type', '*strain'], 'Pathogen.cl.1.0': ['*sample_name', '*organism', '*collected_by', '*collection_date', '*geo_loc_name', '*host', '*host_disease', '*isolation_source', '*lat_lon'], 'Pathogen.env.1.0': ['*sample_name', '*organism', '*collected_by', '*collection_date', '*geo_loc_name', '*isolation_source', '*lat_lon'], 'Plant.1.0': ['*sample_name', '*organism', '*geo_loc_name', '*tissue'], 'SARS-CoV-2.cl.1.0': ['*sample_name', '*organism', '*collected_by', '*collection_date', '*geo_loc_name', '*host', '*host_disease', '*isolate', '*isolation_source'], 'SARS-CoV-2.wwsurv.1.0': ['*sample_name', '*organism', '*collection_date', '*geo_loc_name', '*isolation_source', '*ww_population', '*ww_sample_duration', '*ww_sample_matrix', '*ww_sample_type', '*ww_surv_target_1', '*ww_surv_target_1_known_present'], 'Virus.1.0': ['*sample_name', '*organism', '*isolate', '*collection_date', '*geo_loc_name', '*isolation_source']}\n",
      "{'*sample_name', '*organism'}\n"
     ]
    }
   ],
   "source": [
    "templates_path = \"data/biosamples/templates/\"\n",
    "\n",
    "attributes_dict = {}\n",
    "required_attributes = set()\n",
    "\n",
    "for filename in os.listdir(templates_path):\n",
    "    with open(templates_path + filename, 'r') as f:\n",
    "        reader = csv.reader(f, delimiter='\\t', quotechar='\"')\n",
    "        for row in reader:\n",
    "            if not row or row[0].startswith(\"#\"):\n",
    "                continue\n",
    "            attributes_dict[filename.strip(\".tsv\")] = [attribute for attribute in row if attribute[0] == \"*\" and attribute[1] != \"*\"]\n",
    "\n",
    "# print(attributes_dict)\n",
    "# prints the attributes that are common to all biosamples templates (from NCBI packages)\n",
    "print(set.intersection(*[set(attributes_dict[template]) for template in attributes_dict]))"
   ]
  },
  {
   "cell_type": "code",
   "execution_count": null,
   "metadata": {},
   "outputs": [],
   "source": [
    "onto_path.append(\"data/ontologies/\")"
   ]
  }
 ],
 "metadata": {
  "kernelspec": {
   "display_name": "Python 3",
   "language": "python",
   "name": "python3"
  },
  "language_info": {
   "codemirror_mode": {
    "name": "ipython",
    "version": 3
   },
   "file_extension": ".py",
   "mimetype": "text/x-python",
   "name": "python",
   "nbconvert_exporter": "python",
   "pygments_lexer": "ipython3",
   "version": "3.9.16"
  },
  "orig_nbformat": 4
 },
 "nbformat": 4,
 "nbformat_minor": 2
}
