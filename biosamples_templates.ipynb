{
 "cells": [
  {
   "cell_type": "code",
   "execution_count": 21,
   "metadata": {},
   "outputs": [],
   "source": [
    "import os\n",
    "import csv\n",
    "from owlready2 import *"
   ]
  },
  {
   "attachments": {},
   "cell_type": "markdown",
   "metadata": {},
   "source": [
    "Templates for each package are taken from the biosamples ncbi webpage (https://submit.ncbi.nlm.nih.gov/biosample/template/)\n",
    "\n",
    "'*' indicates mandatory field\n",
    "\n",
    "'**' indicates at least one attribute in the group required\n",
    "\n",
    "all other attributes are optional\n"
   ]
  },
  {
   "cell_type": "code",
   "execution_count": 56,
   "metadata": {},
   "outputs": [
    {
     "name": "stdout",
     "output_type": "stream",
     "text": [
      "['*sample_name', 'sample_title', 'bioproject_accession', '*organism', 'strain', 'isolate', '*beta_lactamase_family', '*carbapenemase', '*edta_inhibitor_tested', 'collected_by', 'collection_date', 'geo_loc_name', 'host', 'isolation_source', 'lab_host', 'lat_lon', 'description']\n",
      "['*sample_name', 'sample_title', 'bioproject_accession', '*organism', '*isolate', '*age', '*biomaterial_provider', '*sex', '*tissue', 'cell_line', 'cell_subtype', 'cell_type', 'culture_collection', 'dev_stage', 'disease', 'disease_stage', 'ethnicity', 'health_state', 'karyotype', 'phenotype', 'population', 'race', 'sample_type', 'treatment', 'description']\n",
      "['*sample_name', 'sample_title', 'bioproject_accession', '*organism', 'isolate', 'breed', 'host', 'isolation_source', '*collection_date', '*geo_loc_name', '*tissue', 'age', 'altitude', 'biomaterial_provider', 'collected_by', 'depth', 'dev_stage', 'env_broad_scale', 'host_tissue_sampled', 'identified_by', 'lat_lon', 'sex', 'specimen_voucher', 'temp', 'description']\n",
      "['*sample_name', 'sample_title', 'bioproject_accession', '*organism', 'host', 'isolation_source', '*collection_date', '*geo_loc_name', '*lat_lon', 'ref_biomaterial', 'rel_to_oxygen', 'samp_collect_device', 'samp_mat_process', 'samp_size', 'source_material_id', 'description']\n",
      "['*sample_name', 'sample_title', 'bioproject_accession', '*organism', 'strain', 'isolate', 'host', 'isolation_source', '*collection_date', '*geo_loc_name', '*sample_type', 'altitude', 'biomaterial_provider', 'collected_by', 'culture_collection', 'depth', 'env_broad_scale', 'genotype', 'host_tissue_sampled', 'identified_by', 'lab_host', 'lat_lon', 'mating_type', 'passage_history', 'samp_size', 'serotype', 'serovar', 'specimen_voucher', 'temp', 'description']\n",
      "['*sample_name', 'sample_title', 'bioproject_accession', '*organism', 'strain', 'isolate', 'breed', 'cultivar', 'ecotype', 'age', 'dev_stage', '*sex', '*tissue', 'biomaterial_provider', 'birth_date', 'birth_location', 'breeding_history', 'breeding_method', 'cell_line', 'cell_subtype', 'cell_type', 'collected_by', 'collection_date', 'culture_collection', 'death_date', 'disease', 'disease_stage', 'genotype', 'geo_loc_name', 'growth_protocol', 'health_state', 'isolation_source', 'lat_lon', 'phenotype', 'sample_type', 'specimen_voucher', 'store_cond', 'stud_book_number', 'treatment', 'description']\n",
      "['*sample_name', 'sample_title', 'bioproject_accession', '*organism', '*collected_by', '*collection_date', '*geo_loc_name', '*isolation_source', '*purpose_of_sampling', '*source_type', '*strain', 'animal_env', 'animal_intrusion', 'biocide_used', 'building_setting', 'coll_site_geo_feat', 'cult_isol_date', 'culture_collection', 'env_broad_scale', 'env_local_scale', 'env_medium', 'env_monitoring_zone', 'extr_weather_event', 'facility_type', 'farm_equip', 'farm_water_source', 'fertilizer_admin', 'food_additive', 'food_clean_proc', 'food_contact_surf', 'food_contain_wrap', 'food_industry_class', 'food_industry_code', 'food_origin', 'food_pack_integrity', 'food_pack_medium', 'food_preserv_proc', 'food_processing_method', 'food_prod', 'food_prod_synonym', 'food_product_type', 'food_quality_date', 'food_source', 'food_type_processed', 'host', 'host_age', 'host_am', 'host_animal_breed', 'host_body_product', 'host_disease', 'host_group_size', 'host_housing', 'host_sex', 'host_subject_id', 'host_tissue_sampled', 'host_variety', 'ifsac_category', 'indoor_surf', 'indoor_surf_subpart', 'intended_consumer', 'isolate_name_alias', 'label_claims', 'lat_lon', 'location_in_facility', 'material_condition', 'mechanical_damage', 'plant_growth_med', 'plant_water_method', 'project_name', 'reference_material', 'rel_location', 'samp_collect_device', 'sanitizer_used_postharvest', 'sequenced_by', 'serotype', 'serovar', 'soil_type', 'spec_intended_cons', 'surf_material', 'surf_temp', 'surface_orientation', 'upstream_intervention', 'description']\n",
      "['*sample_name', 'sample_title', 'bioproject_accession', '*organism', 'strain', 'isolate', '*collected_by', '*collection_date', '*geo_loc_name', '*host', '*host_disease', '*isolation_source', '*lat_lon', 'culture_collection', 'genotype', 'host_age', 'host_description', 'host_disease_outcome', 'host_disease_stage', 'host_health_state', 'host_sex', 'host_subject_id', 'host_tissue_sampled', 'passage_history', 'pathotype', 'serotype', 'serovar', 'specimen_voucher', 'subgroup', 'subtype', 'description']\n",
      "['*sample_name', 'sample_title', 'bioproject_accession', '*organism', 'strain', 'isolate', '*collected_by', '*collection_date', '*geo_loc_name', '*isolation_source', '*lat_lon', 'culture_collection', 'genotype', 'passage_history', 'pathotype', 'serotype', 'serovar', 'specimen_voucher', 'subgroup', 'subtype', 'description']\n",
      "['*sample_name', 'sample_title', 'bioproject_accession', '*organism', 'isolate', 'cultivar', 'ecotype', 'age', 'dev_stage', '*geo_loc_name', '*tissue', 'biomaterial_provider', 'cell_line', 'cell_type', 'collected_by', 'collection_date', 'culture_collection', 'disease', 'disease_stage', 'genotype', 'growth_protocol', 'height_or_length', 'isolation_source', 'lat_lon', 'phenotype', 'population', 'sample_type', 'sex', 'specimen_voucher', 'temp', 'treatment', 'description']\n",
      "['*sample_name', 'sample_title', 'bioproject_accession', '*organism', '*collected_by', '*collection_date', '*geo_loc_name', '*host', '*host_disease', '*isolate', '*isolation_source', 'antiviral_treatment_agent', 'collection_device', 'collection_method', 'date_of_prior_antiviral_treat', 'date_of_prior_sars_cov_2_infection', 'date_of_sars_cov_2_vaccination', 'exposure_event', 'geo_loc_exposure', 'gisaid_accession', 'gisaid_virus_name', 'host_age', 'host_anatomical_material', 'host_anatomical_part', 'host_body_product', 'host_disease_outcome', 'host_health_state', 'host_recent_travel_loc', 'host_recent_travel_return_date', 'host_sex', 'host_specimen_voucher', 'host_subject_id', 'lat_lon', 'passage_method', 'passage_number', 'prior_sars_cov_2_antiviral_treat', 'prior_sars_cov_2_infection', 'prior_sars_cov_2_vaccination', 'purpose_of_sampling', 'purpose_of_sequencing', 'sars_cov_2_diag_gene_name_1', 'sars_cov_2_diag_gene_name_2', 'sars_cov_2_diag_pcr_ct_value_1', 'sars_cov_2_diag_pcr_ct_value_2', 'sequenced_by', 'vaccine_received', 'virus_isolate_of_prior_infection', 'description']\n",
      "['*sample_name', 'sample_title', 'bioproject_accession', '*organism', '*collection_date', '*geo_loc_name', '*isolation_source', '*ww_population', '*ww_sample_duration', '*ww_sample_matrix', '*ww_sample_type', '*ww_surv_target_1', '*ww_surv_target_1_known_present', 'collected_by', 'purpose_of_ww_sampling', 'purpose_of_ww_sequencing', 'sequenced_by', 'ww_endog_control_1', 'ww_endog_control_1_conc', 'ww_endog_control_1_protocol', 'ww_endog_control_1_units', 'ww_endog_control_2', 'ww_endog_control_2_conc', 'ww_endog_control_2_protocol', 'ww_endog_control_2_units', 'ww_flow', 'ww_industrial_effluent_percent', 'ww_ph', 'ww_population_source', 'ww_pre_treatment', 'ww_primary_sludge_retention_time', 'ww_processing_protocol', 'ww_sample_salinity', 'ww_sample_site', 'ww_surv_jurisdiction', 'ww_surv_system_sample_id', 'ww_surv_target_1_conc', 'ww_surv_target_1_conc_unit', 'ww_surv_target_1_extract', 'ww_surv_target_1_extract_unit', 'ww_surv_target_1_gene', 'ww_surv_target_1_protocol', 'ww_surv_target_2', 'ww_surv_target_2_conc', 'ww_surv_target_2_conc_unit', 'ww_surv_target_2_extract', 'ww_surv_target_2_extract_unit', 'ww_surv_target_2_gene', 'ww_surv_target_2_known_present', 'ww_surv_target_2_protocol', 'ww_temperature', 'ww_total_suspended_solids', 'description']\n",
      "['*sample_name', 'sample_title', 'bioproject_accession', '*organism', '*isolate', 'host', 'lab_host', '*collection_date', '*geo_loc_name', '*isolation_source', 'altitude', 'biomaterial_provider', 'collected_by', 'culture_collection', 'depth', 'disease', 'env_broad_scale', 'genotype', 'host_tissue_sampled', 'identified_by', 'lat_lon', 'passage_history', 'samp_size', 'serotype', 'specimen_voucher', 'strain', 'temp', 'description']\n",
      "{'*sample_name', '*organism'}\n"
     ]
    }
   ],
   "source": [
    "templates_path = \"data/biosamples/templates/\"\n",
    "\n",
    "attributes_dict = {}\n",
    "required_attributes = set()\n",
    "\n",
    "for filename in os.listdir(templates_path):\n",
    "    with open(templates_path + filename, 'r') as f:\n",
    "        reader = csv.reader(f, delimiter='\\t', quotechar='\"')\n",
    "        for row in reader:\n",
    "            if not row or row[0].startswith(\"#\"):\n",
    "                continue\n",
    "            print(row)\n",
    "            attributes_dict[filename.strip(\".tsv\")] = [attribute for attribute in row if attribute[0] == \"*\" and attribute[1] != \"*\"]\n",
    "\n",
    "# print(attributes_dict)\n",
    "# prints the attributes that are common to all biosamples templates (from NCBI packages)\n",
    "print(set.intersection(*[set(attributes_dict[template]) for template in attributes_dict]))"
   ]
  },
  {
   "cell_type": "code",
   "execution_count": 54,
   "metadata": {},
   "outputs": [
    {
     "name": "stdout",
     "output_type": "stream",
     "text": [
      "6569\n",
      "6208\n"
     ]
    }
   ],
   "source": [
    "onto_path.append(\"data/ontologies/\")\n",
    "onto = get_ontology(\"http://purl.obolibrary.org/obo/bto.owl\").load()\n",
    "\n",
    "class_labels = [c.label[0] if len(c.label) > 0 else '' for c in onto.classes()]\n",
    "# classes = list(c.label[0] for c in onto.classes())\n",
    "# print(class_labels)\n",
    "print(len(class_labels))\n",
    "\n",
    "num_synonyms = 0\n",
    "\n",
    "for class_label in onto.classes():\n",
    "    # print(class_label.hasRelatedSynonym)\n",
    "    num_synonyms += len(class_label.hasRelatedSynonym)\n",
    "\n",
    "\n",
    "print(num_synonyms)\n",
    "\n",
    "# direct search for terms in the onotology\n",
    "# print(onto.search(label=\"*lea*\"))"
   ]
  },
  {
   "attachments": {},
   "cell_type": "markdown",
   "metadata": {},
   "source": [
    "Things to search for in biosamples XML:\n",
    "\n",
    "    </BioSample>\n",
    "    <Organism \n",
    "    <Package \n",
    "    <Title \n"
   ]
  }
 ],
 "metadata": {
  "kernelspec": {
   "display_name": "Python 3",
   "language": "python",
   "name": "python3"
  },
  "language_info": {
   "codemirror_mode": {
    "name": "ipython",
    "version": 3
   },
   "file_extension": ".py",
   "mimetype": "text/x-python",
   "name": "python",
   "nbconvert_exporter": "python",
   "pygments_lexer": "ipython3",
   "version": "3.9.16"
  },
  "orig_nbformat": 4
 },
 "nbformat": 4,
 "nbformat_minor": 2
}
