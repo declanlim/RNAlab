{
 "cells": [
  {
   "cell_type": "code",
   "execution_count": 1,
   "metadata": {},
   "outputs": [
    {
     "name": "stderr",
     "output_type": "stream",
     "text": [
      "* Owlready2 * Warning: optimized Cython parser module 'owlready2_optimized' is not available, defaulting to slower Python implementation\n",
      "\n",
      "Warning: SQLite3 version 3.40.0 and 3.41.2 have huge performance regressions; please install version 3.41.1 or 3.42!\n",
      "\n"
     ]
    }
   ],
   "source": [
    "import os\n",
    "import csv\n",
    "from owlready2 import *"
   ]
  },
  {
   "attachments": {},
   "cell_type": "markdown",
   "metadata": {},
   "source": [
    "# NCBI biosamples templates\n",
    "Templates for each package are taken from the biosamples ncbi webpage (https://submit.ncbi.nlm.nih.gov/biosample/template/)\n",
    "\n",
    "'*' indicates mandatory field\n",
    "\n",
    "'**' indicates at least one attribute in the group required\n",
    "\n",
    "all other attributes are optional\n",
    "\n",
    "Current code has all the NCBI templates as well as the MIGS Cultured Bacterial/Archaeal packages\n"
   ]
  },
  {
   "cell_type": "code",
   "execution_count": 2,
   "metadata": {},
   "outputs": [
    {
     "name": "stdout",
     "output_type": "stream",
     "text": [
      "Attributes common to all packages:  {'*sample_name', '*organism'}\n"
     ]
    }
   ],
   "source": [
    "templates_path = \"data/biosamples/templates/\"\n",
    "\n",
    "attributes_dict = {}\n",
    "required_attributes = set()\n",
    "\n",
    "for filename in os.listdir(templates_path):\n",
    "    with open(templates_path + filename, 'r') as f:\n",
    "        reader = csv.reader(f, delimiter='\\t', quotechar='\"')\n",
    "        for row in reader:\n",
    "            if not row or row[0].startswith(\"#\"):\n",
    "                continue\n",
    "            # print(row)\n",
    "            attributes_dict[filename.strip(\".tsv\")] = [attribute for attribute in row if attribute[0] == \"*\" and attribute[1] != \"*\"]\n",
    "\n",
    "# print(attributes_dict)\n",
    "# prints the attributes that are common to all biosamples templates (from NCBI packages)\n",
    "print(\"Attributes common to all packages: \", set.intersection(*[set(attributes_dict[template]) for template in attributes_dict]))"
   ]
  },
  {
   "attachments": {},
   "cell_type": "markdown",
   "metadata": {},
   "source": [
    "## Confirming biosamples XML format\n",
    "- every biosample should have a single package?\n",
    "- every biosample should have a sample name\n",
    "    - sample name within the \\<Ids\\> tags?\n",
    "- every biosample should have an organism tag"
   ]
  },
  {
   "cell_type": "code",
   "execution_count": 5,
   "metadata": {},
   "outputs": [
    {
     "name": "stdout",
     "output_type": "stream",
     "text": [
      "Number of organisms tags:  32526809\n",
      "Number of biosample tags:  32526809\n",
      "Number of package tags:  32526809\n",
      "Number of ids tags:  32526809\n"
     ]
    }
   ],
   "source": [
    "import re\n",
    "\n",
    "# search for the string \"<Organism \" in the file\n",
    "organism_count = 0\n",
    "biosample_count = 0\n",
    "package_count = 0\n",
    "id_count = 0\n",
    "\n",
    "f = open(\"data/biosamples/biosample_set.xml\", \"r\")\n",
    "for line in f:\n",
    "    if re.search(\"</BioSample>\", line):\n",
    "        biosample_count += 1\n",
    "    elif re.search(\"<Organism \", line):\n",
    "        organism_count += 1\n",
    "    elif re.search(\"<Package \", line):\n",
    "        package_count += 1\n",
    "    elif re.search(\"</Ids>\", line):\n",
    "        id_count += 1\n",
    "\n",
    "print(\"Number of biosample tags: \", biosample_count)\n",
    "print(\"Number of organisms tags: \", organism_count)\n",
    "print(\"Number of package tags: \", package_count)\n",
    "print(\"Number of ids tags: \", id_count)\n"
   ]
  },
  {
   "attachments": {},
   "cell_type": "markdown",
   "metadata": {},
   "source": [
    "# Synonyms from the BTO"
   ]
  },
  {
   "cell_type": "code",
   "execution_count": 6,
   "metadata": {},
   "outputs": [
    {
     "name": "stdout",
     "output_type": "stream",
     "text": [
      "Num classes:  6569\n",
      "Num synonyms:  6210\n"
     ]
    }
   ],
   "source": [
    "onto_path.append(\"data/ontologies/\")\n",
    "onto = get_ontology(\"http://purl.obolibrary.org/obo/bto.owl\").load()\n",
    "\n",
    "class_labels = [c.label[0] if len(c.label) > 0 else '' for c in onto.classes()]\n",
    "# classes = list(c.label[0] for c in onto.classes())\n",
    "# print(class_labels)\n",
    "print(\"Num classes: \", len(class_labels))\n",
    "\n",
    "num_synonyms = 0\n",
    "\n",
    "for class_label in onto.classes():\n",
    "    # print(class_label.hasRelatedSynonym)\n",
    "    num_synonyms += len(class_label.hasRelatedSynonym) + len(class_label.hasExactSynonym)\n",
    "\n",
    "print(\"Num synonyms: \", num_synonyms)\n",
    "\n",
    "# direct search for terms in the onotology\n",
    "# print(onto.search(label=\"*lea*\"))"
   ]
  },
  {
   "attachments": {},
   "cell_type": "markdown",
   "metadata": {},
   "source": [
    "Things to search for in biosamples XML:\n",
    "\n",
    "    </BioSample>\n",
    "    <Organism \n",
    "    <Package \n",
    "    <Title \n"
   ]
  }
 ],
 "metadata": {
  "kernelspec": {
   "display_name": "Python 3",
   "language": "python",
   "name": "python3"
  },
  "language_info": {
   "codemirror_mode": {
    "name": "ipython",
    "version": 3
   },
   "file_extension": ".py",
   "mimetype": "text/x-python",
   "name": "python",
   "nbconvert_exporter": "python",
   "pygments_lexer": "ipython3",
   "version": "3.9.16"
  },
  "orig_nbformat": 4
 },
 "nbformat": 4,
 "nbformat_minor": 2
}
