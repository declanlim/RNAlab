{
 "cells": [
  {
   "cell_type": "code",
   "execution_count": 2,
   "metadata": {},
   "outputs": [],
   "source": [
    "import xml.sax\n",
    "import datetime\n",
    "import csv"
   ]
  },
  {
   "cell_type": "code",
   "execution_count": 5,
   "metadata": {},
   "outputs": [
    {
     "name": "stdout",
     "output_type": "stream",
     "text": [
      "num samples: 40608\n"
     ]
    }
   ],
   "source": [
    "biosamples_path = \"data/biosamples/biosample_set.012.xml\"\n",
    "\n",
    "class BioSamplesDateHandler(xml.sax.ContentHandler):\n",
    "    def __init__(self):\n",
    "        self.num_samples = 0\n",
    "        self.biosample_id = \"\"\n",
    "        self.publication_date_string = \"\"\n",
    "        self.submission_date_string = \"\"\n",
    "        self.collection_date_string = \"\"\n",
    "        self.is_collection_date = False\n",
    "        self.biosample_dict = {}\n",
    "\n",
    "\n",
    "    def startElement(self, tag, attributes):\n",
    "        if tag == \"BioSample\":\n",
    "            self.num_samples += 1\n",
    "            self.biosample_id = attributes[\"accession\"]\n",
    "            self.publication_date_string = attributes[\"publication_date\"]\n",
    "            self.submission_date_string = attributes[\"submission_date\"]\n",
    "        elif tag == \"Attribute\":\n",
    "            if \"harmonized_name\" in attributes.keys() and attributes[\"harmonized_name\"] == \"collection_date\":\n",
    "                    self.is_collection_date = True\n",
    "\n",
    "\n",
    "    def characters(self, content):\n",
    "        if self.is_collection_date:\n",
    "            self.collection_date_string = content\n",
    "            # print(self.collection_date_string)\n",
    "            self.is_collection_date = False\n",
    "        pass\n",
    "\n",
    "    def endElement(self, name):\n",
    "        if name == \"BioSample\":\n",
    "            if self.collection_date_string == \"\":\n",
    "                self.collection_date_string = \"NA\"\n",
    "\n",
    "            self.biosample_dict[self.biosample_id] = {\n",
    "                \"publication_date\": self.publication_date_string,\n",
    "                \"submission_date\": self.submission_date_string,\n",
    "                \"collection_date\": self.collection_date_string\n",
    "            }\n",
    "            self.biosample_id = \"\"\n",
    "            self.publication_date_string = \"\"\n",
    "            self.submission_date_string = \"\"\n",
    "            self.collection_date_string = \"\"\n",
    "\n",
    "    def endDocument(self):\n",
    "        print(\"num samples: %s\" % len(self.biosample_dict))\n",
    "\n",
    "        # Write dictionary to csv\n",
    "        with open(\"data/biosamples/results/biosample_date.csv\", \"w\") as f:\n",
    "            writer = csv.writer(f)\n",
    "            writer.writerow([\"biosample_id\", \"publication_date\", \"submission_date\", \"collection_date\"])\n",
    "            for biosample_id, date_dict in self.biosample_dict.items():\n",
    "                writer.writerow([biosample_id, date_dict[\"publication_date\"], date_dict[\"submission_date\"], date_dict[\"collection_date\"]])\n",
    "\n",
    "        pass\n",
    "\n",
    "\n",
    "parser = xml.sax.make_parser()\n",
    "parser.setContentHandler(BioSamplesDateHandler())\n",
    "parser.parse(biosamples_path)\n"
   ]
  }
 ],
 "metadata": {
  "kernelspec": {
   "display_name": "Python 3",
   "language": "python",
   "name": "python3"
  },
  "language_info": {
   "codemirror_mode": {
    "name": "ipython",
    "version": 3
   },
   "file_extension": ".py",
   "mimetype": "text/x-python",
   "name": "python",
   "nbconvert_exporter": "python",
   "pygments_lexer": "ipython3",
   "version": "3.9.16"
  },
  "orig_nbformat": 4
 },
 "nbformat": 4,
 "nbformat_minor": 2
}
