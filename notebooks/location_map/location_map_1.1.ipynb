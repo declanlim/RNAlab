{
 "cells": [
  {
   "attachments": {},
   "cell_type": "markdown",
   "metadata": {},
   "source": [
    "# Version 1.1\n",
    "\n",
    "- doesn't look at unique attribute names for location information \n"
   ]
  },
  {
   "cell_type": "code",
   "execution_count": 5,
   "metadata": {},
   "outputs": [],
   "source": [
    "import xml.sax\n",
    "import json\n"
   ]
  },
  {
   "cell_type": "code",
   "execution_count": 14,
   "metadata": {},
   "outputs": [],
   "source": [
    "class BioSamplesLocationHandler(xml.sax.ContentHandler):\n",
    "    '''\n",
    "    SAX handler class to read in geographical information from a BioSamples XML file\n",
    "    '''\n",
    "\n",
    "    def __init__(self, tmp_file, output_file, attribute_type_dict) -> None:\n",
    "        super().__init__()\n",
    "        self.tmp_file = tmp_file\n",
    "        self.output_file = output_file\n",
    "        self.attribute_type_dict = attribute_type_dict\n",
    "        self.biosample_id = ''\n",
    "        self.is_sra = False\n",
    "        self.sra_id = ''\n",
    "        self.location_type = {'lat': False, 'lon': False, 'location': False}\n",
    "        self.cur_dict = {}\n",
    "\n",
    "        self.count = 0\n",
    "\n",
    "    def startDocument(self):\n",
    "        open(self.tmp_file, 'w').close()\n",
    "        open(self.output_file, 'w').close()\n",
    "\n",
    "    def startElement(self, name, attrs):\n",
    "        if name == 'BioSample':\n",
    "            self.biosample_id = attrs['accession']\n",
    "        elif name == 'Id':\n",
    "            if 'db' in attrs and attrs['db'] == 'SRA':\n",
    "                self.is_sra = True\n",
    "        elif name == 'Attribute':\n",
    "            try:\n",
    "                self.attribute_name = attrs['harmonized_name']\n",
    "            except KeyError:\n",
    "                self.attribute_name = attrs['attribute_name']\n",
    "\n",
    "            # Check if the attribute name could be a lat, lon or location\n",
    "            if self.attribute_name in self.attribute_type_dict:\n",
    "                for key in self.attribute_type_dict[self.attribute_name]:\n",
    "                    self.location_type[key] = True\n",
    "    \n",
    "    def characters(self, content):\n",
    "        if self.is_sra:\n",
    "            self.sra_id = content\n",
    "            self.is_sra = False\n",
    "        elif any(self.location_type.values()):\n",
    "            self.cur_dict[self.attribute_name] = content\n",
    "            self.location_type = {'lat': False, 'lon': False, 'location': False}\n",
    "\n",
    "\n",
    "    def endElement(self, name):\n",
    "        if name == 'BioSample':\n",
    "            self.count += 1\n",
    "            if self.count % 10000 == 0:\n",
    "                print(self.count)\n",
    "\n",
    "            if self.cur_dict == {}:\n",
    "                with open(self.tmp_file, 'a') as f:\n",
    "                    f.write(self.biosample_id + '\\n')\n",
    "            else:\n",
    "                with open(self.output_file, 'a') as f:\n",
    "                    json.dump({**{'biosample_id': self.biosample_id}, **self.cur_dict}, f)\n",
    "                    f.write('\\n')\n",
    "            self.cur_dict = {}\n",
    "            self.location_type = {'lat': False, 'lon': False, 'location': False}\n",
    "            self.biosample_id = ''\n",
    "            self.sra_id = ''\n",
    "\n",
    "\n",
    "    def endDocument(self):\n",
    "        print('Finished parsing BioSamples XML file')\n",
    "\n",
    "\n"
   ]
  },
  {
   "cell_type": "code",
   "execution_count": 15,
   "metadata": {},
   "outputs": [
    {
     "name": "stdout",
     "output_type": "stream",
     "text": [
      "10000\n",
      "Finished parsing BioSamples XML file\n"
     ]
    }
   ],
   "source": [
    "# Dictionary maps attribute names to their corresponding type (lat, lon, location)\n",
    "attribute_type_dict = {'birth_location': ['location'], 'geo_loc_name': ['location'], 'geo_loc_exposure': ['location'], 'host_recent_travel_loc': ['location'], 'lat_lon': ['lat', 'lon'], 'lat': ['lat'], 'lon': ['lon']}\n",
    "\n",
    "parser = xml.sax.make_parser()\n",
    "handler = BioSamplesLocationHandler('/home/ec2-user/workspace/data/results/location_tmp.jsonl', '/home/ec2-user/workspace/data/results/location_output.jsonl', attribute_type_dict)\n",
    "parser.setContentHandler(handler)\n",
    "\n",
    "parser.parse('/home/ec2-user/workspace/data/biosample_random_samples.xml')"
   ]
  }
 ],
 "metadata": {
  "kernelspec": {
   "display_name": "Python 3",
   "language": "python",
   "name": "python3"
  },
  "language_info": {
   "codemirror_mode": {
    "name": "ipython",
    "version": 3
   },
   "file_extension": ".py",
   "mimetype": "text/x-python",
   "name": "python",
   "nbconvert_exporter": "python",
   "pygments_lexer": "ipython3",
   "version": "3.9.16"
  },
  "orig_nbformat": 4
 },
 "nbformat": 4,
 "nbformat_minor": 2
}
