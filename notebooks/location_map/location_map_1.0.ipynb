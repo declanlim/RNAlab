{
 "cells": [
  {
   "cell_type": "code",
   "execution_count": 1,
   "metadata": {},
   "outputs": [],
   "source": [
    "import xml.sax\n"
   ]
  },
  {
   "cell_type": "code",
   "execution_count": 2,
   "metadata": {},
   "outputs": [],
   "source": [
    "class BioSamplesLocationHandler(xml.sax.ContentHandler):\n",
    "    '''\n",
    "    SAX hander class to read in geographical information from BioSamples XML file.\n",
    "        - uses a set of attributes to identify the relevant XML elements\n",
    "        - geographical information stored in the provided dictionary\n",
    "    '''\n",
    "\n",
    "    def __init__(self, sample_dict, relevant_attribtues) -> None:\n",
    "        super().__init__()\n",
    "        self.sample_dict = sample_dict\n",
    "        self.relevant_attribtues = relevant_attribtues\n",
    "        self.biosample_id = ''\n",
    "        self.content_dict = {}\n",
    "        self.attribute_name = ''\n",
    "\n",
    "    def startElement(self, name, attrs):\n",
    "        if name == 'BioSample':\n",
    "            self.biosample_id = attrs['accession']\n",
    "        elif name == 'Attribute':\n",
    "            try:\n",
    "                self.attribute_name = attrs['harmonized_name']\n",
    "            except KeyError:\n",
    "                self.attribute_name = attrs['attribute_name']\n",
    "        \n",
    "    def characters(self, content):\n",
    "        if self.attribute_name in self.relevant_attribtues:\n",
    "            self.content_dict[self.attribute_name] = content\n",
    "\n",
    "\n",
    "    def endElement(self, name):\n",
    "        if name == 'BioSample':\n",
    "            self.sample_dict[self.biosample_id] = self.content_dict\n",
    "            self.content_dict = {}\n",
    "        elif name == 'Attribute':\n",
    "            self.attribute_name = ''\n",
    "\n",
    "    def endDocument(self):\n",
    "        print('Finished parsing BioSamples XML file')"
   ]
  },
  {
   "cell_type": "code",
   "execution_count": 13,
   "metadata": {},
   "outputs": [
    {
     "name": "stdout",
     "output_type": "stream",
     "text": [
      "Finished parsing BioSamples XML file\n",
      "Number of samples: 10000\n"
     ]
    }
   ],
   "source": [
    "sample_dict = {}\n",
    "biosamples_path = '../../data/biosamples/biosample_random_samples.xml'\n",
    "location_attributes = {'birth_location', 'food_dis_point', 'food_dis_point_city', 'food_origin', 'geo_loc_exposure', 'geo_loc_name', 'host_recent_travel_loc', 'lat_lon', 'latitude', 'longitude'}\n",
    "\n",
    "parser = xml.sax.make_parser()\n",
    "handler = BioSamplesLocationHandler(sample_dict, location_attributes)\n",
    "parser.setContentHandler(handler)\n",
    "\n",
    "parser.parse(biosamples_path)\n",
    "print('Number of samples:', len(sample_dict))"
   ]
  },
  {
   "cell_type": "code",
   "execution_count": 19,
   "metadata": {},
   "outputs": [
    {
     "name": "stdout",
     "output_type": "stream",
     "text": [
      "Number of samples with location information: 5410\n",
      "Number of samples without location information: 4590\n"
     ]
    }
   ],
   "source": [
    "positive_samples = {k: v for k, v in sample_dict.items() if len(v) > 0}\n",
    "negative_samples = {k: v for k, v in sample_dict.items() if len(v) == 0}\n",
    "\n",
    "print('Number of samples with location information:', len(positive_samples))\n",
    "print('Number of samples without location information:', len(negative_samples))"
   ]
  },
  {
   "cell_type": "code",
   "execution_count": 34,
   "metadata": {},
   "outputs": [],
   "source": [
    "import random\n",
    "import csv\n",
    "random.seed(42)\n",
    "\n",
    "random_positive_samples = random.sample(list(positive_samples.items()), 50)\n",
    "random_negative_samples = random.sample(list(negative_samples.items()), 50)\n",
    "\n",
    "# with open('../../data/biosamples/random_positive_location_samples.csv', 'w') as f:\n",
    "#     writer = csv.writer(f)\n",
    "#     writer.writerow(['sample_id', 'url', 'sample_dict', 'eval'])\n",
    "#     for biosample_id, sample_dict in random_positive_samples:\n",
    "#         url = f'https://www.ncbi.nlm.nih.gov/biosample/{biosample_id}'\n",
    "#         writer.writerow([biosample_id, url, sample_dict])\n",
    "\n",
    "\n",
    "# with open('../../data/biosamples/random_negative_location_samples.csv', 'w') as f:\n",
    "#     writer = csv.writer(f)\n",
    "#     writer.writerow(['sample_id', 'url', 'sample_dict', 'eval'])\n",
    "#     for biosample_id, sample_dict in random_negative_samples:\n",
    "#         url = f'https://www.ncbi.nlm.nih.gov/biosample/{biosample_id}'\n",
    "#         writer.writerow([biosample_id, url, sample_dict])"
   ]
  },
  {
   "attachments": {},
   "cell_type": "markdown",
   "metadata": {},
   "source": [
    "- 50 random negative samples manually annotated to compare to found results\n",
    "\n",
    "## False Negatives\n",
    "Missed attributes:\n",
    "- environmental_marine_region\n",
    "- sampling event, latitude, end\t\n",
    "- sampling event, latitude, start\t\n",
    "- sampling event, longitude, end\t\n",
    "- sampling event, longitude, start\n",
    "- sampling site: code that has specific coordinates \n",
    "\n",
    "## Results\n",
    "True negatives: 49\n",
    "\n",
    "False negatives: 1"
   ]
  }
 ],
 "metadata": {
  "kernelspec": {
   "display_name": "Python 3",
   "language": "python",
   "name": "python3"
  },
  "language_info": {
   "codemirror_mode": {
    "name": "ipython",
    "version": 3
   },
   "file_extension": ".py",
   "mimetype": "text/x-python",
   "name": "python",
   "nbconvert_exporter": "python",
   "pygments_lexer": "ipython3",
   "version": "3.9.16"
  },
  "orig_nbformat": 4
 },
 "nbformat": 4,
 "nbformat_minor": 2
}
