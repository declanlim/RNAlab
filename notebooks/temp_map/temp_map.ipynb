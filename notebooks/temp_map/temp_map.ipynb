{
 "cells": [
  {
   "cell_type": "markdown",
   "metadata": {},
   "source": [
    "# Temperature map\n",
    "- should extract the temperature if present for all biosamples\n",
    "- if a range of temperatures are given, the average value should be taken\n",
    "- for each biosample, output should be a temperature value and units\n",
    "- temperature exrtacted from attributes in {'air_temp', 'avg_temp', 'host_body_temp', 'soil_temp', 'surf_temp', 'temp', 'ww_temp'}"
   ]
  },
  {
   "cell_type": "code",
   "execution_count": null,
   "metadata": {},
   "outputs": [],
   "source": []
  }
 ],
 "metadata": {
  "language_info": {
   "name": "python"
  },
  "orig_nbformat": 4
 },
 "nbformat": 4,
 "nbformat_minor": 2
}
