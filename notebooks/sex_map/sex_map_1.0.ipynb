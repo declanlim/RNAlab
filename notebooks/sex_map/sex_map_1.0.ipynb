{
 "cells": [
  {
   "attachments": {},
   "cell_type": "markdown",
   "metadata": {},
   "source": [
    "# Version 1.0\n",
    "- Uses a set of attribtues to check for the sex of the organism described in the biosample\n",
    "- Matched the value of the tag to a set of possible values \n",
    "    - Values were taken from the BioSamples documentation \n",
    "    - Additional values were added \n",
    "\n",
    "## Issues\n",
    "- Does not match to values in brackets \n",
    "- Multiple values with 'and' or punctuation are not matched\n",
    "- Some terms not included (asexual morph)"
   ]
  },
  {
   "cell_type": "code",
   "execution_count": 1,
   "metadata": {},
   "outputs": [],
   "source": [
    "import pandas as pd\n",
    "import xml.sax\n",
    "import re"
   ]
  },
  {
   "cell_type": "code",
   "execution_count": 2,
   "metadata": {},
   "outputs": [],
   "source": [
    "class BioSamplesSexHandler(xml.sax.ContentHandler):\n",
    "    '''\n",
    "    SAX handler class to read in BioSamples information from a given set of attribute tags \n",
    "        - Reads and stores the attribute information in a dictionary\n",
    "    '''\n",
    "    def __init__(self, sample_dict, attribute_set) -> None:\n",
    "        super().__init__()\n",
    "        self.sample_dict = sample_dict\n",
    "        self.attribute_set = attribute_set\n",
    "        self.attribute_name = ''\n",
    "        self.biosample_id = ''\n",
    "        self.attribute_value = ''\n",
    "\n",
    "    def startElement(self, name, attrs):\n",
    "        if name == 'BioSample':\n",
    "            self.biosample_id = attrs['accession']\n",
    "        elif name == 'Attribute':\n",
    "            try:\n",
    "                self.attribute_name = attrs['harmonized_name']\n",
    "            except KeyError:\n",
    "                self.attribute_name = attrs['attribute_name']\n",
    "        \n",
    "\n",
    "    def characters(self, content):\n",
    "        if self.attribute_name in self.attribute_set:\n",
    "            self.attribute_value = content\n",
    "\n",
    "        self.attribute_name = ''\n",
    "\n",
    "    def endElement(self, name):\n",
    "        if name == 'BioSample':\n",
    "            self.sample_dict[self.biosample_id] = self.attribute_value\n",
    "            self.biosample_id = ''\n",
    "            self.attribute_value = ''\n",
    "    \n",
    "    def endDocument(self):\n",
    "        print('Finished parsing BioSamples XML file')    \n"
   ]
  },
  {
   "cell_type": "code",
   "execution_count": 3,
   "metadata": {},
   "outputs": [
    {
     "name": "stdout",
     "output_type": "stream",
     "text": [
      "Finished parsing BioSamples XML file\n"
     ]
    }
   ],
   "source": [
    "sample_dict = {} \n",
    "attribute_set = {'animal_sex', 'host_sex', 'sex', 'plant_sex'}\n",
    "biosamples_path = '../../data/biosamples/biosample_random_samples.xml'\n",
    "\n",
    "parser = xml.sax.make_parser()\n",
    "handler = BioSamplesSexHandler(sample_dict, attribute_set)\n",
    "parser.setContentHandler(handler)\n",
    "parser.parse(biosamples_path)"
   ]
  },
  {
   "cell_type": "code",
   "execution_count": 14,
   "metadata": {},
   "outputs": [],
   "source": [
    "def preprocess(input_str):\n",
    "    '''\n",
    "    Preprocesses the input string to remove any non-alphanumeric characters and convert to lowercase\n",
    "    '''\n",
    "    return re.sub(r'\\ *[_&<>:-]+\\ *', ' ', input_str).lower()"
   ]
  },
  {
   "cell_type": "code",
   "execution_count": 39,
   "metadata": {},
   "outputs": [],
   "source": [
    "# values (up to unisexual) taken from the NCBI BioSamples documentation\n",
    "sex_values = {'male', 'female', 'pooled male and female', 'male and female', 'neuter', 'hermaphrodite', 'intersex', 'androdioecious', 'androecious', 'androgynous', 'androgynomonoecious', 'andromonoecious', 'bisexual', 'dichogamous', 'diclinous', 'dioecious', 'gynodioecious', 'gynoecious', 'gynomonoecious', 'hermaphroditic', 'imperfect', 'monoclinous', 'monoecious', 'perfect', 'polygamodioecious', 'polygamomonoecious', 'polygamous', 'protandrous', 'protogynous', 'subandroecious', 'subdioecious', 'subgynoecious', 'synoecious', 'trimonoecious', 'trioecious', 'unisexual', 'mixed', 'mixed sex', 'm', 'f'}\n",
    "\n",
    "matches_dict = {}\n",
    "# negative_values stores all the attribute values that were not matched to the above list\n",
    "negative_values = set()\n",
    "\n",
    "for biosample_id, content in sample_dict.items():\n",
    "    value = preprocess(content)\n",
    "    if content != '' and value in sex_values:\n",
    "        matches_dict[biosample_id] = value\n",
    "    else:\n",
    "        negative_values.add(value)\n",
    "        matches_dict[biosample_id] = 'na'\n"
   ]
  },
  {
   "cell_type": "code",
   "execution_count": 49,
   "metadata": {},
   "outputs": [
    {
     "name": "stdout",
     "output_type": "stream",
     "text": [
      "['', 'females and males', 'sf', 'hermaphrodite and monoecious', 'mating type a', '47', 'mating type h ', 'female (f)', '48', 'mating type a/mating type alpha', 'asexual morph']\n",
      "Number of positive matches: 3460\n"
     ]
    }
   ],
   "source": [
    "unknown_values = {'na', '?', 'n/a', 'restricted access', 'missing', 'not determined', 'not collected', ' ', 'not provided', 'not applicable', 'not specified', 'not recorded', 'not available', 'unknown', 'unknown sex', 'missing not provided'}\n",
    "\n",
    "# prints that negative values that could be false negatives\n",
    "print([v for v in negative_values if v not in unknown_values])\n",
    "\n",
    "positive_matches = [biosample_id for biosample_id, match in matches_dict.items() if match != 'na']\n",
    "negative_matches = [biosample_id for biosample_id, match in matches_dict.items() if match == 'na']\n",
    "print('Number of positive matches:',len(positive_matches))"
   ]
  }
 ],
 "metadata": {
  "kernelspec": {
   "display_name": "Python 3",
   "language": "python",
   "name": "python3"
  },
  "language_info": {
   "codemirror_mode": {
    "name": "ipython",
    "version": 3
   },
   "file_extension": ".py",
   "mimetype": "text/x-python",
   "name": "python",
   "nbconvert_exporter": "python",
   "pygments_lexer": "ipython3",
   "version": "3.9.16"
  },
  "orig_nbformat": 4
 },
 "nbformat": 4,
 "nbformat_minor": 2
}
