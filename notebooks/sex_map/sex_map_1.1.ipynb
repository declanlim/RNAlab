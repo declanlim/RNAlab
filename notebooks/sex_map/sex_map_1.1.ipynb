{
 "cells": [
  {
   "attachments": {},
   "cell_type": "markdown",
   "metadata": {},
   "source": [
    "# Version 1.1\n",
    "- Added more attribute values to the set of possible attributes\n",
    "- Added a more general classification for the different values\n",
    "\n",
    "## Issues\n",
    "- Does not match to values in brackets \n",
    "- Multiple values with 'and' or punctuation are not matched\n",
    "- Some terms not included (asexual morph)"
   ]
  },
  {
   "cell_type": "code",
   "execution_count": 2,
   "metadata": {},
   "outputs": [],
   "source": [
    "import pandas as pd\n",
    "import xml.sax\n",
    "import re"
   ]
  },
  {
   "cell_type": "code",
   "execution_count": 49,
   "metadata": {},
   "outputs": [],
   "source": [
    "class BioSamplesSexHandler(xml.sax.ContentHandler):\n",
    "    '''\n",
    "    SAX handler class to read in BioSamples information from a given set of attribute tags \n",
    "        - Reads and stores the attribute information in a dictionary\n",
    "    '''\n",
    "    def __init__(self, sample_dict, attribute_set) -> None:\n",
    "        super().__init__()\n",
    "        self.sample_dict = sample_dict\n",
    "        self.attribute_set = attribute_set\n",
    "        self.attribute_name = ''\n",
    "        self.biosample_id = ''\n",
    "        # self.attribute_value = ''\n",
    "        self.attribute_dict = {}\n",
    "\n",
    "    def startElement(self, name, attrs):\n",
    "        if name == 'BioSample':\n",
    "            self.biosample_id = attrs['accession']\n",
    "        elif name == 'Attribute':\n",
    "            try:\n",
    "                self.attribute_name = attrs['harmonized_name']\n",
    "            except KeyError:\n",
    "                self.attribute_name = attrs['attribute_name']\n",
    "        \n",
    "\n",
    "    def characters(self, content):\n",
    "        if self.attribute_name in self.attribute_set:\n",
    "            # self.attribute_value = content\n",
    "            self.attribute_dict[self.attribute_name] = content\n",
    "\n",
    "        self.attribute_name = ''\n",
    "\n",
    "    def endElement(self, name):\n",
    "        if name == 'BioSample':\n",
    "            self.sample_dict[self.biosample_id] = self.attribute_dict\n",
    "            self.biosample_id = ''\n",
    "            self.attribute_dict = {}\n",
    "            # self.attribute_value = ''\n",
    "    \n",
    "    def endDocument(self):\n",
    "        print('Finished parsing BioSamples XML file')    \n"
   ]
  },
  {
   "cell_type": "code",
   "execution_count": 68,
   "metadata": {},
   "outputs": [
    {
     "name": "stdout",
     "output_type": "stream",
     "text": [
      "Finished parsing BioSamples XML file\n"
     ]
    }
   ],
   "source": [
    "sample_dict = {} \n",
    "attribute_set = {'animal_sex', 'host_sex', 'sex', 'plant_sex', 'vioscreen_gender', 'offspring gender', 'animal_gender', 'pm_gender', 'demographics_gender'}\n",
    "# attribute_set = {'animal_sex', 'host_sex', 'sex', 'plant_sex'}\n",
    "\n",
    "biosamples_path = '../../data/biosamples/biosample_random_samples.xml'\n",
    "\n",
    "parser = xml.sax.make_parser()\n",
    "handler = BioSamplesSexHandler(sample_dict, attribute_set)\n",
    "parser.setContentHandler(handler)\n",
    "parser.parse(biosamples_path)"
   ]
  },
  {
   "cell_type": "code",
   "execution_count": 69,
   "metadata": {},
   "outputs": [
    {
     "name": "stdout",
     "output_type": "stream",
     "text": [
      "{'offspring gender': 'male'}\n"
     ]
    }
   ],
   "source": [
    "# print(sample_dict)\n",
    "# len(list(s for i, s in sample_dict.items() if s != ''))\n",
    "\n",
    "print(sample_dict['SAMN06317982'])"
   ]
  },
  {
   "cell_type": "code",
   "execution_count": 54,
   "metadata": {},
   "outputs": [],
   "source": [
    "def preprocess_str(input_str):\n",
    "    return re.sub(r'\\ *[_&<>:-]+\\ *', ' ', input_str).lower()\n",
    "\n",
    "def preprocess(input_dict):\n",
    "    '''\n",
    "    Preprocesses the input string to remove any non-alphanumeric characters and convert to lowercase\n",
    "    '''\n",
    "    return {k: preprocess_str(v) for k, v in input_dict.items()}"
   ]
  },
  {
   "cell_type": "code",
   "execution_count": 70,
   "metadata": {},
   "outputs": [],
   "source": [
    "# values (up to unisexual) taken from the NCBI BioSamples documentation\n",
    "sex_values = {'male', 'female', 'pooled male and female', 'male and female', 'neuter', 'hermaphrodite', 'intersex', 'androdioecious', 'androecious', 'androgynous', 'androgynomonoecious', 'andromonoecious', 'bisexual', 'dichogamous', 'diclinous', 'dioecious', 'gynodioecious', 'gynoecious', 'gynomonoecious', 'hermaphroditic', 'imperfect', 'monoclinous', 'monoecious', 'perfect', 'polygamodioecious', 'polygamomonoecious', 'polygamous', 'protandrous', 'protogynous', 'subandroecious', 'subdioecious', 'subgynoecious', 'synoecious', 'trimonoecious', 'trioecious', 'unisexual', 'mixed', 'mixed sex', 'm', 'f'}\n",
    "\n",
    "male_sex = {'male', 'm'}\n",
    "female_sex = {'female', 'f'}\n",
    "\n",
    "\n",
    "matches_dict = {}\n",
    "# negative_values stores all the attribute values that were not matched to the above list\n",
    "negative_values = set()\n",
    "\n",
    "for biosample_id, content in sample_dict.items():\n",
    "    value = preprocess(content)\n",
    "    positive_values = []\n",
    "    for key, value in value.items():\n",
    "        if value != '' and value in sex_values:\n",
    "            positive_values.append(value)\n",
    "        else:\n",
    "            negative_values.add(value)\n",
    "            \n",
    "    if len(positive_values) == 0:\n",
    "        matches_dict[biosample_id] = 'na'\n",
    "    else:\n",
    "        matches_dict[biosample_id] = positive_values"
   ]
  },
  {
   "cell_type": "code",
   "execution_count": 71,
   "metadata": {},
   "outputs": [
    {
     "name": "stdout",
     "output_type": "stream",
     "text": [
      "['asexual morph', 'unspecified', 'sf', 'hermaphrodite and monoecious', 'females and males', '47', 'mating type h ', 'mating type a/mating type alpha', '48', 'labcontrol test', 'female (f)', 'mating type a']\n",
      "Number of positive matches: 3462\n"
     ]
    }
   ],
   "source": [
    "unknown_values = {'na', '?', 'n/a', 'restricted access', 'missing', 'not determined', 'not collected', ' ', 'not provided', 'not applicable', 'not specified', 'not recorded', 'not available', 'unknown', 'unknown sex', 'missing not provided'}\n",
    "\n",
    "# prints that negative values that could be false negatives\n",
    "print([v for v in negative_values if v not in unknown_values])\n",
    "\n",
    "positive_matches = [biosample_id for biosample_id, match in matches_dict.items() if match != 'na']\n",
    "negative_matches = [biosample_id for biosample_id, match in matches_dict.items() if match == 'na']\n",
    "print('Number of positive matches:', len(positive_matches))"
   ]
  }
 ],
 "metadata": {
  "kernelspec": {
   "display_name": "Python 3",
   "language": "python",
   "name": "python3"
  },
  "language_info": {
   "codemirror_mode": {
    "name": "ipython",
    "version": 3
   },
   "file_extension": ".py",
   "mimetype": "text/x-python",
   "name": "python",
   "nbconvert_exporter": "python",
   "pygments_lexer": "ipython3",
   "version": "3.9.16"
  },
  "orig_nbformat": 4
 },
 "nbformat": 4,
 "nbformat_minor": 2
}
