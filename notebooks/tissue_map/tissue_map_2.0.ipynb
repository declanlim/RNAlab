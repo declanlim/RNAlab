{
 "cells": [
  {
   "attachments": {},
   "cell_type": "markdown",
   "metadata": {},
   "source": [
    "# Version 2.0\n",
    "- Changed method to use the Spacy library in to identify terms from BRENDA\n",
    "    - Uses rule based matching to find matches in BRENDA\n",
    "- Looks at all attributes and matches any found strings to terms from BRENDA\n",
    "    - No fuzzy matching for terms\n",
    "## Issues\n",
    "- Finds too many matches when looking at all attributes \n",
    "    - 545 attribute values with multiple matches\n",
    "- No method of finding depth of terms in BRENDA\n",
    "    - Can look at the phrase final terms?\n",
    "    - Look at terms that come after punctuation first?\n",
    "- Will match subsets of terms if the greater term cannot be matched"
   ]
  },
  {
   "cell_type": "code",
   "execution_count": 2,
   "metadata": {},
   "outputs": [],
   "source": [
    "from owlready2 import *\n",
    "import pandas as pd\n",
    "import numpy as np\n",
    "import spacy\n",
    "import xml.sax\n",
    "import csv\n",
    "import importlib\n",
    "import tissue_eval"
   ]
  },
  {
   "cell_type": "code",
   "execution_count": 9,
   "metadata": {},
   "outputs": [
    {
     "name": "stdout",
     "output_type": "stream",
     "text": [
      "Number of classes: 6569\n"
     ]
    }
   ],
   "source": [
    "# Load the BTO ontology\n",
    "onto_path.append('../../data/ontologies/')\n",
    "onto = get_ontology('http://purl.obolibrary.org/obo/bto.owl').load()\n",
    "\n",
    "# classes dictionary: {class_name: class_label} \n",
    "#   - class_label is None if no label is found\n",
    "# class_synonyms dictionary: {class_name: [synonym1, synonym2, ...]}\n",
    "#   - synonym list is empty if no synonym is found\n",
    "classes = {c.name: c.label.first() for c in onto.classes()}\n",
    "class_synonyms = {c.name: c.hasExactSynonym + c.hasRelatedSynonym for c in onto.classes()}\n",
    "\n",
    "# create a reverse mapping of classes and synonyms to BTO IDs\n",
    "classes_reverse = {c.label.first().lower(): c.name for c in onto.classes() if c.label != []}\n",
    "class_synonyms_reverse = {s.lower(): c for c, syn in class_synonyms.items() for s in syn}\n",
    "labels_reverse = {**classes_reverse, **class_synonyms_reverse}\n",
    "\n",
    "assert len(classes) == len(class_synonyms)\n",
    "print('Number of classes:', len(classes))\n",
    "\n",
    "# flatten the synonyms and class labels into a single set\n",
    "class_labels = {c for c in classes.values() if c is not None}\n",
    "class_synonyms_flattend = {s for syn in class_synonyms.values() for s in syn}\n",
    "bto_values = class_labels.union(class_synonyms_flattend)\n"
   ]
  },
  {
   "cell_type": "code",
   "execution_count": 6,
   "metadata": {},
   "outputs": [],
   "source": [
    "from spacy.matcher import Matcher\n",
    "from spacy.tokenizer import Tokenizer\n",
    "\n",
    "nlp = spacy.load('en_core_web_sm')\n",
    "matcher = Matcher(nlp.vocab)\n",
    "tokenizer = Tokenizer(nlp.vocab)\n",
    "\n",
    "# creates patterns for each BTO value in the flattened set\n",
    "patterns = []\n",
    "for bto_value in bto_values:\n",
    "    pattern = [{'LOWER': token.lower_} for token in tokenizer(bto_value)]\n",
    "    patterns.append(pattern)\n",
    "\n",
    "matcher.add('bto', patterns, greedy='LONGEST')"
   ]
  },
  {
   "cell_type": "code",
   "execution_count": 30,
   "metadata": {},
   "outputs": [],
   "source": [
    "class BioSamplesMatcherHandler(xml.sax.ContentHandler):\n",
    "    def __init__(self, sample_dict, attribute_dict) -> None:\n",
    "        super().__init__()\n",
    "        self.biosample_id = ''\n",
    "        self.sample_dict = sample_dict\n",
    "        self.attribute_dict = attribute_dict\n",
    "        self.attribute_name = ''\n",
    "        self.is_attribute = False\n",
    "        self.nlp = spacy.load('en_core_web_sm')\n",
    "\n",
    "\n",
    "    def startElement(self, name, attrs):\n",
    "        if name == 'BioSample':\n",
    "            self.biosample_id = attrs['accession']\n",
    "        elif name == 'Attribute':\n",
    "            if 'harmonized_name' in attrs:\n",
    "                self.attribute_name = attrs['harmonized_name']\n",
    "            else:\n",
    "                self.attribute_name = attrs['attribute_name']\n",
    "            self.is_attribute = True\n",
    "\n",
    "    def characters(self, content):\n",
    "        if self.is_attribute:\n",
    "            doc = self.nlp(content)\n",
    "            matches = matcher(doc)\n",
    "            if len(matches) == 1:\n",
    "                match_id, start, end = matches[0]\n",
    "                match = doc[start:end]\n",
    "                self.sample_dict[self.biosample_id] = match.text.lower()\n",
    "                self.attribute_dict[self.biosample_id] = self.attribute_name\n",
    "            elif len(matches) > 1:\n",
    "                print('Multiple matches found for', content)\n",
    "        self.is_attribute = False\n",
    "\n",
    "    def endElement(self, name):\n",
    "        if name == 'BioSample':\n",
    "            if self.biosample_id not in self.sample_dict:\n",
    "                self.sample_dict[self.biosample_id] = None\n",
    "                self.attribute_dict[self.biosample_id] = None\n",
    "\n",
    "    def endDocument(self):\n",
    "        print('Finished parsing BioSamples XML file')"
   ]
  },
  {
   "cell_type": "code",
   "execution_count": 31,
   "metadata": {},
   "outputs": [
    {
     "name": "stdout",
     "output_type": "stream",
     "text": [
      "Multiple matches found for National Heart Lung and Blood Institute (NHLBI) GO-ESP: Heart Cohorts Component of the Exome Sequencing Project (FHS)\n",
      "Multiple matches found for Cancer Genetic Markers of Susceptibility for Bladder Cancer (CGEMS Bladder)\n",
      "Multiple matches found for Cancer Genetic Markers of Susceptibility for Bladder Cancer (CGEMS Bladder)\n",
      "Multiple matches found for Cancer Genetic Markers of Susceptibility for Bladder Cancer (CGEMS Bladder)\n",
      "Multiple matches found for Primary Blood Derived Cancer - Peripheral Blood\n",
      "Multiple matches found for Primary Blood Derived Cancer - Bone Marrow\n",
      "Multiple matches found for Brain - Cerebellum\n",
      "Multiple matches found for Framingham SHARe Ankle Arm Blood Pressure\n",
      "Multiple matches found for Framingham SHARe Ankle Arm Blood Pressure\n",
      "Multiple matches found for Framingham SHARe Ankle Arm Blood Pressure\n",
      "Multiple matches found for Framingham SHARe Ankle Arm Blood Pressure\n",
      "Multiple matches found for Framingham SHARe Ankle Arm Blood Pressure\n",
      "Multiple matches found for Framingham SHARe Thoracic Aorta, Abdominal Aorta and Pulmonary Artery Diameters by Multidetector CT\n",
      "Multiple matches found for Framingham SHARe Thoracic Aorta, Abdominal Aorta and Pulmonary Artery Diameters by Multidetector CT\n",
      "Multiple matches found for UBERON:skin of limb\n",
      "Multiple matches found for Targeted Sequencing of GWAS Loci in Cleft Lip and Palate\n",
      "Multiple matches found for NHLBI GO-ESP: Lung Cohorts Exome Sequencing Project (Acute Lung Injury)\n",
      "Multiple matches found for blood - buffy coat\n",
      "Multiple matches found for Soybean Early Maturation Stage-Axis Epidermis\n",
      "Multiple matches found for Soybean Early Maturation Stage-Axis Epidermis\n",
      "Multiple matches found for Skin sample taken from back of leg of subject to study human microbiome\n",
      "Multiple matches found for UBERON:skin of leg\n",
      "Multiple matches found for UBERON:mucosa of stomach\n",
      "Multiple matches found for UBERON:mucosa of stomach\n",
      "Multiple matches found for Cancer Genetic Markers of Susceptibility for Bladder Cancer (CGEMS Bladder)\n",
      "Multiple matches found for The Breast and Prostate Cancer Cohort Consortium (BPC3)\n",
      "Multiple matches found for The Breast and Prostate Cancer Cohort Consortium (BPC3)\n",
      "Multiple matches found for The Breast and Prostate Cancer Cohort Consortium (BPC3)\n",
      "Multiple matches found for Brain Heart Infusion agar plates (EMD, Gibbstown, NJ)\n",
      "Multiple matches found for Saliva or Blood\n",
      "Multiple matches found for blood - buffy coat\n",
      "Multiple matches found for head amputation plane, anterior to collar\n",
      "Multiple matches found for Brain cell (Neuron)\n",
      "Multiple matches found for Blastomere, 4-cell embryo\n",
      "Multiple matches found for BrainSpan Atlas of the Developing and Adult Human Brain\n",
      "Multiple matches found for BrainSpan Atlas of the Developing and Adult Human Brain\n",
      "Multiple matches found for Breast milk\n",
      "Multiple matches found for Primarily breast milk\n",
      "Multiple matches found for A mixture of breast milk and formula\n",
      "Multiple matches found for Department of Plant Biotechnology and Bioinformatics, Ghent University, Gent, Belgium Department of Plant Systems Biology,VIB, Gent, Belgium\n",
      "Multiple matches found for Department of Plant Biotechnology and Bioinformatics, Ghent University, Gent, Belgium Department of Plant Systems Biology,VIB, Gent, Belgium\n",
      "Multiple matches found for Primarily breast milk\n",
      "Multiple matches found for Primary Blood Derived Cancer - Peripheral Blood\n",
      "Multiple matches found for Brain cell (Neuron)\n",
      "Multiple matches found for Brain cell (Neuron)\n",
      "Multiple matches found for Sludge enrichment culture (phosphite + rumen fluid)\n",
      "Multiple matches found for the first female rattus norregicus fed with high-fat diet and low dose (10%) of whole grain highland barley\n",
      "Multiple matches found for Esophagus - Mucosa\n",
      "Multiple matches found for Brain - Nucleus accumbens (basal ganglia)\n",
      "Multiple matches found for brain capillary\n",
      "Multiple matches found for brain cerebellum\n",
      "Multiple matches found for monocyte-derived dendritic cell\n",
      "Multiple matches found for head and thorax\n",
      "Multiple matches found for Blood/Brain\n",
      "Multiple matches found for Blood/Brain\n",
      "Multiple matches found for source total RNA pool: 50% embryo, 50% placenta\n",
      "Multiple matches found for UBERON:hand skin\n",
      "Multiple matches found for Animal distal gut\n",
      "Multiple matches found for UBERON:skin of arm\n",
      "Multiple matches found for Animal secretion\n",
      "Multiple matches found for UBERON:skin of arm\n",
      "Multiple matches found for Animal secretion\n",
      "Multiple matches found for naive thymus-derived CD4-positive, alpha-beta T cell\n",
      "Multiple matches found for Primarily breast milk\n",
      "Multiple matches found for pooled pod, leaf, and root\n",
      "Multiple matches found for Leibniz Institute of Plant Genetics and Crop Plant Research\n",
      "Multiple matches found for Leibniz Institute of Plant Genetics and Crop Plant Research\n",
      "Multiple matches found for Leibniz Institute of Plant Genetics and Crop Plant Research\n",
      "Multiple matches found for Leibniz Institute of Plant Genetics and Crop Plant Research\n",
      "Multiple matches found for Leibniz Institute of Plant Genetics and Crop Plant Research\n",
      "Multiple matches found for Leibniz Institute of Plant Genetics and Crop Plant Research\n",
      "Multiple matches found for Leibniz Institute of Plant Genetics and Crop Plant Research\n",
      "Multiple matches found for Leibniz Institute of Plant Genetics and Crop Plant Research\n",
      "Multiple matches found for Leibniz Institute of Plant Genetics and Crop Plant Research\n",
      "Multiple matches found for Leibniz Institute of Plant Genetics and Crop Plant Research\n",
      "Multiple matches found for Leibniz Institute of Plant Genetics and Crop Plant Research\n",
      "Multiple matches found for Leibniz Institute of Plant Genetics and Crop Plant Research\n",
      "Multiple matches found for Leibniz Institute of Plant Genetics and Crop Plant Research\n",
      "Multiple matches found for Leibniz Institute of Plant Genetics and Crop Plant Research\n",
      "Multiple matches found for Leibniz Institute of Plant Genetics and Crop Plant Research\n",
      "Multiple matches found for Leibniz Institute of Plant Genetics and Crop Plant Research\n",
      "Multiple matches found for Leibniz Institute of Plant Genetics and Crop Plant Research\n",
      "Multiple matches found for Leibniz Institute of Plant Genetics and Crop Plant Research\n",
      "Multiple matches found for Leibniz Institute of Plant Genetics and Crop Plant Research\n",
      "Multiple matches found for Leibniz Institute of Plant Genetics and Crop Plant Research\n",
      "Multiple matches found for Leibniz Institute of Plant Genetics and Crop Plant Research\n",
      "Multiple matches found for Head and Neck Neoplasms\n",
      "Multiple matches found for Blood or lymphoblast cell lines derived from blood\n",
      "Multiple matches found for spleen and lymph node\n",
      "Multiple matches found for Cortex, hippocampus and subventricular zone\n",
      "Multiple matches found for Murine Adult Spleen CD4 T Cells\n",
      "Multiple matches found for left temporal lobe (fusiform gyrus)/ hippocampus\n",
      "Multiple matches found for Sample from bone or joint\n",
      "Multiple matches found for flower/leaf\n",
      "Multiple matches found for A mixture of breast milk and formula\n",
      "Multiple matches found for Prostate, Lung, Colorectal, and Ovarian Cancer Screening Trial (PLCO)\n",
      "Multiple matches found for Cerebellum; Frontal cortex\n",
      "Multiple matches found for perilesional skin (epidermis)\n",
      "Multiple matches found for stem, 2nd internode\n",
      "Multiple matches found for animal ovary\n",
      "Multiple matches found for colon/rectum\n",
      "Multiple matches found for peripheral blood plasma\n",
      "Multiple matches found for scRNA-Seq Reveals Lymphoma B Cell Diversity and T Cell Immune Checkpoint Co-Expression\n",
      "Multiple matches found for Brain - Hippocampus\n",
      "Multiple matches found for A mixture of breast milk and formula\n",
      "Multiple matches found for lab-scale biofilm from S2-P5\n",
      "Multiple matches found for Head and neck cancer single cell\n",
      "Multiple matches found for Head and neck cancer single cell\n",
      "Multiple matches found for Head and neck cancer single cell\n",
      "Multiple matches found for Colon/rectum\n",
      "Multiple matches found for gluteus medius muscle\n",
      "Multiple matches found for Head/Abdomen\n",
      "Multiple matches found for Head/Abdomen\n",
      "Multiple matches found for Spleen and peripheral lymph nodes\n",
      "Multiple matches found for DNA from blood or saliva\n",
      "Multiple matches found for full mature root system (include lateral root) 5 weeks post germination\n",
      "Multiple matches found for Plant Seed Source Selection Study (PSSSS)\n",
      "Multiple matches found for Plant Seed Source Selection Study (PSSSS)\n",
      "Multiple matches found for The Prostate, Lung, Colon, Ovary Screening Trial (PLCO)\n",
      "Multiple matches found for The Prostate, Lung, Colon, Ovary Screening Trial (PLCO)\n",
      "Multiple matches found for The Prostate, Lung, Colon, Ovary Screening Trial (PLCO)\n",
      "Multiple matches found for The Prostate, Lung, Colon, Ovary Screening Trial (PLCO)\n",
      "Multiple matches found for The Prostate, Lung, Colon, Ovary Screening Trial (PLCO)\n",
      "Multiple matches found for primary bladder epithelial cell\n",
      "Multiple matches found for primary bladder epithelial cell\n",
      "Multiple matches found for CTCs from prostate patients' blood sample\n",
      "Multiple matches found for Amplicon metagenomics of root-associated fungi\n",
      "Multiple matches found for Shoot-phloem-companion-cell-tagged INTACT reporter line containing two transgenes: pSUC2::RedNTF, pUBQ10::BirA\n",
      "Multiple matches found for shoot phloem companion cells\n",
      "Multiple matches found for Primarily breast milk\n",
      "Multiple matches found for Primarily breast milk\n",
      "Multiple matches found for MAX PLANCK INSTITUTE FOR HEART AND LUNG RESEARCH\n",
      "Multiple matches found for MAX PLANCK INSTITUTE FOR HEART AND LUNG RESEARCH\n",
      "Multiple matches found for MAX PLANCK INSTITUTE FOR HEART AND LUNG RESEARCH\n",
      "Multiple matches found for MAX PLANCK INSTITUTE FOR HEART AND LUNG RESEARCH\n",
      "Multiple matches found for epithelial cell line derived from a human prostate carcinoma\n",
      "Multiple matches found for SSD derived material from a single seed of a single plant belonging to accession IPK:HOR 7496\n",
      "Multiple matches found for Individual plants were grown in a greenhouse for 2 weeks using Quickpot QP 96 T propagation trays (Hermann Meyer). Two leaf segments (each approximately 3 cm in length and 0.5 to 0.8 cm wide) were placed in a 96-well polypropylene cluster tube (1.2 ml, 8 tube stripe format; Corning) containing one 4 mm glass bead (ROTH). A second glass bead was placed on top, and the tube was closed with 8-cap tube strips (Heinemann Labortechnik). Samples were frozen in liquid nitrogen and stored at -80°C.\n",
      "Multiple matches found for SSD derived material from a single seed of a single plant belonging to accession IPK:HOR 6235\n",
      "Multiple matches found for Individual plants were grown in a greenhouse for 2 weeks using Quickpot QP 96 T propagation trays (Hermann Meyer). Two leaf segments (each approximately 3 cm in length and 0.5 to 0.8 cm wide) were placed in a 96-well polypropylene cluster tube (1.2 ml, 8 tube stripe format; Corning) containing one 4 mm glass bead (ROTH). A second glass bead was placed on top, and the tube was closed with 8-cap tube strips (Heinemann Labortechnik). Samples were frozen in liquid nitrogen and stored at -80°C.\n",
      "Multiple matches found for SSD derived material from a single seed of a single plant belonging to accession IPK:HOR 5061\n",
      "Multiple matches found for Individual plants were grown in a greenhouse for 2 weeks using Quickpot QP 96 T propagation trays (Hermann Meyer). Two leaf segments (each approximately 3 cm in length and 0.5 to 0.8 cm wide) were placed in a 96-well polypropylene cluster tube (1.2 ml, 8 tube stripe format; Corning) containing one 4 mm glass bead (ROTH). A second glass bead was placed on top, and the tube was closed with 8-cap tube strips (Heinemann Labortechnik). Samples were frozen in liquid nitrogen and stored at -80°C.\n",
      "Multiple matches found for SSD derived material from a single seed of a single plant belonging to accession IPK:HOR 3621\n",
      "Multiple matches found for Individual plants were grown in a greenhouse for 2 weeks using Quickpot QP 96 T propagation trays (Hermann Meyer). Two leaf segments (each approximately 3 cm in length and 0.5 to 0.8 cm wide) were placed in a 96-well polypropylene cluster tube (1.2 ml, 8 tube stripe format; Corning) containing one 4 mm glass bead (ROTH). A second glass bead was placed on top, and the tube was closed with 8-cap tube strips (Heinemann Labortechnik). Samples were frozen in liquid nitrogen and stored at -80°C.\n",
      "Multiple matches found for skeletal muscle myoblast\n",
      "Multiple matches found for exosomes from cerebrospinal fluid (CSF)\n",
      "Multiple matches found for exosomes from cerebrospinal fluid (CSF)\n",
      "Multiple matches found for NATIONAL HEART AND LUNG INSTITUTE, IMPERIAL COLLEGE LONDON\n",
      "Multiple matches found for NATIONAL HEART AND LUNG INSTITUTE, IMPERIAL COLLEGE LONDON\n",
      "Multiple matches found for Brain myeloid cell\n",
      "Multiple matches found for Breast milk\n",
      "Multiple matches found for Leaf material from rosette stage Nicotiana attenuata wild type, biological replicate 3, was harvested 12 hour after infection, total RNA was isolated. Small RNA was isolated from the total RNA and used for HiSeq library construction.\n",
      "Multiple matches found for Non-microglia isolated from whole brain\n",
      "Multiple matches found for antagonistic towards plant pathogenic fungi\n",
      "Multiple matches found for brain; striatum\n",
      "Multiple matches found for Treponema pallidum subsp. pallidum str. Nichols\n",
      "Multiple matches found for Treponema pallidum subsp. pallidum str. Nichols\n",
      "Multiple matches found for Host-associated | Mammals | Digestive system | Large intestine | Fecal\n",
      "Multiple matches found for Head, Neck\n",
      "Multiple matches found for Embryo/Fin\n",
      "Multiple matches found for vastus lateralis muscle\n",
      "Multiple matches found for Brain (middle temporal gyrus)\n",
      "Multiple matches found for Brain (middle temporal gyrus)\n",
      "Multiple matches found for Brain (middle temporal gyrus)\n",
      "Multiple matches found for Brain (middle temporal gyrus)\n",
      "Multiple matches found for Brain (middle temporal gyrus)\n",
      "Multiple matches found for cambium,xylem\n",
      "Multiple matches found for Gastrocnemius skeletal muscle\n",
      "Multiple matches found for Animal distal gut\n",
      "Multiple matches found for rhizosphere soil seedling\n",
      "Multiple matches found for Human embryonic stem cells-derived retinal pigment epithelium\n",
      "Multiple matches found for Human embryonic stem cells-derived retinal pigment epithelium\n",
      "Multiple matches found for adult polyp\n",
      "Multiple matches found for A prospective study on child morbidity and gut microbiota in rural Malawi\n",
      "Multiple matches found for muscle/liver\n",
      "Multiple matches found for Vastus Lateralis Muscle\n",
      "Multiple matches found for soil and root\n",
      "Multiple matches found for adult colon\n",
      "Multiple matches found for forelimb bud at E11.5\n",
      "Multiple matches found for forelimb bud\n",
      "Multiple matches found for fibroblast of dermis\n",
      "Multiple matches found for heart/liver/breast muscle\n",
      "Multiple matches found for Leibniz Institute of Plant Genetics and Crop Plant Research\n",
      "Multiple matches found for Leibniz Institute of Plant Genetics and Crop Plant Research\n",
      "Multiple matches found for Stewart RD, Auffret MD, Warr A, Walker AW, Roehe R, Watson M. Compendium of 4,941 rumen metagenome-assembled genomes for rumen microbiome biology and enzyme discovery. (2019) Nat Biotechnol. 37(8):953-961. doi: 10.1038/s41587-019-0202-3.\n",
      "Multiple matches found for FACS isolated adult microglia\n",
      "Multiple matches found for adult kidney\n",
      "Multiple matches found for pooled (leaf, stem, root)\n",
      "Multiple matches found for Thorax, adult\n",
      "Multiple matches found for fin or gill\n",
      "Multiple matches found for Associations of Serum cathepsin K and Polymorphisms in the CTSK Gene With Bone Mineral Density and Markers of Bone Metabolism in Postmenopausal Chinese Women\n",
      "Multiple matches found for NHLBI Recipient Epidemiology Donor Evaluation Study (REDS)-III - Red Blood Cell Omics (RBC-Omics) Study\n",
      "Multiple matches found for NHLBI Recipient Epidemiology Donor Evaluation Study (REDS)-III - Red Blood Cell Omics (RBC-Omics) Study\n",
      "Multiple matches found for The integration of classic and OMICS disciplines allows us to confirm several characteristics of schizophrenia that have been previously described using classical technologies in the study of the brain or cerebrospinal fluid; however, these observations reported by these studies could be made from non-invasive patient samples such as plasma or urine by the approach of Gestaltomics. We analyzed 10 SNPs selected of the genes DDC, IDO2 and SMARCAL1. We did not performed GWA studies with the microarray data.\n",
      "Multiple matches found for The integration of classic and OMICS disciplines allows us to confirm several characteristics of schizophrenia that have been previously described using classical technologies in the study of the brain or cerebrospinal fluid; however, these observations reported by these studies could be made from non-invasive patient samples such as plasma or urine by the approach of Gestaltomics. We analyzed 10 SNPs selected of the genes DDC, IDO2 and SMARCAL1. We did not performed GWA studies with the microarray data.\n",
      "Multiple matches found for plant soil\n",
      "Multiple matches found for Animal secretion\n",
      "Multiple matches found for Brain prefrontal cortex neurons (NeuN+)\n",
      "Multiple matches found for Brain prefrontal cortex neurons (NeuN+)\n",
      "Multiple matches found for UBERON:arm skin\n",
      "Multiple matches found for Animal distal gut\n",
      "Multiple matches found for Animal secretion\n",
      "Multiple matches found for UBERON:arm skin\n",
      "Multiple matches found for Animal distal gut\n",
      "Multiple matches found for Shell cleaned with 70% ethanol, frozen, DNA extraction (Qiagen DNeasy Blood \n",
      "Multiple matches found for Mouse back skin\n",
      "Multiple matches found for Whole polyp cell suspension neuron\n",
      "Multiple matches found for swab; skin; ear canal; Dog 2\n",
      "Multiple matches found for hESC-derived ectoderm-directed differentiation, pre- mesendoderm competence loss\n",
      "Multiple matches found for Landscape of Intratumoral NK Cell and ILC in Head and Neck Squamous Cell Carcinoma\n",
      "Multiple matches found for Human Embryo and Stem Cell Laboratory, The Francis Crick Institute, 1 Midland Road, London NW1 1AT, UK\n",
      "Multiple matches found for early embryo blastomere\n",
      "Multiple matches found for Olfactory bulb dopaminergic neuron\n",
      "Multiple matches found for adult carcass\n",
      "Multiple matches found for Marrow-depleted left femur - homogenate\n",
      "Multiple matches found for Animal distal gut\n",
      "Multiple matches found for healthy infant fed breast milk\n",
      "Multiple matches found for Animal distal gut\n",
      "Multiple matches found for adipose fin\n",
      "Multiple matches found for adipose fin\n",
      "Multiple matches found for muscle/heart/liver\n",
      "Multiple matches found for Arm vein\n",
      "Multiple matches found for Arm vein\n",
      "Multiple matches found for Arm vein\n",
      "Multiple matches found for Arm vein\n",
      "Multiple matches found for Arm vein\n",
      "Multiple matches found for Arm vein\n",
      "Multiple matches found for nose-oropharynx\n",
      "Multiple matches found for mixed spleen and lymph node\n",
      "Multiple matches found for Plant root\n",
      "Multiple matches found for 90 cores 5 cm deep were collected with a soil corer and homogenized together. Microcosms were created with 15 g dry weight soil and treated with a mixutre of all 9 substrates. After a specified incubation time, microcosm soil was removed using a sterile spatula and stored at -80C\n",
      "Multiple matches found for Kidney glomerular single cells - mouse kidney glomeruli (exclusion of CD45+ and CD31+ cells)\n",
      "Multiple matches found for Kidney glomerulus\n",
      "Multiple matches found for Polygenic Risk Score for the Prediction of Breast Cancer Is Related to Lesser Terminal Duct Lobular Unit Involution of the Breast\n",
      "Multiple matches found for heart; myocardium\n",
      "Multiple matches found for ileum intestine contents\n",
      "Multiple matches found for An adult male donor who died of a traumatic brain injury\n",
      "Multiple matches found for Treponema pallidum subsp. pallidum\n",
      "Multiple matches found for Leibniz Institute of Plant Genetics and Crop Plant Research\n",
      "Multiple matches found for Preoptic area of the hypothalamus\n",
      "Multiple matches found for Preoptic area of the hypothalamus\n",
      "Multiple matches found for animal distal gut\n",
      "Multiple matches found for liver/muscle\n",
      "Multiple matches found for LONGISSIMUS DORSI MUSCLE\n",
      "Multiple matches found for gut, oral cavity, nasal cavity\n",
      "Multiple matches found for epithelium of vagina\n",
      "Multiple matches found for Yale SPORE in Skin Cancer Project 2\n",
      "Multiple matches found for Yale SPORE in Skin Cancer Project 2\n",
      "Multiple matches found for Yale SPORE in Skin Cancer Project 2\n",
      "Multiple matches found for Yale SPORE in Skin Cancer Project 2\n",
      "Multiple matches found for Yale SPORE in Skin Cancer Project 2\n",
      "Multiple matches found for Yale SPORE in Skin Cancer Project 2\n",
      "Multiple matches found for Yale SPORE in Skin Cancer Project 2\n",
      "Multiple matches found for Yale SPORE in Skin Cancer Project 2\n",
      "Multiple matches found for Yale SPORE in Skin Cancer Project 2\n",
      "Multiple matches found for Yale SPORE in Skin Cancer Project 2\n",
      "Multiple matches found for Yale SPORE in Skin Cancer Project 2\n",
      "Multiple matches found for Yale SPORE in Skin Cancer Project 2\n",
      "Multiple matches found for Yale SPORE in Skin Cancer Project 2\n",
      "Multiple matches found for Yale SPORE in Skin Cancer Project 2\n",
      "Multiple matches found for Yale SPORE in Skin Cancer Project 2\n",
      "Multiple matches found for Yale SPORE in Skin Cancer Project 2\n",
      "Multiple matches found for Yale SPORE in Skin Cancer Project 2\n",
      "Multiple matches found for Yale SPORE in Skin Cancer Project 2\n",
      "Multiple matches found for Hematopoietic stem cells (HSC)\n",
      "Multiple matches found for Animal distal gut\n",
      "Multiple matches found for Animal distal gut\n",
      "Multiple matches found for Animal distal gut\n",
      "Multiple matches found for Animal distal gut\n",
      "Multiple matches found for A mixture of breast milk and formula\n",
      "Multiple matches found for sporophyte vegetative stage\n",
      "Multiple matches found for THALLUS FUNGI\n",
      "Multiple matches found for Fetal gut, lungs, skin, thymus, spleen and placenta\n",
      "Multiple matches found for soil culture medium\n",
      "Multiple matches found for Gut microbiota predicts body fat change following a Low Energy Diet: a PREVIEW sub-study\n",
      "Multiple matches found for Gut microbiota predicts body fat change following a Low Energy Diet: a PREVIEW sub-study\n",
      "Multiple matches found for Adult thymus\n",
      "Multiple matches found for Animal distal gut\n",
      "Multiple matches found for NHLBI TOPMed: Integrative Genomic Studies of Heart and Blood Related Traits in Africans (Africa6K)\n",
      "Multiple matches found for NHLBI TOPMed: Integrative Genomic Studies of Heart and Blood Related Traits in Africans (Africa6K)\n",
      "Multiple matches found for Brain region: Lateral habenula\n",
      "Multiple matches found for ear bract primordium\n",
      "Multiple matches found for vegetative shoot system\n",
      "Multiple matches found for vegetative shoot system\n",
      "Multiple matches found for Genomic DNA was extracted from 100 mg fresh leaf tissue collected from individual plants for each accession. DNA extraction was performed either with the DNeasy® Plant Mini Kit (QIAGEN), Germany) or the Sbeadex maxi plant kit (LGC Genomics), Teddington), UK).\n",
      "Multiple matches found for Leibniz Institute of Plant Genetics and Crop Plant Research\n",
      "Multiple matches found for Microspore-Derived Embryogenic Callus\n",
      "Multiple matches found for Identification of gut bacteria enriched in colorectal cancer patients with the ability to promote tumorigenesis via butyrate secretion\n",
      "Multiple matches found for Gut - faeces\n",
      "Multiple matches found for Breast; Mammary gland\n",
      "Multiple matches found for Mouse LGN - Shell\n",
      "Multiple matches found for The Prostate, Lung, Colon, Ovary Screening Trial (PLCO)\n",
      "Multiple matches found for The Prostate, Lung, Colon, Ovary Screening Trial (PLCO)\n",
      "Multiple matches found for The Prostate, Lung, Colon, Ovary Screening Trial (PLCO)\n",
      "Multiple matches found for The Prostate, Lung, Colon, Ovary Screening Trial (PLCO)\n",
      "Multiple matches found for The Prostate, Lung, Colon, Ovary Screening Trial (PLCO)\n",
      "Multiple matches found for The Prostate, Lung, Colon, Ovary Screening Trial (PLCO)\n",
      "Multiple matches found for The Prostate, Lung, Colon, Ovary Screening Trial (PLCO)\n",
      "Multiple matches found for The Prostate, Lung, Colon, Ovary Screening Trial (PLCO)\n",
      "Multiple matches found for The Prostate, Lung, Colon, Ovary Screening Trial (PLCO)\n",
      "Multiple matches found for The Prostate, Lung, Colon, Ovary Screening Trial (PLCO)\n",
      "Multiple matches found for The Prostate, Lung, Colon, Ovary Screening Trial (PLCO)\n",
      "Multiple matches found for The Prostate, Lung, Colon, Ovary Screening Trial (PLCO)\n",
      "Multiple matches found for The Prostate, Lung, Colon, Ovary Screening Trial (PLCO)\n",
      "Multiple matches found for The Prostate, Lung, Colon, Ovary Screening Trial (PLCO)\n",
      "Multiple matches found for The Prostate, Lung, Colon, Ovary Screening Trial (PLCO)\n",
      "Multiple matches found for The Prostate, Lung, Colon, Ovary Screening Trial (PLCO)\n",
      "Multiple matches found for The Prostate, Lung, Colon, Ovary Screening Trial (PLCO)\n",
      "Multiple matches found for The Prostate, Lung, Colon, Ovary Screening Trial (PLCO)\n",
      "Multiple matches found for The Prostate, Lung, Colon, Ovary Screening Trial (PLCO)\n",
      "Multiple matches found for The Prostate, Lung, Colon, Ovary Screening Trial (PLCO)\n",
      "Multiple matches found for The Prostate, Lung, Colon, Ovary Screening Trial (PLCO)\n",
      "Multiple matches found for The Prostate, Lung, Colon, Ovary Screening Trial (PLCO)\n",
      "Multiple matches found for The Prostate, Lung, Colon, Ovary Screening Trial (PLCO)\n",
      "Multiple matches found for The Prostate, Lung, Colon, Ovary Screening Trial (PLCO)\n",
      "Multiple matches found for The Prostate, Lung, Colon, Ovary Screening Trial (PLCO)\n",
      "Multiple matches found for The Prostate, Lung, Colon, Ovary Screening Trial (PLCO)\n",
      "Multiple matches found for The Prostate, Lung, Colon, Ovary Screening Trial (PLCO)\n",
      "Multiple matches found for The Prostate, Lung, Colon, Ovary Screening Trial (PLCO)\n",
      "Multiple matches found for The Prostate, Lung, Colon, Ovary Screening Trial (PLCO)\n",
      "Multiple matches found for The Prostate, Lung, Colon, Ovary Screening Trial (PLCO)\n",
      "Multiple matches found for The Prostate, Lung, Colon, Ovary Screening Trial (PLCO)\n",
      "Multiple matches found for The Prostate, Lung, Colon, Ovary Screening Trial (PLCO)\n",
      "Multiple matches found for The Prostate, Lung, Colon, Ovary Screening Trial (PLCO)\n",
      "Multiple matches found for The Prostate, Lung, Colon, Ovary Screening Trial (PLCO)\n",
      "Multiple matches found for The Prostate, Lung, Colon, Ovary Screening Trial (PLCO)\n",
      "Multiple matches found for The Prostate, Lung, Colon, Ovary Screening Trial (PLCO)\n",
      "Multiple matches found for The Prostate, Lung, Colon, Ovary Screening Trial (PLCO)\n",
      "Multiple matches found for The Prostate, Lung, Colon, Ovary Screening Trial (PLCO)\n",
      "Multiple matches found for The Prostate, Lung, Colon, Ovary Screening Trial (PLCO)\n",
      "Multiple matches found for The Prostate, Lung, Colon, Ovary Screening Trial (PLCO)\n",
      "Multiple matches found for The Prostate, Lung, Colon, Ovary Screening Trial (PLCO)\n",
      "Multiple matches found for The Prostate, Lung, Colon, Ovary Screening Trial (PLCO)\n",
      "Multiple matches found for The Prostate, Lung, Colon, Ovary Screening Trial (PLCO)\n",
      "Multiple matches found for The Prostate, Lung, Colon, Ovary Screening Trial (PLCO)\n",
      "Multiple matches found for The Prostate, Lung, Colon, Ovary Screening Trial (PLCO)\n",
      "Multiple matches found for The Prostate, Lung, Colon, Ovary Screening Trial (PLCO)\n",
      "Multiple matches found for Root zone soil\n",
      "Multiple matches found for Root zone soil\n",
      "Multiple matches found for Ocular Lens Capsular Epithelium\n",
      "Multiple matches found for Animal distal gut\n",
      "Multiple matches found for Total Spinal Cord Lysate\n",
      "Multiple matches found for Animal secretion\n",
      "Multiple matches found for Skin-hair\n",
      "Multiple matches found for Adult plant\n",
      "Multiple matches found for seedling of 2-23 leaf\n",
      "Multiple matches found for GILL ANIMAL\n",
      "Multiple matches found for For DNA extraction, ten seeds of one genotype were grown in the greenhouse and a single, approximately 10 cm leaf was harvested from a 10-days-old seedling.\n",
      "Multiple matches found for For DNA extraction, ten seeds of one genotype were grown in the greenhouse and a single, approximately 10 cm leaf was harvested from a 10-days-old seedling.\n",
      "Multiple matches found for Department of Bacteria, Parasites and Fungi, Statens Serum Institut, Copenhagen, Denmark\n",
      "Multiple matches found for Department of Bacteria, Parasites and Fungi, Statens Serum Institut, Copenhagen, Denmark\n",
      "Multiple matches found for Department of Bacteria, Parasites and Fungi, Statens Serum Institut, Copenhagen, Denmark\n",
      "Multiple matches found for Department of Bacteria, Parasites and Fungi, Statens Serum Institut, Copenhagen, Denmark\n",
      "Multiple matches found for Department of Bacteria, Parasites and Fungi, Statens Serum Institut, Copenhagen, Denmark\n",
      "Multiple matches found for Department of Bacteria, Parasites and Fungi, Statens Serum Institut, Copenhagen, Denmark\n",
      "Multiple matches found for Department of Bacteria, Parasites and Fungi, Statens Serum Institut, Copenhagen, Denmark\n",
      "Multiple matches found for Blood bacterial DNAemia is associated to serum zonulin level in older subjects\n",
      "Multiple matches found for Skeletal muscles (tibialis anterior, gastrocnemius and quadriceps)\n",
      "Multiple matches found for Department of Bacteria, Parasites and Fungi, Statens Serum Institut, Copenhagen, Denmark\n",
      "Multiple matches found for Department of Bacteria, Parasites and Fungi, Statens Serum Institut, Copenhagen, Denmark\n",
      "Multiple matches found for Department of Bacteria, Parasites and Fungi, Statens Serum Institut, Copenhagen, Denmark\n",
      "Multiple matches found for Department of Bacteria, Parasites and Fungi, Statens Serum Institut, Copenhagen, Denmark\n",
      "Multiple matches found for vasculature of brain\n",
      "Multiple matches found for embryonic hindlimb bud\n",
      "Multiple matches found for embryonic hindlimb bud\n",
      "Multiple matches found for head and neck squamous cell carinoma (HNSCC)\n",
      "Multiple matches found for Head-Thorax\n",
      "Multiple matches found for Animal secretion\n",
      "Multiple matches found for Department of Bacteria, Parasites and Fungi, Statens Serum Institut, Copenhagen, Denmark\n",
      "Multiple matches found for Department of Bacteria, Parasites and Fungi, Statens Serum Institut, Copenhagen, Denmark\n",
      "Multiple matches found for Department of Bacteria, Parasites and Fungi, Statens Serum Institut, Copenhagen, Denmark\n",
      "Multiple matches found for Department of Bacteria, Parasites and Fungi, Statens Serum Institut, Copenhagen, Denmark\n",
      "Multiple matches found for Department of Bacteria, Parasites and Fungi, Statens Serum Institut, Copenhagen, Denmark\n",
      "Multiple matches found for Department of Bacteria, Parasites and Fungi, Statens Serum Institut, Copenhagen, Denmark\n",
      "Multiple matches found for Department of Bacteria, Parasites and Fungi, Statens Serum Institut, Copenhagen, Denmark\n",
      "Multiple matches found for Department of Bacteria, Parasites and Fungi, Statens Serum Institut, Copenhagen, Denmark\n",
      "Multiple matches found for Department of Bacteria, Parasites and Fungi, Statens Serum Institut, Copenhagen, Denmark\n",
      "Multiple matches found for Department of Bacteria, Parasites and Fungi, Statens Serum Institut, Copenhagen, Denmark\n",
      "Multiple matches found for Department of Bacteria, Parasites and Fungi, Statens Serum Institut, Copenhagen, Denmark\n",
      "Multiple matches found for Department of Bacteria, Parasites and Fungi, Statens Serum Institut, Copenhagen, Denmark\n",
      "Multiple matches found for Department of Bacteria, Parasites and Fungi, Statens Serum Institut, Copenhagen, Denmark\n",
      "Multiple matches found for Fibroblast-like synoviocytes from rheumatoid arthritis (RA) donors cocultured with CD4 T cells from healthy donors\n",
      "Multiple matches found for whole blood (PBMC)\n",
      "Multiple matches found for Department of Bacteria, Parasites and Fungi, Statens Serum Institut, Copenhagen, Denmark\n",
      "Multiple matches found for Department of Bacteria, Parasites and Fungi, Statens Serum Institut, Copenhagen, Denmark\n",
      "Multiple matches found for Department of Bacteria, Parasites and Fungi, Statens Serum Institut, Copenhagen, Denmark\n",
      "Multiple matches found for Department of Bacteria, Parasites and Fungi, Statens Serum Institut, Copenhagen, Denmark\n",
      "Multiple matches found for Department of Bacteria, Parasites and Fungi, Statens Serum Institut, Copenhagen, Denmark\n",
      "Multiple matches found for Department of Bacteria, Parasites and Fungi, Statens Serum Institut, Copenhagen, Denmark\n",
      "Multiple matches found for Department of Bacteria, Parasites and Fungi, Statens Serum Institut, Copenhagen, Denmark\n",
      "Multiple matches found for Department of Bacteria, Parasites and Fungi, Statens Serum Institut, Copenhagen, Denmark\n",
      "Multiple matches found for Department of Bacteria, Parasites and Fungi, Statens Serum Institut, Copenhagen, Denmark\n",
      "Multiple matches found for Department of Bacteria, Parasites and Fungi, Statens Serum Institut, Copenhagen, Denmark\n",
      "Multiple matches found for Department of Bacteria, Parasites and Fungi, Statens Serum Institut, Copenhagen, Denmark\n",
      "Multiple matches found for Department of Bacteria, Parasites and Fungi, Statens Serum Institut, Copenhagen, Denmark\n",
      "Multiple matches found for Department of Bacteria, Parasites and Fungi, Statens Serum Institut, Copenhagen, Denmark\n",
      "Multiple matches found for Department of Bacteria, Parasites and Fungi, Statens Serum Institut, Copenhagen, Denmark\n",
      "Multiple matches found for Department of Bacteria, Parasites and Fungi, Statens Serum Institut, Copenhagen, Denmark\n",
      "Multiple matches found for Department of Bacteria, Parasites and Fungi, Statens Serum Institut, Copenhagen, Denmark\n",
      "Multiple matches found for Department of Bacteria, Parasites and Fungi, Statens Serum Institut, Copenhagen, Denmark\n",
      "Multiple matches found for Department of Bacteria, Parasites and Fungi, Statens Serum Institut, Copenhagen, Denmark\n",
      "Multiple matches found for HEAD | THORAX\n",
      "Multiple matches found for brain striatum\n",
      "Multiple matches found for brain striatum\n",
      "Multiple matches found for Department of Bacteria, Parasites and Fungi, Statens Serum Institut, Copenhagen, Denmark\n",
      "Multiple matches found for Department of Bacteria, Parasites and Fungi, Statens Serum Institut, Copenhagen, Denmark\n",
      "Multiple matches found for Department of Bacteria, Parasites and Fungi, Statens Serum Institut, Copenhagen, Denmark\n",
      "Multiple matches found for Department of Bacteria, Parasites and Fungi, Statens Serum Institut, Copenhagen, Denmark\n",
      "Multiple matches found for Department of Bacteria, Parasites and Fungi, Statens Serum Institut, Copenhagen, Denmark\n",
      "Multiple matches found for Department of Bacteria, Parasites and Fungi, Statens Serum Institut, Copenhagen, Denmark\n",
      "Multiple matches found for Department of Bacteria, Parasites and Fungi, Statens Serum Institut, Copenhagen, Denmark\n",
      "Multiple matches found for Department of Bacteria, Parasites and Fungi, Statens Serum Institut, Copenhagen, Denmark\n",
      "Multiple matches found for Department of Bacteria, Parasites and Fungi, Statens Serum Institut, Copenhagen, Denmark\n",
      "Multiple matches found for THALLUS PLANT\n",
      "Multiple matches found for Department of Bacteria, Parasites and Fungi, Statens Serum Institut, Copenhagen, Denmark\n",
      "Multiple matches found for Department of Bacteria, Parasites and Fungi, Statens Serum Institut, Copenhagen, Denmark\n",
      "Multiple matches found for Department of Bacteria, Parasites and Fungi, Statens Serum Institut, Copenhagen, Denmark\n",
      "Multiple matches found for Department of Bacteria, Parasites and Fungi, Statens Serum Institut, Copenhagen, Denmark\n",
      "Multiple matches found for Department of Bacteria, Parasites and Fungi, Statens Serum Institut, Copenhagen, Denmark\n",
      "Multiple matches found for Department of Bacteria, Parasites and Fungi, Statens Serum Institut, Copenhagen, Denmark\n",
      "Multiple matches found for Department of Bacteria, Parasites and Fungi, Statens Serum Institut, Copenhagen, Denmark\n",
      "Multiple matches found for Department of Bacteria, Parasites and Fungi, Statens Serum Institut, Copenhagen, Denmark\n",
      "Multiple matches found for Department of Bacteria, Parasites and Fungi, Statens Serum Institut, Copenhagen, Denmark\n",
      "Multiple matches found for Department of Bacteria, Parasites and Fungi, Statens Serum Institut, Copenhagen, Denmark\n",
      "Multiple matches found for Department of Bacteria, Parasites and Fungi, Statens Serum Institut, Copenhagen, Denmark\n",
      "Multiple matches found for 16s rRNA skin forearm human microbiome\n",
      "Multiple matches found for leaf,flower\n",
      "Multiple matches found for Department of Bacteria, Parasites and Fungi, Statens Serum Institut, Copenhagen, Denmark\n",
      "Multiple matches found for Department of Bacteria, Parasites and Fungi, Statens Serum Institut, Copenhagen, Denmark\n",
      "Multiple matches found for Department of Bacteria, Parasites and Fungi, Statens Serum Institut, Copenhagen, Denmark\n",
      "Multiple matches found for Department of Bacteria, Parasites and Fungi, Statens Serum Institut, Copenhagen, Denmark\n",
      "Multiple matches found for Department of Bacteria, Parasites and Fungi, Statens Serum Institut, Copenhagen, Denmark\n",
      "Multiple matches found for Department of Bacteria, Parasites and Fungi, Statens Serum Institut, Copenhagen, Denmark\n",
      "Multiple matches found for Department of Bacteria, Parasites and Fungi, Statens Serum Institut, Copenhagen, Denmark\n",
      "Multiple matches found for Department of Bacteria, Parasites and Fungi, Statens Serum Institut, Copenhagen, Denmark\n",
      "Multiple matches found for blood buffy coat\n",
      "Multiple matches found for blood buffy coat\n",
      "Multiple matches found for Animal distal gut\n",
      "Multiple matches found for Department of Bacteria, Parasites and Fungi, Statens Serum Institut, Copenhagen, Denmark\n",
      "Multiple matches found for Department of Bacteria, Parasites and Fungi, Statens Serum Institut, Copenhagen, Denmark\n",
      "Multiple matches found for Department of Bacteria, Parasites and Fungi, Statens Serum Institut, Copenhagen, Denmark\n",
      "Multiple matches found for Department of Bacteria, Parasites and Fungi, Statens Serum Institut, Copenhagen, Denmark\n",
      "Multiple matches found for Department of Bacteria, Parasites and Fungi, Statens Serum Institut, Copenhagen, Denmark\n",
      "Multiple matches found for Department of Bacteria, Parasites and Fungi, Statens Serum Institut, Copenhagen, Denmark\n",
      "Multiple matches found for Department of Bacteria, Parasites and Fungi, Statens Serum Institut, Copenhagen, Denmark\n",
      "Multiple matches found for Department of Bacteria, Parasites and Fungi, Statens Serum Institut, Copenhagen, Denmark\n",
      "Multiple matches found for Department of Bacteria, Parasites and Fungi, Statens Serum Institut, Copenhagen, Denmark\n",
      "Multiple matches found for Department of Bacteria, Parasites and Fungi, Statens Serum Institut, Copenhagen, Denmark\n",
      "Multiple matches found for Department of Bacteria, Parasites and Fungi, Statens Serum Institut, Copenhagen, Denmark\n",
      "Multiple matches found for Department of Bacteria, Parasites and Fungi, Statens Serum Institut, Copenhagen, Denmark\n",
      "Multiple matches found for Department of Bacteria, Parasites and Fungi, Statens Serum Institut, Copenhagen, Denmark\n",
      "Multiple matches found for Department of Bacteria, Parasites and Fungi, Statens Serum Institut, Copenhagen, Denmark\n",
      "Multiple matches found for Department of Bacteria, Parasites and Fungi, Statens Serum Institut, Copenhagen, Denmark\n",
      "Multiple matches found for Department of Bacteria, Parasites and Fungi, Statens Serum Institut, Copenhagen, Denmark\n",
      "Multiple matches found for Department of Bacteria, Parasites and Fungi, Statens Serum Institut, Copenhagen, Denmark\n",
      "Multiple matches found for Department of Bacteria, Parasites and Fungi, Statens Serum Institut, Copenhagen, Denmark\n",
      "Multiple matches found for Department of Bacteria, Parasites and Fungi, Statens Serum Institut, Copenhagen, Denmark\n",
      "Multiple matches found for Department of Bacteria, Parasites and Fungi, Statens Serum Institut, Copenhagen, Denmark\n",
      "Multiple matches found for Department of Bacteria, Parasites and Fungi, Statens Serum Institut, Copenhagen, Denmark\n",
      "Multiple matches found for Department of Bacteria, Parasites and Fungi, Statens Serum Institut, Copenhagen, Denmark\n",
      "Multiple matches found for Department of Bacteria, Parasites and Fungi, Statens Serum Institut, Copenhagen, Denmark\n",
      "Multiple matches found for Department of Bacteria, Parasites and Fungi, Statens Serum Institut, Copenhagen, Denmark\n",
      "Multiple matches found for Department of Bacteria, Parasites and Fungi, Statens Serum Institut, Copenhagen, Denmark\n",
      "Multiple matches found for Department of Bacteria, Parasites and Fungi, Statens Serum Institut, Copenhagen, Denmark\n",
      "Multiple matches found for Department of Bacteria, Parasites and Fungi, Statens Serum Institut, Copenhagen, Denmark\n",
      "Multiple matches found for Department of Bacteria, Parasites and Fungi, Statens Serum Institut, Copenhagen, Denmark\n",
      "Multiple matches found for Department of Bacteria, Parasites and Fungi, Statens Serum Institut, Copenhagen, Denmark\n",
      "Multiple matches found for Department of Bacteria, Parasites and Fungi, Statens Serum Institut, Copenhagen, Denmark\n",
      "Multiple matches found for Department of Bacteria, Parasites and Fungi, Statens Serum Institut, Copenhagen, Denmark\n",
      "Multiple matches found for Department of Bacteria, Parasites and Fungi, Statens Serum Institut, Copenhagen, Denmark\n",
      "Multiple matches found for Department of Bacteria, Parasites and Fungi, Statens Serum Institut, Copenhagen, Denmark\n",
      "Multiple matches found for Department of Bacteria, Parasites and Fungi, Statens Serum Institut, Copenhagen, Denmark\n",
      "Multiple matches found for Department of Bacteria, Parasites and Fungi, Statens Serum Institut, Copenhagen, Denmark\n",
      "Multiple matches found for Department of Bacteria, Parasites and Fungi, Statens Serum Institut, Copenhagen, Denmark\n",
      "Multiple matches found for Department of Bacteria, Parasites and Fungi, Statens Serum Institut, Copenhagen, Denmark\n",
      "Multiple matches found for Department of Bacteria, Parasites and Fungi, Statens Serum Institut, Copenhagen, Denmark\n",
      "Multiple matches found for Department of Bacteria, Parasites and Fungi, Statens Serum Institut, Copenhagen, Denmark\n",
      "Multiple matches found for Department of Bacteria, Parasites and Fungi, Statens Serum Institut, Copenhagen, Denmark\n",
      "Multiple matches found for Department of Bacteria, Parasites and Fungi, Statens Serum Institut, Copenhagen, Denmark\n",
      "Multiple matches found for Department of Bacteria, Parasites and Fungi, Statens Serum Institut, Copenhagen, Denmark\n",
      "Multiple matches found for Department of Bacteria, Parasites and Fungi, Statens Serum Institut, Copenhagen, Denmark\n",
      "Multiple matches found for Department of Bacteria, Parasites and Fungi, Statens Serum Institut, Copenhagen, Denmark\n",
      "Multiple matches found for Department of Bacteria, Parasites and Fungi, Statens Serum Institut, Copenhagen, Denmark\n",
      "Multiple matches found for Department of Bacteria, Parasites and Fungi, Statens Serum Institut, Copenhagen, Denmark\n",
      "Multiple matches found for Department of Bacteria, Parasites and Fungi, Statens Serum Institut, Copenhagen, Denmark\n",
      "Multiple matches found for Department of Bacteria, Parasites and Fungi, Statens Serum Institut, Copenhagen, Denmark\n",
      "Multiple matches found for Department of Bacteria, Parasites and Fungi, Statens Serum Institut, Copenhagen, Denmark\n",
      "Multiple matches found for Department of Bacteria, Parasites and Fungi, Statens Serum Institut, Copenhagen, Denmark\n",
      "Multiple matches found for Department of Bacteria, Parasites and Fungi, Statens Serum Institut, Copenhagen, Denmark\n",
      "Multiple matches found for Department of Bacteria, Parasites and Fungi, Statens Serum Institut, Copenhagen, Denmark\n",
      "Multiple matches found for Department of Bacteria, Parasites and Fungi, Statens Serum Institut, Copenhagen, Denmark\n",
      "Multiple matches found for epithelial cell of stomach\n",
      "Multiple matches found for Spinal cord meninges\n",
      "Multiple matches found for Spinal cord meninges\n",
      "Multiple matches found for Department of Bacteria, Parasites and Fungi, Statens Serum Institut, Copenhagen, Denmark\n",
      "Multiple matches found for Department of Bacteria, Parasites and Fungi, Statens Serum Institut, Copenhagen, Denmark\n",
      "Multiple matches found for colon (feces)\n",
      "Multiple matches found for nymph and adult stages\n",
      "Multiple matches found for plant root\n",
      "Multiple matches found for muscle (leg)\n",
      "Multiple matches found for The aim of this study was to investigate how the rumen microbiome and fiber-degrading enzymes of Hu sheep respond to diets containing wheat straw\n",
      "Multiple matches found for The aim of this study was to investigate how the rumen microbiome and fiber-degrading enzymes of Hu sheep respond to diets containing wheat straw\n",
      "Multiple matches found for Homo sapiens male adult (55 years) heart right ventricle tissue\n",
      "Multiple matches found for heart right ventricle\n",
      "Multiple matches found for Department of Bacteria, Parasites and Fungi, Statens Serum Institut, Copenhagen, Denmark\n",
      "Multiple matches found for Department of Bacteria, Parasites and Fungi, Statens Serum Institut, Copenhagen, Denmark\n",
      "Multiple matches found for Department of Bacteria, Parasites and Fungi, Statens Serum Institut, Copenhagen, Denmark\n",
      "Multiple matches found for Department of Bacteria, Parasites and Fungi, Statens Serum Institut, Copenhagen, Denmark\n",
      "Multiple matches found for Department of Bacteria, Parasites and Fungi, Statens Serum Institut, Copenhagen, Denmark\n",
      "Multiple matches found for Department of Bacteria, Parasites and Fungi, Statens Serum Institut, Copenhagen, Denmark\n",
      "Multiple matches found for small intestine smooth muscle\n",
      "Multiple matches found for Department of Bacteria, Parasites and Fungi, Statens Serum Institut, Copenhagen, Denmark\n",
      "Multiple matches found for Department of Bacteria, Parasites and Fungi, Statens Serum Institut, Copenhagen, Denmark\n",
      "Multiple matches found for Department of Bacteria, Parasites and Fungi, Statens Serum Institut, Copenhagen, Denmark\n",
      "Multiple matches found for Department of Bacteria, Parasites and Fungi, Statens Serum Institut, Copenhagen, Denmark\n",
      "Multiple matches found for Swab nose/throat/perineum\n",
      "Multiple matches found for Apis mellifera gut: forager worker rectum\n",
      "Multiple matches found for Kids First: Genetics of  Kidney and Urinary Tract Malformations\n",
      "Multiple matches found for thorax and/or leg\n",
      "Multiple matches found for Swab nose/throat/perineum\n",
      "Multiple matches found for NHLBI TOPMed: Nulliparous Pregnancy Outcomes Study: Monitoring Mothers-to-be Heart Health Study (nuMoM2b Heart Health Study)\n",
      "Multiple matches found for Soil stored at -20C until incubations, experiments occurred at 7C. Soil sampled and kept at -80C until DNA extraction. DNA extracts kept at -80C until sequencing.\n",
      "Multiple matches found for epiblast stem cells\n",
      "Multiple matches found for Plant shoot tissue\n",
      "Multiple matches found for Department of Bacteria, Parasites and Fungi, Statens Serum Institut, Copenhagen, Denmark\n",
      "Multiple matches found for Department of Bacteria, Parasites and Fungi, Statens Serum Institut, Copenhagen, Denmark\n",
      "Multiple matches found for A growing body of evidence supports the notion that the gut microbiome plays an important role in cancer immunity. However, the underpinning mechanisms remain to be fully elucidated. One attractive hypothesis envisages that among the T cells elicited by the plethora of microbiome proteins a few exist that incidentally recognize neo-epitopes arising from cancer mutations (molecular mimicry (MM) hypothesis). To support MM, the human probiotic Escherichia coli Nissle was engineered with the SIINFEKL epitope (OVA-E.coli Nissle) and orally administered to C57BL6 mice. The treatment with OVA-E.coli Nissle, but not with wild type E. coli Nissle, induced OVA-specific CD8+ T cells and inhibited the growth of tumors in mice challenged with B16F10 melanoma cells expressing OVA. The microbiome shotgun sequencing and the sequencing of TCRs from T cells recovered from both lamina propria and tumors provide evidence that the main mechanism of tumor inhibition is mediated by the elicitation at the intestinal site of cross-reacting T cells, which subsequently reach the tumor environment. Importantly, the administration of Outer Membrane Vesicles (OMVs) from engineered E. coli Nissle, as well as from E. coli BL21(DE3)DompA, carrying cancer-specific T cell epitopes also elicited epitope-specific T cells in the intestine and inhibited tumor growth. Overall, our data strengthen the important role of MM in tumor immunity and assign a novel function of OMVs in host-pathogen interaction. Moreover, our results pave the way to the exploitation of probiotics and OMVs engineered with tumor specific-antigens as personalized mucosal cancer vaccines.\n",
      "Multiple matches found for The moose (Alces alces) manages to utilize energy from fiber-rich lignocellulose material through enzymes produced by the microbes in its rumen. Some of these specialized enzymes may outperform cellulases and hemicellulases that are used in bio-refinery processes today. Shotgun metagenomics offers a method to study microbial communities in detail and to capture the gene sequences coding for enzymes that can be produced in the laboratory. We applied the technique on rumen material from moose. Through a binning approach, a large number of metagenome-assembled genomes (MAGs) from single species and strains were isolated and characterized based on taxonomy and carbohydrate active enzyme (CAZY) profile. Most of the 99 MAGs were classified to the bacterial phyla Bacteriodetes and Firmicutes, which is in agreement with previous studies of rumen from moose and other herbivores. Phylogenomic analysis of MAGs revealed novel clades within Bacteriodetes with no related previously characterized genome. In addition, new genomes that were closely related to the recently described Melainabacteria, newly proposed candidate divisions SR1 and TM7 and previously uncharacterized Alphaproteobacteria were also retrieved. Putative cellulolytic functions were observed in several clades of Bacteroidetes and for MAGs of genus Ruminococcus, Fibrobacteres, and Treponema. Cellulosome components were present in MAGs of Ruminococcus but also in certain clades of Bacteroidetes. Cellulosomes are generally described in the Firmicutes family Clostridiales. Multiple putative cellulases were identified within species from several phyla. At a general level, the most frequently occurring polysaccharide-degrading enzymes targeted hemicellulose, starch and pectin. This study describes the first shotgun-metagenomic characterization of moose rumen and the high number of reconstructed genomes provides a valuable link between phylogeny and cellulolytic role.\n",
      "Multiple matches found for Colorectal cancer, a commonly diagnosed cancer in the elderly, often develops slowly from benign polyps called adenoma. The gut microbiota, with its critical roles in nutrient metabolism and immune modulation, is believed to be directly involved in colorectal carcinogenesis. The identity and functional capacity of the adenoma- or carcinoma-related gut microbe(s), however, have not been surveyed in a comprehensive manner. Here we perform metagenomewide association study (MGWAS) on stools from healthy controls, advanced adenoma and carcinoma patients, revealing gene markers from over 100 bacterial strains enriched in each group.\n",
      "Multiple matches found for GWA Study of Oral Cavity, Pharynx and Larynx Cancers in European, and North and South American Populations - CIDR\n",
      "Multiple matches found for GWA Study of Oral Cavity, Pharynx and Larynx Cancers in European, and North and South American Populations - CIDR\n",
      "Multiple matches found for Head and Neck Neoplasms\n",
      "Multiple matches found for GWA Study of Oral Cavity, Pharynx and Larynx Cancers in European, and North and South American Populations - CIDR\n",
      "Multiple matches found for GWA Study of Oral Cavity, Pharynx and Larynx Cancers in European, and North and South American Populations - CIDR\n",
      "Multiple matches found for Head and Neck Neoplasms\n",
      "Multiple matches found for peripheral blood plasma\n",
      "Multiple matches found for leaves (developmental stage: 14-leaf-rosette)\n",
      "Multiple matches found for leaves (developmental stage: 14-leaf-rosette)\n",
      "Multiple matches found for Metagenomic raw reads, assemblies, and bins derived from HoloFood chicken caecum samples. Samples selected for this batch were deeply sequenced, and were randomised among trials (feed), age, and breed to overcome batch effect. The samples in this project contributed to the chicken caecum MAG catalogue (project: PRJEB55374 [ERP140263]).\n",
      "Multiple matches found for Metagenomic raw reads, assemblies, and bins derived from HoloFood chicken caecum samples. Samples selected for this batch were deeply sequenced, and were randomised among trials (feed), age, and breed to overcome batch effect. The samples in this project contributed to the chicken caecum MAG catalogue (project: PRJEB55374 [ERP140263]).\n",
      "Multiple matches found for Nulliparous Pregnancy Outcomes Study: Monitoring Mothers-to-be Heart Health Study (nuMoM2b Heart Health Study)\n",
      "Multiple matches found for Nulliparous Pregnancy Outcomes Study: Monitoring Mothers-to-be Heart Health Study (nuMoM2b Heart Health Study)\n",
      "Multiple matches found for The first batch soil at -3.9 cm from anoxic incubated column treated by high concentration of sterilant\n",
      "Multiple matches found for larva/pupa\n",
      "Multiple matches found for Muscle (claw)\n",
      "Finished parsing BioSamples XML file\n",
      "Number of samples: 10000\n"
     ]
    }
   ],
   "source": [
    "sample_dict = {}\n",
    "attribute_dict = {}\n",
    "biosamples_path = '../../data/biosamples/biosample_random_samples.xml'\n",
    "\n",
    "parser = xml.sax.make_parser()\n",
    "handler = BioSamplesMatcherHandler(sample_dict, attribute_dict)\n",
    "parser.setContentHandler(handler)\n",
    "\n",
    "parser.parse(biosamples_path)\n",
    "print('Number of samples:', len(sample_dict))"
   ]
  },
  {
   "cell_type": "code",
   "execution_count": 35,
   "metadata": {},
   "outputs": [
    {
     "name": "stdout",
     "output_type": "stream",
     "text": [
      "Number of samples: 10000\n"
     ]
    }
   ],
   "source": [
    "result_dict = {}\n",
    "\n",
    "for biosample_id, bto_term in sample_dict.items():\n",
    "    if bto_term == None:\n",
    "        result_dict[biosample_id] = None\n",
    "    else:\n",
    "        result_dict[biosample_id] = bto_term\n",
    "\n",
    "print('Number of samples:', len(result_dict))"
   ]
  },
  {
   "cell_type": "code",
   "execution_count": 40,
   "metadata": {},
   "outputs": [
    {
     "name": "stdout",
     "output_type": "stream",
     "text": [
      "Finished writing results to CSV file\n"
     ]
    }
   ],
   "source": [
    "with open('../../data/biosamples/results/biosample_tissue_locations_2.0.csv', 'w') as f:\n",
    "    writer = csv.writer(f)\n",
    "    writer.writerow(['biosample_accession_id', 'biosample_url', 'matched_attr', 'bto_label', 'bto_name', 'bto_url'])\n",
    "    for biosample_id in sample_dict:\n",
    "        accession_id = biosample_id\n",
    "        url = 'https://www.ncbi.nlm.nih.gov/biosample/' + biosample_id\n",
    "        matched_attr = attribute_dict[biosample_id] if attribute_dict[biosample_id] is not None else ''\n",
    "        bto_label = result_dict[biosample_id]\n",
    "        bto_name = labels_reverse[bto_label] if bto_label is not None else None\n",
    "        bto_url = 'http://purl.obolibrary.org/obo/' + bto_name if bto_name is not None else ''\n",
    "\n",
    "        writer.writerow([accession_id, url, matched_attr, bto_label, bto_name, bto_url])\n",
    "\n",
    "print('Finished writing results to CSV file')\n"
   ]
  },
  {
   "cell_type": "code",
   "execution_count": 46,
   "metadata": {},
   "outputs": [
    {
     "data": {
      "application/vnd.plotly.v1+json": {
       "config": {
        "plotlyServerURL": "https://plot.ly"
       },
       "data": [
        {
         "alignmentgroup": "True",
         "hovertemplate": "match=%{x}<br>count=%{y}<br>label=%{text}<extra></extra>",
         "legendgroup": "",
         "marker": {
          "color": "#636efa",
          "pattern": {
           "shape": ""
          }
         },
         "name": "",
         "offsetgroup": "",
         "orientation": "v",
         "showlegend": false,
         "text": [
          4483,
          5517
         ],
         "textposition": "auto",
         "type": "bar",
         "x": [
          "Match",
          "No match"
         ],
         "xaxis": "x",
         "y": [
          4483,
          5517
         ],
         "yaxis": "y"
        }
       ],
       "layout": {
        "barmode": "relative",
        "legend": {
         "tracegroupgap": 0
        },
        "margin": {
         "t": 60
        },
        "template": {
         "data": {
          "bar": [
           {
            "error_x": {
             "color": "#2a3f5f"
            },
            "error_y": {
             "color": "#2a3f5f"
            },
            "marker": {
             "line": {
              "color": "#E5ECF6",
              "width": 0.5
             },
             "pattern": {
              "fillmode": "overlay",
              "size": 10,
              "solidity": 0.2
             }
            },
            "type": "bar"
           }
          ],
          "barpolar": [
           {
            "marker": {
             "line": {
              "color": "#E5ECF6",
              "width": 0.5
             },
             "pattern": {
              "fillmode": "overlay",
              "size": 10,
              "solidity": 0.2
             }
            },
            "type": "barpolar"
           }
          ],
          "carpet": [
           {
            "aaxis": {
             "endlinecolor": "#2a3f5f",
             "gridcolor": "white",
             "linecolor": "white",
             "minorgridcolor": "white",
             "startlinecolor": "#2a3f5f"
            },
            "baxis": {
             "endlinecolor": "#2a3f5f",
             "gridcolor": "white",
             "linecolor": "white",
             "minorgridcolor": "white",
             "startlinecolor": "#2a3f5f"
            },
            "type": "carpet"
           }
          ],
          "choropleth": [
           {
            "colorbar": {
             "outlinewidth": 0,
             "ticks": ""
            },
            "type": "choropleth"
           }
          ],
          "contour": [
           {
            "colorbar": {
             "outlinewidth": 0,
             "ticks": ""
            },
            "colorscale": [
             [
              0,
              "#0d0887"
             ],
             [
              0.1111111111111111,
              "#46039f"
             ],
             [
              0.2222222222222222,
              "#7201a8"
             ],
             [
              0.3333333333333333,
              "#9c179e"
             ],
             [
              0.4444444444444444,
              "#bd3786"
             ],
             [
              0.5555555555555556,
              "#d8576b"
             ],
             [
              0.6666666666666666,
              "#ed7953"
             ],
             [
              0.7777777777777778,
              "#fb9f3a"
             ],
             [
              0.8888888888888888,
              "#fdca26"
             ],
             [
              1,
              "#f0f921"
             ]
            ],
            "type": "contour"
           }
          ],
          "contourcarpet": [
           {
            "colorbar": {
             "outlinewidth": 0,
             "ticks": ""
            },
            "type": "contourcarpet"
           }
          ],
          "heatmap": [
           {
            "colorbar": {
             "outlinewidth": 0,
             "ticks": ""
            },
            "colorscale": [
             [
              0,
              "#0d0887"
             ],
             [
              0.1111111111111111,
              "#46039f"
             ],
             [
              0.2222222222222222,
              "#7201a8"
             ],
             [
              0.3333333333333333,
              "#9c179e"
             ],
             [
              0.4444444444444444,
              "#bd3786"
             ],
             [
              0.5555555555555556,
              "#d8576b"
             ],
             [
              0.6666666666666666,
              "#ed7953"
             ],
             [
              0.7777777777777778,
              "#fb9f3a"
             ],
             [
              0.8888888888888888,
              "#fdca26"
             ],
             [
              1,
              "#f0f921"
             ]
            ],
            "type": "heatmap"
           }
          ],
          "heatmapgl": [
           {
            "colorbar": {
             "outlinewidth": 0,
             "ticks": ""
            },
            "colorscale": [
             [
              0,
              "#0d0887"
             ],
             [
              0.1111111111111111,
              "#46039f"
             ],
             [
              0.2222222222222222,
              "#7201a8"
             ],
             [
              0.3333333333333333,
              "#9c179e"
             ],
             [
              0.4444444444444444,
              "#bd3786"
             ],
             [
              0.5555555555555556,
              "#d8576b"
             ],
             [
              0.6666666666666666,
              "#ed7953"
             ],
             [
              0.7777777777777778,
              "#fb9f3a"
             ],
             [
              0.8888888888888888,
              "#fdca26"
             ],
             [
              1,
              "#f0f921"
             ]
            ],
            "type": "heatmapgl"
           }
          ],
          "histogram": [
           {
            "marker": {
             "pattern": {
              "fillmode": "overlay",
              "size": 10,
              "solidity": 0.2
             }
            },
            "type": "histogram"
           }
          ],
          "histogram2d": [
           {
            "colorbar": {
             "outlinewidth": 0,
             "ticks": ""
            },
            "colorscale": [
             [
              0,
              "#0d0887"
             ],
             [
              0.1111111111111111,
              "#46039f"
             ],
             [
              0.2222222222222222,
              "#7201a8"
             ],
             [
              0.3333333333333333,
              "#9c179e"
             ],
             [
              0.4444444444444444,
              "#bd3786"
             ],
             [
              0.5555555555555556,
              "#d8576b"
             ],
             [
              0.6666666666666666,
              "#ed7953"
             ],
             [
              0.7777777777777778,
              "#fb9f3a"
             ],
             [
              0.8888888888888888,
              "#fdca26"
             ],
             [
              1,
              "#f0f921"
             ]
            ],
            "type": "histogram2d"
           }
          ],
          "histogram2dcontour": [
           {
            "colorbar": {
             "outlinewidth": 0,
             "ticks": ""
            },
            "colorscale": [
             [
              0,
              "#0d0887"
             ],
             [
              0.1111111111111111,
              "#46039f"
             ],
             [
              0.2222222222222222,
              "#7201a8"
             ],
             [
              0.3333333333333333,
              "#9c179e"
             ],
             [
              0.4444444444444444,
              "#bd3786"
             ],
             [
              0.5555555555555556,
              "#d8576b"
             ],
             [
              0.6666666666666666,
              "#ed7953"
             ],
             [
              0.7777777777777778,
              "#fb9f3a"
             ],
             [
              0.8888888888888888,
              "#fdca26"
             ],
             [
              1,
              "#f0f921"
             ]
            ],
            "type": "histogram2dcontour"
           }
          ],
          "mesh3d": [
           {
            "colorbar": {
             "outlinewidth": 0,
             "ticks": ""
            },
            "type": "mesh3d"
           }
          ],
          "parcoords": [
           {
            "line": {
             "colorbar": {
              "outlinewidth": 0,
              "ticks": ""
             }
            },
            "type": "parcoords"
           }
          ],
          "pie": [
           {
            "automargin": true,
            "type": "pie"
           }
          ],
          "scatter": [
           {
            "fillpattern": {
             "fillmode": "overlay",
             "size": 10,
             "solidity": 0.2
            },
            "type": "scatter"
           }
          ],
          "scatter3d": [
           {
            "line": {
             "colorbar": {
              "outlinewidth": 0,
              "ticks": ""
             }
            },
            "marker": {
             "colorbar": {
              "outlinewidth": 0,
              "ticks": ""
             }
            },
            "type": "scatter3d"
           }
          ],
          "scattercarpet": [
           {
            "marker": {
             "colorbar": {
              "outlinewidth": 0,
              "ticks": ""
             }
            },
            "type": "scattercarpet"
           }
          ],
          "scattergeo": [
           {
            "marker": {
             "colorbar": {
              "outlinewidth": 0,
              "ticks": ""
             }
            },
            "type": "scattergeo"
           }
          ],
          "scattergl": [
           {
            "marker": {
             "colorbar": {
              "outlinewidth": 0,
              "ticks": ""
             }
            },
            "type": "scattergl"
           }
          ],
          "scattermapbox": [
           {
            "marker": {
             "colorbar": {
              "outlinewidth": 0,
              "ticks": ""
             }
            },
            "type": "scattermapbox"
           }
          ],
          "scatterpolar": [
           {
            "marker": {
             "colorbar": {
              "outlinewidth": 0,
              "ticks": ""
             }
            },
            "type": "scatterpolar"
           }
          ],
          "scatterpolargl": [
           {
            "marker": {
             "colorbar": {
              "outlinewidth": 0,
              "ticks": ""
             }
            },
            "type": "scatterpolargl"
           }
          ],
          "scatterternary": [
           {
            "marker": {
             "colorbar": {
              "outlinewidth": 0,
              "ticks": ""
             }
            },
            "type": "scatterternary"
           }
          ],
          "surface": [
           {
            "colorbar": {
             "outlinewidth": 0,
             "ticks": ""
            },
            "colorscale": [
             [
              0,
              "#0d0887"
             ],
             [
              0.1111111111111111,
              "#46039f"
             ],
             [
              0.2222222222222222,
              "#7201a8"
             ],
             [
              0.3333333333333333,
              "#9c179e"
             ],
             [
              0.4444444444444444,
              "#bd3786"
             ],
             [
              0.5555555555555556,
              "#d8576b"
             ],
             [
              0.6666666666666666,
              "#ed7953"
             ],
             [
              0.7777777777777778,
              "#fb9f3a"
             ],
             [
              0.8888888888888888,
              "#fdca26"
             ],
             [
              1,
              "#f0f921"
             ]
            ],
            "type": "surface"
           }
          ],
          "table": [
           {
            "cells": {
             "fill": {
              "color": "#EBF0F8"
             },
             "line": {
              "color": "white"
             }
            },
            "header": {
             "fill": {
              "color": "#C8D4E3"
             },
             "line": {
              "color": "white"
             }
            },
            "type": "table"
           }
          ]
         },
         "layout": {
          "annotationdefaults": {
           "arrowcolor": "#2a3f5f",
           "arrowhead": 0,
           "arrowwidth": 1
          },
          "autotypenumbers": "strict",
          "coloraxis": {
           "colorbar": {
            "outlinewidth": 0,
            "ticks": ""
           }
          },
          "colorscale": {
           "diverging": [
            [
             0,
             "#8e0152"
            ],
            [
             0.1,
             "#c51b7d"
            ],
            [
             0.2,
             "#de77ae"
            ],
            [
             0.3,
             "#f1b6da"
            ],
            [
             0.4,
             "#fde0ef"
            ],
            [
             0.5,
             "#f7f7f7"
            ],
            [
             0.6,
             "#e6f5d0"
            ],
            [
             0.7,
             "#b8e186"
            ],
            [
             0.8,
             "#7fbc41"
            ],
            [
             0.9,
             "#4d9221"
            ],
            [
             1,
             "#276419"
            ]
           ],
           "sequential": [
            [
             0,
             "#0d0887"
            ],
            [
             0.1111111111111111,
             "#46039f"
            ],
            [
             0.2222222222222222,
             "#7201a8"
            ],
            [
             0.3333333333333333,
             "#9c179e"
            ],
            [
             0.4444444444444444,
             "#bd3786"
            ],
            [
             0.5555555555555556,
             "#d8576b"
            ],
            [
             0.6666666666666666,
             "#ed7953"
            ],
            [
             0.7777777777777778,
             "#fb9f3a"
            ],
            [
             0.8888888888888888,
             "#fdca26"
            ],
            [
             1,
             "#f0f921"
            ]
           ],
           "sequentialminus": [
            [
             0,
             "#0d0887"
            ],
            [
             0.1111111111111111,
             "#46039f"
            ],
            [
             0.2222222222222222,
             "#7201a8"
            ],
            [
             0.3333333333333333,
             "#9c179e"
            ],
            [
             0.4444444444444444,
             "#bd3786"
            ],
            [
             0.5555555555555556,
             "#d8576b"
            ],
            [
             0.6666666666666666,
             "#ed7953"
            ],
            [
             0.7777777777777778,
             "#fb9f3a"
            ],
            [
             0.8888888888888888,
             "#fdca26"
            ],
            [
             1,
             "#f0f921"
            ]
           ]
          },
          "colorway": [
           "#636efa",
           "#EF553B",
           "#00cc96",
           "#ab63fa",
           "#FFA15A",
           "#19d3f3",
           "#FF6692",
           "#B6E880",
           "#FF97FF",
           "#FECB52"
          ],
          "font": {
           "color": "#2a3f5f"
          },
          "geo": {
           "bgcolor": "white",
           "lakecolor": "white",
           "landcolor": "#E5ECF6",
           "showlakes": true,
           "showland": true,
           "subunitcolor": "white"
          },
          "hoverlabel": {
           "align": "left"
          },
          "hovermode": "closest",
          "mapbox": {
           "style": "light"
          },
          "paper_bgcolor": "white",
          "plot_bgcolor": "#E5ECF6",
          "polar": {
           "angularaxis": {
            "gridcolor": "white",
            "linecolor": "white",
            "ticks": ""
           },
           "bgcolor": "#E5ECF6",
           "radialaxis": {
            "gridcolor": "white",
            "linecolor": "white",
            "ticks": ""
           }
          },
          "scene": {
           "xaxis": {
            "backgroundcolor": "#E5ECF6",
            "gridcolor": "white",
            "gridwidth": 2,
            "linecolor": "white",
            "showbackground": true,
            "ticks": "",
            "zerolinecolor": "white"
           },
           "yaxis": {
            "backgroundcolor": "#E5ECF6",
            "gridcolor": "white",
            "gridwidth": 2,
            "linecolor": "white",
            "showbackground": true,
            "ticks": "",
            "zerolinecolor": "white"
           },
           "zaxis": {
            "backgroundcolor": "#E5ECF6",
            "gridcolor": "white",
            "gridwidth": 2,
            "linecolor": "white",
            "showbackground": true,
            "ticks": "",
            "zerolinecolor": "white"
           }
          },
          "shapedefaults": {
           "line": {
            "color": "#2a3f5f"
           }
          },
          "ternary": {
           "aaxis": {
            "gridcolor": "white",
            "linecolor": "white",
            "ticks": ""
           },
           "baxis": {
            "gridcolor": "white",
            "linecolor": "white",
            "ticks": ""
           },
           "bgcolor": "#E5ECF6",
           "caxis": {
            "gridcolor": "white",
            "linecolor": "white",
            "ticks": ""
           }
          },
          "title": {
           "x": 0.05
          },
          "xaxis": {
           "automargin": true,
           "gridcolor": "white",
           "linecolor": "white",
           "ticks": "",
           "title": {
            "standoff": 15
           },
           "zerolinecolor": "white",
           "zerolinewidth": 2
          },
          "yaxis": {
           "automargin": true,
           "gridcolor": "white",
           "linecolor": "white",
           "ticks": "",
           "title": {
            "standoff": 15
           },
           "zerolinecolor": "white",
           "zerolinewidth": 2
          }
         }
        },
        "title": {
         "text": "Number of Samples Matched to Brenda"
        },
        "xaxis": {
         "anchor": "y",
         "domain": [
          0,
          1
         ],
         "title": {
          "text": "Match"
         }
        },
        "yaxis": {
         "anchor": "x",
         "domain": [
          0,
          1
         ],
         "title": {
          "text": "Count"
         }
        }
       }
      },
      "text/html": [
       "<div>                            <div id=\"8d48c3ea-7e30-4b15-9fa0-10ab44d35c77\" class=\"plotly-graph-div\" style=\"height:525px; width:100%;\"></div>            <script type=\"text/javascript\">                require([\"plotly\"], function(Plotly) {                    window.PLOTLYENV=window.PLOTLYENV || {};                                    if (document.getElementById(\"8d48c3ea-7e30-4b15-9fa0-10ab44d35c77\")) {                    Plotly.newPlot(                        \"8d48c3ea-7e30-4b15-9fa0-10ab44d35c77\",                        [{\"alignmentgroup\":\"True\",\"hovertemplate\":\"match=%{x}<br>count=%{y}<br>label=%{text}<extra></extra>\",\"legendgroup\":\"\",\"marker\":{\"color\":\"#636efa\",\"pattern\":{\"shape\":\"\"}},\"name\":\"\",\"offsetgroup\":\"\",\"orientation\":\"v\",\"showlegend\":false,\"text\":[4483.0,5517.0],\"textposition\":\"auto\",\"x\":[\"Match\",\"No match\"],\"xaxis\":\"x\",\"y\":[4483,5517],\"yaxis\":\"y\",\"type\":\"bar\"}],                        {\"template\":{\"data\":{\"histogram2dcontour\":[{\"type\":\"histogram2dcontour\",\"colorbar\":{\"outlinewidth\":0,\"ticks\":\"\"},\"colorscale\":[[0.0,\"#0d0887\"],[0.1111111111111111,\"#46039f\"],[0.2222222222222222,\"#7201a8\"],[0.3333333333333333,\"#9c179e\"],[0.4444444444444444,\"#bd3786\"],[0.5555555555555556,\"#d8576b\"],[0.6666666666666666,\"#ed7953\"],[0.7777777777777778,\"#fb9f3a\"],[0.8888888888888888,\"#fdca26\"],[1.0,\"#f0f921\"]]}],\"choropleth\":[{\"type\":\"choropleth\",\"colorbar\":{\"outlinewidth\":0,\"ticks\":\"\"}}],\"histogram2d\":[{\"type\":\"histogram2d\",\"colorbar\":{\"outlinewidth\":0,\"ticks\":\"\"},\"colorscale\":[[0.0,\"#0d0887\"],[0.1111111111111111,\"#46039f\"],[0.2222222222222222,\"#7201a8\"],[0.3333333333333333,\"#9c179e\"],[0.4444444444444444,\"#bd3786\"],[0.5555555555555556,\"#d8576b\"],[0.6666666666666666,\"#ed7953\"],[0.7777777777777778,\"#fb9f3a\"],[0.8888888888888888,\"#fdca26\"],[1.0,\"#f0f921\"]]}],\"heatmap\":[{\"type\":\"heatmap\",\"colorbar\":{\"outlinewidth\":0,\"ticks\":\"\"},\"colorscale\":[[0.0,\"#0d0887\"],[0.1111111111111111,\"#46039f\"],[0.2222222222222222,\"#7201a8\"],[0.3333333333333333,\"#9c179e\"],[0.4444444444444444,\"#bd3786\"],[0.5555555555555556,\"#d8576b\"],[0.6666666666666666,\"#ed7953\"],[0.7777777777777778,\"#fb9f3a\"],[0.8888888888888888,\"#fdca26\"],[1.0,\"#f0f921\"]]}],\"heatmapgl\":[{\"type\":\"heatmapgl\",\"colorbar\":{\"outlinewidth\":0,\"ticks\":\"\"},\"colorscale\":[[0.0,\"#0d0887\"],[0.1111111111111111,\"#46039f\"],[0.2222222222222222,\"#7201a8\"],[0.3333333333333333,\"#9c179e\"],[0.4444444444444444,\"#bd3786\"],[0.5555555555555556,\"#d8576b\"],[0.6666666666666666,\"#ed7953\"],[0.7777777777777778,\"#fb9f3a\"],[0.8888888888888888,\"#fdca26\"],[1.0,\"#f0f921\"]]}],\"contourcarpet\":[{\"type\":\"contourcarpet\",\"colorbar\":{\"outlinewidth\":0,\"ticks\":\"\"}}],\"contour\":[{\"type\":\"contour\",\"colorbar\":{\"outlinewidth\":0,\"ticks\":\"\"},\"colorscale\":[[0.0,\"#0d0887\"],[0.1111111111111111,\"#46039f\"],[0.2222222222222222,\"#7201a8\"],[0.3333333333333333,\"#9c179e\"],[0.4444444444444444,\"#bd3786\"],[0.5555555555555556,\"#d8576b\"],[0.6666666666666666,\"#ed7953\"],[0.7777777777777778,\"#fb9f3a\"],[0.8888888888888888,\"#fdca26\"],[1.0,\"#f0f921\"]]}],\"surface\":[{\"type\":\"surface\",\"colorbar\":{\"outlinewidth\":0,\"ticks\":\"\"},\"colorscale\":[[0.0,\"#0d0887\"],[0.1111111111111111,\"#46039f\"],[0.2222222222222222,\"#7201a8\"],[0.3333333333333333,\"#9c179e\"],[0.4444444444444444,\"#bd3786\"],[0.5555555555555556,\"#d8576b\"],[0.6666666666666666,\"#ed7953\"],[0.7777777777777778,\"#fb9f3a\"],[0.8888888888888888,\"#fdca26\"],[1.0,\"#f0f921\"]]}],\"mesh3d\":[{\"type\":\"mesh3d\",\"colorbar\":{\"outlinewidth\":0,\"ticks\":\"\"}}],\"scatter\":[{\"fillpattern\":{\"fillmode\":\"overlay\",\"size\":10,\"solidity\":0.2},\"type\":\"scatter\"}],\"parcoords\":[{\"type\":\"parcoords\",\"line\":{\"colorbar\":{\"outlinewidth\":0,\"ticks\":\"\"}}}],\"scatterpolargl\":[{\"type\":\"scatterpolargl\",\"marker\":{\"colorbar\":{\"outlinewidth\":0,\"ticks\":\"\"}}}],\"bar\":[{\"error_x\":{\"color\":\"#2a3f5f\"},\"error_y\":{\"color\":\"#2a3f5f\"},\"marker\":{\"line\":{\"color\":\"#E5ECF6\",\"width\":0.5},\"pattern\":{\"fillmode\":\"overlay\",\"size\":10,\"solidity\":0.2}},\"type\":\"bar\"}],\"scattergeo\":[{\"type\":\"scattergeo\",\"marker\":{\"colorbar\":{\"outlinewidth\":0,\"ticks\":\"\"}}}],\"scatterpolar\":[{\"type\":\"scatterpolar\",\"marker\":{\"colorbar\":{\"outlinewidth\":0,\"ticks\":\"\"}}}],\"histogram\":[{\"marker\":{\"pattern\":{\"fillmode\":\"overlay\",\"size\":10,\"solidity\":0.2}},\"type\":\"histogram\"}],\"scattergl\":[{\"type\":\"scattergl\",\"marker\":{\"colorbar\":{\"outlinewidth\":0,\"ticks\":\"\"}}}],\"scatter3d\":[{\"type\":\"scatter3d\",\"line\":{\"colorbar\":{\"outlinewidth\":0,\"ticks\":\"\"}},\"marker\":{\"colorbar\":{\"outlinewidth\":0,\"ticks\":\"\"}}}],\"scattermapbox\":[{\"type\":\"scattermapbox\",\"marker\":{\"colorbar\":{\"outlinewidth\":0,\"ticks\":\"\"}}}],\"scatterternary\":[{\"type\":\"scatterternary\",\"marker\":{\"colorbar\":{\"outlinewidth\":0,\"ticks\":\"\"}}}],\"scattercarpet\":[{\"type\":\"scattercarpet\",\"marker\":{\"colorbar\":{\"outlinewidth\":0,\"ticks\":\"\"}}}],\"carpet\":[{\"aaxis\":{\"endlinecolor\":\"#2a3f5f\",\"gridcolor\":\"white\",\"linecolor\":\"white\",\"minorgridcolor\":\"white\",\"startlinecolor\":\"#2a3f5f\"},\"baxis\":{\"endlinecolor\":\"#2a3f5f\",\"gridcolor\":\"white\",\"linecolor\":\"white\",\"minorgridcolor\":\"white\",\"startlinecolor\":\"#2a3f5f\"},\"type\":\"carpet\"}],\"table\":[{\"cells\":{\"fill\":{\"color\":\"#EBF0F8\"},\"line\":{\"color\":\"white\"}},\"header\":{\"fill\":{\"color\":\"#C8D4E3\"},\"line\":{\"color\":\"white\"}},\"type\":\"table\"}],\"barpolar\":[{\"marker\":{\"line\":{\"color\":\"#E5ECF6\",\"width\":0.5},\"pattern\":{\"fillmode\":\"overlay\",\"size\":10,\"solidity\":0.2}},\"type\":\"barpolar\"}],\"pie\":[{\"automargin\":true,\"type\":\"pie\"}]},\"layout\":{\"autotypenumbers\":\"strict\",\"colorway\":[\"#636efa\",\"#EF553B\",\"#00cc96\",\"#ab63fa\",\"#FFA15A\",\"#19d3f3\",\"#FF6692\",\"#B6E880\",\"#FF97FF\",\"#FECB52\"],\"font\":{\"color\":\"#2a3f5f\"},\"hovermode\":\"closest\",\"hoverlabel\":{\"align\":\"left\"},\"paper_bgcolor\":\"white\",\"plot_bgcolor\":\"#E5ECF6\",\"polar\":{\"bgcolor\":\"#E5ECF6\",\"angularaxis\":{\"gridcolor\":\"white\",\"linecolor\":\"white\",\"ticks\":\"\"},\"radialaxis\":{\"gridcolor\":\"white\",\"linecolor\":\"white\",\"ticks\":\"\"}},\"ternary\":{\"bgcolor\":\"#E5ECF6\",\"aaxis\":{\"gridcolor\":\"white\",\"linecolor\":\"white\",\"ticks\":\"\"},\"baxis\":{\"gridcolor\":\"white\",\"linecolor\":\"white\",\"ticks\":\"\"},\"caxis\":{\"gridcolor\":\"white\",\"linecolor\":\"white\",\"ticks\":\"\"}},\"coloraxis\":{\"colorbar\":{\"outlinewidth\":0,\"ticks\":\"\"}},\"colorscale\":{\"sequential\":[[0.0,\"#0d0887\"],[0.1111111111111111,\"#46039f\"],[0.2222222222222222,\"#7201a8\"],[0.3333333333333333,\"#9c179e\"],[0.4444444444444444,\"#bd3786\"],[0.5555555555555556,\"#d8576b\"],[0.6666666666666666,\"#ed7953\"],[0.7777777777777778,\"#fb9f3a\"],[0.8888888888888888,\"#fdca26\"],[1.0,\"#f0f921\"]],\"sequentialminus\":[[0.0,\"#0d0887\"],[0.1111111111111111,\"#46039f\"],[0.2222222222222222,\"#7201a8\"],[0.3333333333333333,\"#9c179e\"],[0.4444444444444444,\"#bd3786\"],[0.5555555555555556,\"#d8576b\"],[0.6666666666666666,\"#ed7953\"],[0.7777777777777778,\"#fb9f3a\"],[0.8888888888888888,\"#fdca26\"],[1.0,\"#f0f921\"]],\"diverging\":[[0,\"#8e0152\"],[0.1,\"#c51b7d\"],[0.2,\"#de77ae\"],[0.3,\"#f1b6da\"],[0.4,\"#fde0ef\"],[0.5,\"#f7f7f7\"],[0.6,\"#e6f5d0\"],[0.7,\"#b8e186\"],[0.8,\"#7fbc41\"],[0.9,\"#4d9221\"],[1,\"#276419\"]]},\"xaxis\":{\"gridcolor\":\"white\",\"linecolor\":\"white\",\"ticks\":\"\",\"title\":{\"standoff\":15},\"zerolinecolor\":\"white\",\"automargin\":true,\"zerolinewidth\":2},\"yaxis\":{\"gridcolor\":\"white\",\"linecolor\":\"white\",\"ticks\":\"\",\"title\":{\"standoff\":15},\"zerolinecolor\":\"white\",\"automargin\":true,\"zerolinewidth\":2},\"scene\":{\"xaxis\":{\"backgroundcolor\":\"#E5ECF6\",\"gridcolor\":\"white\",\"linecolor\":\"white\",\"showbackground\":true,\"ticks\":\"\",\"zerolinecolor\":\"white\",\"gridwidth\":2},\"yaxis\":{\"backgroundcolor\":\"#E5ECF6\",\"gridcolor\":\"white\",\"linecolor\":\"white\",\"showbackground\":true,\"ticks\":\"\",\"zerolinecolor\":\"white\",\"gridwidth\":2},\"zaxis\":{\"backgroundcolor\":\"#E5ECF6\",\"gridcolor\":\"white\",\"linecolor\":\"white\",\"showbackground\":true,\"ticks\":\"\",\"zerolinecolor\":\"white\",\"gridwidth\":2}},\"shapedefaults\":{\"line\":{\"color\":\"#2a3f5f\"}},\"annotationdefaults\":{\"arrowcolor\":\"#2a3f5f\",\"arrowhead\":0,\"arrowwidth\":1},\"geo\":{\"bgcolor\":\"white\",\"landcolor\":\"#E5ECF6\",\"subunitcolor\":\"white\",\"showland\":true,\"showlakes\":true,\"lakecolor\":\"white\"},\"title\":{\"x\":0.05},\"mapbox\":{\"style\":\"light\"}}},\"xaxis\":{\"anchor\":\"y\",\"domain\":[0.0,1.0],\"title\":{\"text\":\"Match\"}},\"yaxis\":{\"anchor\":\"x\",\"domain\":[0.0,1.0],\"title\":{\"text\":\"Count\"}},\"legend\":{\"tracegroupgap\":0},\"margin\":{\"t\":60},\"barmode\":\"relative\",\"title\":{\"text\":\"Number of Samples Matched to Brenda\"}},                        {\"responsive\": true}                    ).then(function(){\n",
       "                            \n",
       "var gd = document.getElementById('8d48c3ea-7e30-4b15-9fa0-10ab44d35c77');\n",
       "var x = new MutationObserver(function (mutations, observer) {{\n",
       "        var display = window.getComputedStyle(gd).display;\n",
       "        if (!display || display === 'none') {{\n",
       "            console.log([gd, 'removed!']);\n",
       "            Plotly.purge(gd);\n",
       "            observer.disconnect();\n",
       "        }}\n",
       "}});\n",
       "\n",
       "// Listen for the removal of the full notebook cells\n",
       "var notebookContainer = gd.closest('#notebook-container');\n",
       "if (notebookContainer) {{\n",
       "    x.observe(notebookContainer, {childList: true});\n",
       "}}\n",
       "\n",
       "// Listen for the clearing of the current output cell\n",
       "var outputEl = gd.closest('.output');\n",
       "if (outputEl) {{\n",
       "    x.observe(outputEl, {childList: true});\n",
       "}}\n",
       "\n",
       "                        })                };                });            </script>        </div>"
      ]
     },
     "metadata": {},
     "output_type": "display_data"
    },
    {
     "data": {
      "application/vnd.plotly.v1+json": {
       "config": {
        "plotlyServerURL": "https://plot.ly"
       },
       "data": [
        {
         "alignmentgroup": "True",
         "hovertemplate": "attribute=%{x}<br>count=%{y}<br>label=%{text}<extra></extra>",
         "legendgroup": "",
         "marker": {
          "color": "#636efa",
          "pattern": {
           "shape": ""
          }
         },
         "name": "",
         "offsetgroup": "",
         "orientation": "v",
         "showlegend": false,
         "text": [
          5517,
          409,
          14,
          1612,
          103,
          1,
          479,
          129,
          22,
          3,
          1,
          186,
          42,
          2,
          188,
          2,
          5,
          14,
          142,
          5,
          3,
          2,
          1,
          1,
          1,
          9,
          27,
          8,
          137,
          15,
          3,
          1,
          6,
          4,
          18,
          129,
          3,
          1,
          7,
          9,
          1,
          1,
          1,
          1,
          1,
          23,
          1,
          3,
          23,
          1,
          21,
          1,
          9,
          18,
          1,
          2,
          3,
          1,
          1,
          1,
          1,
          1,
          3,
          1,
          1,
          23,
          17,
          1,
          1,
          1,
          1,
          2,
          1,
          1,
          4,
          1,
          1,
          1,
          22,
          1,
          7,
          6,
          4,
          179,
          7,
          3,
          2,
          1,
          1,
          1,
          21,
          1,
          1,
          3,
          1,
          3,
          1,
          2,
          1,
          1,
          1,
          7,
          9,
          6,
          6,
          2,
          12,
          4,
          1,
          7,
          8,
          2,
          8,
          2,
          1,
          10,
          2,
          1,
          1,
          3,
          2,
          2,
          3,
          7,
          1,
          4,
          1,
          3,
          1,
          1,
          2,
          1,
          1,
          1,
          1,
          2,
          1,
          1,
          1,
          1,
          1,
          1,
          9,
          1,
          1,
          13,
          47,
          1,
          9,
          3,
          1,
          1,
          22,
          4,
          1,
          1,
          2,
          1,
          3,
          2,
          2,
          1,
          1,
          1,
          1,
          2,
          1,
          1,
          1,
          1,
          1,
          1,
          1,
          1,
          6,
          1,
          1,
          1,
          2,
          1,
          1,
          1,
          1,
          8,
          1
         ],
         "textposition": "auto",
         "type": "bar",
         "x": [
          null,
          "isolation_source",
          "analyte_type",
          "tissue",
          "dev_stage",
          "Sampling_Description",
          "histological_type",
          "study_name",
          "study_disease",
          "submitted_sample_id",
          "culturing conditions",
          "cell_type",
          "env_local_scale",
          "family_relationship",
          "source_name",
          "env_matter",
          "ArrayExpress-Species",
          "age",
          "env_medium",
          "Stage",
          "env_package",
          "microbial mat/biofilm environmental package",
          "organ_or_cell_type",
          "elev",
          "sample comment",
          "cell_line",
          "human gut environmental package",
          "samp_collect_device",
          "project_name",
          "sample_name",
          "note",
          "host_site_sampled",
          "ontological term",
          "description",
          "disease",
          "sample_type",
          "geo_loc_name",
          "host_tissue_sample",
          "plant-associated environmental package",
          "biomaterial_provider",
          "gestation_state",
          "soluble_org_mat",
          "primary tissue",
          "tissue compartment",
          "env matter",
          "host",
          "Sample_source_name",
          "target subfragment",
          "env_broad_scale",
          "source cell type",
          "host_tissue_sampled",
          "timepoint",
          "treatment",
          "soil environmental package",
          "environmental stress",
          "source material cell type",
          "tissue supergroup",
          "groups with 10 and more replicates",
          "growth condition",
          "colonization status",
          "growth_med",
          "surface",
          "type",
          "soil_no3_nh4_tin_total_n_units",
          "cell sorting strategy",
          "isolate",
          "common name",
          "Body Location",
          "tumour site",
          "Brain_area",
          "Sample Collection Device",
          "growth_protocol",
          "Tooth_Class",
          "target cell type",
          "title",
          "cell cluster",
          "lab_host",
          "cdnasynthesis",
          "life_stage",
          "infection",
          "brain region",
          "phenotype",
          "source_type",
          "INSDC center name",
          "organism",
          "tumor site",
          "strain",
          "environmental history",
          "cell or tissue type",
          "joint",
          "ArrayExpress-SPECIES",
          "metastatic site",
          "group",
          "plant_body_site",
          "name",
          "GOLD Ecosystem Classification",
          "collected_by",
          "host_diet",
          "propagation",
          "multiplexing",
          "habitat",
          "samp_mat_process",
          "host_life_stage",
          "host_body_product",
          "plant structure development stage",
          "life cycle stage",
          "source_material_id",
          "host_disease",
          "pathological_status",
          "isol_growth_condt",
          "plant_struc",
          "sub_species",
          "derived_from",
          "bio_material",
          "sample id",
          "isolation source host associated",
          "samp_size",
          "human gut environmental package*",
          "Age_Group",
          "progenitor cell type",
          "broker name",
          "host_age",
          "ref_biomaterial",
          "host_body_habitat",
          "cell type source",
          "cell_subtype",
          "brain bank",
          "plant_growth_med",
          "cell stage",
          "sample_processing_method",
          "condition",
          "cell_id",
          "replicate",
          "Submission title",
          "inferred cell type",
          "sampling site",
          "breed",
          "gut segment type",
          "gravidity",
          "pcr_clean_up_methods",
          "definition",
          "Replicate",
          "metagenome-source",
          "samp_protocol",
          "intestinal_region",
          "anatomical_part",
          "metagenomic source",
          "tissue source",
          "collecting institution",
          "plant anatomical entity",
          "altitude",
          "source_sample",
          "ww_sample_site",
          "host_anatomical_part",
          "body_location_collected",
          "dissection_roi",
          "virus identifier",
          "collection_method",
          "geographic location (region and locality)",
          "pulmonary_disord",
          "site",
          "domain",
          "Attribute",
          "subject",
          "soil_type",
          "source",
          "muscle state",
          "cultivar",
          "stage and sex",
          "regionre",
          "dna_extraction_kit",
          "misc_param",
          "microbial_biomass",
          "component_organism",
          "isolation source host-associated",
          "brainregion",
          "INSDC center alias",
          "localization",
          "local environmental context",
          "collection_device",
          "rhizosphere_or_soil",
          "library_construction_protocol",
          "water environmental package",
          "scientific_name",
          "plant developmental stage"
         ],
         "xaxis": "x",
         "y": [
          5517,
          409,
          14,
          1612,
          103,
          1,
          479,
          129,
          22,
          3,
          1,
          186,
          42,
          2,
          188,
          2,
          5,
          14,
          142,
          5,
          3,
          2,
          1,
          1,
          1,
          9,
          27,
          8,
          137,
          15,
          3,
          1,
          6,
          4,
          18,
          129,
          3,
          1,
          7,
          9,
          1,
          1,
          1,
          1,
          1,
          23,
          1,
          3,
          23,
          1,
          21,
          1,
          9,
          18,
          1,
          2,
          3,
          1,
          1,
          1,
          1,
          1,
          3,
          1,
          1,
          23,
          17,
          1,
          1,
          1,
          1,
          2,
          1,
          1,
          4,
          1,
          1,
          1,
          22,
          1,
          7,
          6,
          4,
          179,
          7,
          3,
          2,
          1,
          1,
          1,
          21,
          1,
          1,
          3,
          1,
          3,
          1,
          2,
          1,
          1,
          1,
          7,
          9,
          6,
          6,
          2,
          12,
          4,
          1,
          7,
          8,
          2,
          8,
          2,
          1,
          10,
          2,
          1,
          1,
          3,
          2,
          2,
          3,
          7,
          1,
          4,
          1,
          3,
          1,
          1,
          2,
          1,
          1,
          1,
          1,
          2,
          1,
          1,
          1,
          1,
          1,
          1,
          9,
          1,
          1,
          13,
          47,
          1,
          9,
          3,
          1,
          1,
          22,
          4,
          1,
          1,
          2,
          1,
          3,
          2,
          2,
          1,
          1,
          1,
          1,
          2,
          1,
          1,
          1,
          1,
          1,
          1,
          1,
          1,
          6,
          1,
          1,
          1,
          2,
          1,
          1,
          1,
          1,
          8,
          1
         ],
         "yaxis": "y"
        }
       ],
       "layout": {
        "barmode": "relative",
        "legend": {
         "tracegroupgap": 0
        },
        "margin": {
         "t": 60
        },
        "template": {
         "data": {
          "bar": [
           {
            "error_x": {
             "color": "#2a3f5f"
            },
            "error_y": {
             "color": "#2a3f5f"
            },
            "marker": {
             "line": {
              "color": "#E5ECF6",
              "width": 0.5
             },
             "pattern": {
              "fillmode": "overlay",
              "size": 10,
              "solidity": 0.2
             }
            },
            "type": "bar"
           }
          ],
          "barpolar": [
           {
            "marker": {
             "line": {
              "color": "#E5ECF6",
              "width": 0.5
             },
             "pattern": {
              "fillmode": "overlay",
              "size": 10,
              "solidity": 0.2
             }
            },
            "type": "barpolar"
           }
          ],
          "carpet": [
           {
            "aaxis": {
             "endlinecolor": "#2a3f5f",
             "gridcolor": "white",
             "linecolor": "white",
             "minorgridcolor": "white",
             "startlinecolor": "#2a3f5f"
            },
            "baxis": {
             "endlinecolor": "#2a3f5f",
             "gridcolor": "white",
             "linecolor": "white",
             "minorgridcolor": "white",
             "startlinecolor": "#2a3f5f"
            },
            "type": "carpet"
           }
          ],
          "choropleth": [
           {
            "colorbar": {
             "outlinewidth": 0,
             "ticks": ""
            },
            "type": "choropleth"
           }
          ],
          "contour": [
           {
            "colorbar": {
             "outlinewidth": 0,
             "ticks": ""
            },
            "colorscale": [
             [
              0,
              "#0d0887"
             ],
             [
              0.1111111111111111,
              "#46039f"
             ],
             [
              0.2222222222222222,
              "#7201a8"
             ],
             [
              0.3333333333333333,
              "#9c179e"
             ],
             [
              0.4444444444444444,
              "#bd3786"
             ],
             [
              0.5555555555555556,
              "#d8576b"
             ],
             [
              0.6666666666666666,
              "#ed7953"
             ],
             [
              0.7777777777777778,
              "#fb9f3a"
             ],
             [
              0.8888888888888888,
              "#fdca26"
             ],
             [
              1,
              "#f0f921"
             ]
            ],
            "type": "contour"
           }
          ],
          "contourcarpet": [
           {
            "colorbar": {
             "outlinewidth": 0,
             "ticks": ""
            },
            "type": "contourcarpet"
           }
          ],
          "heatmap": [
           {
            "colorbar": {
             "outlinewidth": 0,
             "ticks": ""
            },
            "colorscale": [
             [
              0,
              "#0d0887"
             ],
             [
              0.1111111111111111,
              "#46039f"
             ],
             [
              0.2222222222222222,
              "#7201a8"
             ],
             [
              0.3333333333333333,
              "#9c179e"
             ],
             [
              0.4444444444444444,
              "#bd3786"
             ],
             [
              0.5555555555555556,
              "#d8576b"
             ],
             [
              0.6666666666666666,
              "#ed7953"
             ],
             [
              0.7777777777777778,
              "#fb9f3a"
             ],
             [
              0.8888888888888888,
              "#fdca26"
             ],
             [
              1,
              "#f0f921"
             ]
            ],
            "type": "heatmap"
           }
          ],
          "heatmapgl": [
           {
            "colorbar": {
             "outlinewidth": 0,
             "ticks": ""
            },
            "colorscale": [
             [
              0,
              "#0d0887"
             ],
             [
              0.1111111111111111,
              "#46039f"
             ],
             [
              0.2222222222222222,
              "#7201a8"
             ],
             [
              0.3333333333333333,
              "#9c179e"
             ],
             [
              0.4444444444444444,
              "#bd3786"
             ],
             [
              0.5555555555555556,
              "#d8576b"
             ],
             [
              0.6666666666666666,
              "#ed7953"
             ],
             [
              0.7777777777777778,
              "#fb9f3a"
             ],
             [
              0.8888888888888888,
              "#fdca26"
             ],
             [
              1,
              "#f0f921"
             ]
            ],
            "type": "heatmapgl"
           }
          ],
          "histogram": [
           {
            "marker": {
             "pattern": {
              "fillmode": "overlay",
              "size": 10,
              "solidity": 0.2
             }
            },
            "type": "histogram"
           }
          ],
          "histogram2d": [
           {
            "colorbar": {
             "outlinewidth": 0,
             "ticks": ""
            },
            "colorscale": [
             [
              0,
              "#0d0887"
             ],
             [
              0.1111111111111111,
              "#46039f"
             ],
             [
              0.2222222222222222,
              "#7201a8"
             ],
             [
              0.3333333333333333,
              "#9c179e"
             ],
             [
              0.4444444444444444,
              "#bd3786"
             ],
             [
              0.5555555555555556,
              "#d8576b"
             ],
             [
              0.6666666666666666,
              "#ed7953"
             ],
             [
              0.7777777777777778,
              "#fb9f3a"
             ],
             [
              0.8888888888888888,
              "#fdca26"
             ],
             [
              1,
              "#f0f921"
             ]
            ],
            "type": "histogram2d"
           }
          ],
          "histogram2dcontour": [
           {
            "colorbar": {
             "outlinewidth": 0,
             "ticks": ""
            },
            "colorscale": [
             [
              0,
              "#0d0887"
             ],
             [
              0.1111111111111111,
              "#46039f"
             ],
             [
              0.2222222222222222,
              "#7201a8"
             ],
             [
              0.3333333333333333,
              "#9c179e"
             ],
             [
              0.4444444444444444,
              "#bd3786"
             ],
             [
              0.5555555555555556,
              "#d8576b"
             ],
             [
              0.6666666666666666,
              "#ed7953"
             ],
             [
              0.7777777777777778,
              "#fb9f3a"
             ],
             [
              0.8888888888888888,
              "#fdca26"
             ],
             [
              1,
              "#f0f921"
             ]
            ],
            "type": "histogram2dcontour"
           }
          ],
          "mesh3d": [
           {
            "colorbar": {
             "outlinewidth": 0,
             "ticks": ""
            },
            "type": "mesh3d"
           }
          ],
          "parcoords": [
           {
            "line": {
             "colorbar": {
              "outlinewidth": 0,
              "ticks": ""
             }
            },
            "type": "parcoords"
           }
          ],
          "pie": [
           {
            "automargin": true,
            "type": "pie"
           }
          ],
          "scatter": [
           {
            "fillpattern": {
             "fillmode": "overlay",
             "size": 10,
             "solidity": 0.2
            },
            "type": "scatter"
           }
          ],
          "scatter3d": [
           {
            "line": {
             "colorbar": {
              "outlinewidth": 0,
              "ticks": ""
             }
            },
            "marker": {
             "colorbar": {
              "outlinewidth": 0,
              "ticks": ""
             }
            },
            "type": "scatter3d"
           }
          ],
          "scattercarpet": [
           {
            "marker": {
             "colorbar": {
              "outlinewidth": 0,
              "ticks": ""
             }
            },
            "type": "scattercarpet"
           }
          ],
          "scattergeo": [
           {
            "marker": {
             "colorbar": {
              "outlinewidth": 0,
              "ticks": ""
             }
            },
            "type": "scattergeo"
           }
          ],
          "scattergl": [
           {
            "marker": {
             "colorbar": {
              "outlinewidth": 0,
              "ticks": ""
             }
            },
            "type": "scattergl"
           }
          ],
          "scattermapbox": [
           {
            "marker": {
             "colorbar": {
              "outlinewidth": 0,
              "ticks": ""
             }
            },
            "type": "scattermapbox"
           }
          ],
          "scatterpolar": [
           {
            "marker": {
             "colorbar": {
              "outlinewidth": 0,
              "ticks": ""
             }
            },
            "type": "scatterpolar"
           }
          ],
          "scatterpolargl": [
           {
            "marker": {
             "colorbar": {
              "outlinewidth": 0,
              "ticks": ""
             }
            },
            "type": "scatterpolargl"
           }
          ],
          "scatterternary": [
           {
            "marker": {
             "colorbar": {
              "outlinewidth": 0,
              "ticks": ""
             }
            },
            "type": "scatterternary"
           }
          ],
          "surface": [
           {
            "colorbar": {
             "outlinewidth": 0,
             "ticks": ""
            },
            "colorscale": [
             [
              0,
              "#0d0887"
             ],
             [
              0.1111111111111111,
              "#46039f"
             ],
             [
              0.2222222222222222,
              "#7201a8"
             ],
             [
              0.3333333333333333,
              "#9c179e"
             ],
             [
              0.4444444444444444,
              "#bd3786"
             ],
             [
              0.5555555555555556,
              "#d8576b"
             ],
             [
              0.6666666666666666,
              "#ed7953"
             ],
             [
              0.7777777777777778,
              "#fb9f3a"
             ],
             [
              0.8888888888888888,
              "#fdca26"
             ],
             [
              1,
              "#f0f921"
             ]
            ],
            "type": "surface"
           }
          ],
          "table": [
           {
            "cells": {
             "fill": {
              "color": "#EBF0F8"
             },
             "line": {
              "color": "white"
             }
            },
            "header": {
             "fill": {
              "color": "#C8D4E3"
             },
             "line": {
              "color": "white"
             }
            },
            "type": "table"
           }
          ]
         },
         "layout": {
          "annotationdefaults": {
           "arrowcolor": "#2a3f5f",
           "arrowhead": 0,
           "arrowwidth": 1
          },
          "autotypenumbers": "strict",
          "coloraxis": {
           "colorbar": {
            "outlinewidth": 0,
            "ticks": ""
           }
          },
          "colorscale": {
           "diverging": [
            [
             0,
             "#8e0152"
            ],
            [
             0.1,
             "#c51b7d"
            ],
            [
             0.2,
             "#de77ae"
            ],
            [
             0.3,
             "#f1b6da"
            ],
            [
             0.4,
             "#fde0ef"
            ],
            [
             0.5,
             "#f7f7f7"
            ],
            [
             0.6,
             "#e6f5d0"
            ],
            [
             0.7,
             "#b8e186"
            ],
            [
             0.8,
             "#7fbc41"
            ],
            [
             0.9,
             "#4d9221"
            ],
            [
             1,
             "#276419"
            ]
           ],
           "sequential": [
            [
             0,
             "#0d0887"
            ],
            [
             0.1111111111111111,
             "#46039f"
            ],
            [
             0.2222222222222222,
             "#7201a8"
            ],
            [
             0.3333333333333333,
             "#9c179e"
            ],
            [
             0.4444444444444444,
             "#bd3786"
            ],
            [
             0.5555555555555556,
             "#d8576b"
            ],
            [
             0.6666666666666666,
             "#ed7953"
            ],
            [
             0.7777777777777778,
             "#fb9f3a"
            ],
            [
             0.8888888888888888,
             "#fdca26"
            ],
            [
             1,
             "#f0f921"
            ]
           ],
           "sequentialminus": [
            [
             0,
             "#0d0887"
            ],
            [
             0.1111111111111111,
             "#46039f"
            ],
            [
             0.2222222222222222,
             "#7201a8"
            ],
            [
             0.3333333333333333,
             "#9c179e"
            ],
            [
             0.4444444444444444,
             "#bd3786"
            ],
            [
             0.5555555555555556,
             "#d8576b"
            ],
            [
             0.6666666666666666,
             "#ed7953"
            ],
            [
             0.7777777777777778,
             "#fb9f3a"
            ],
            [
             0.8888888888888888,
             "#fdca26"
            ],
            [
             1,
             "#f0f921"
            ]
           ]
          },
          "colorway": [
           "#636efa",
           "#EF553B",
           "#00cc96",
           "#ab63fa",
           "#FFA15A",
           "#19d3f3",
           "#FF6692",
           "#B6E880",
           "#FF97FF",
           "#FECB52"
          ],
          "font": {
           "color": "#2a3f5f"
          },
          "geo": {
           "bgcolor": "white",
           "lakecolor": "white",
           "landcolor": "#E5ECF6",
           "showlakes": true,
           "showland": true,
           "subunitcolor": "white"
          },
          "hoverlabel": {
           "align": "left"
          },
          "hovermode": "closest",
          "mapbox": {
           "style": "light"
          },
          "paper_bgcolor": "white",
          "plot_bgcolor": "#E5ECF6",
          "polar": {
           "angularaxis": {
            "gridcolor": "white",
            "linecolor": "white",
            "ticks": ""
           },
           "bgcolor": "#E5ECF6",
           "radialaxis": {
            "gridcolor": "white",
            "linecolor": "white",
            "ticks": ""
           }
          },
          "scene": {
           "xaxis": {
            "backgroundcolor": "#E5ECF6",
            "gridcolor": "white",
            "gridwidth": 2,
            "linecolor": "white",
            "showbackground": true,
            "ticks": "",
            "zerolinecolor": "white"
           },
           "yaxis": {
            "backgroundcolor": "#E5ECF6",
            "gridcolor": "white",
            "gridwidth": 2,
            "linecolor": "white",
            "showbackground": true,
            "ticks": "",
            "zerolinecolor": "white"
           },
           "zaxis": {
            "backgroundcolor": "#E5ECF6",
            "gridcolor": "white",
            "gridwidth": 2,
            "linecolor": "white",
            "showbackground": true,
            "ticks": "",
            "zerolinecolor": "white"
           }
          },
          "shapedefaults": {
           "line": {
            "color": "#2a3f5f"
           }
          },
          "ternary": {
           "aaxis": {
            "gridcolor": "white",
            "linecolor": "white",
            "ticks": ""
           },
           "baxis": {
            "gridcolor": "white",
            "linecolor": "white",
            "ticks": ""
           },
           "bgcolor": "#E5ECF6",
           "caxis": {
            "gridcolor": "white",
            "linecolor": "white",
            "ticks": ""
           }
          },
          "title": {
           "x": 0.05
          },
          "xaxis": {
           "automargin": true,
           "gridcolor": "white",
           "linecolor": "white",
           "ticks": "",
           "title": {
            "standoff": 15
           },
           "zerolinecolor": "white",
           "zerolinewidth": 2
          },
          "yaxis": {
           "automargin": true,
           "gridcolor": "white",
           "linecolor": "white",
           "ticks": "",
           "title": {
            "standoff": 15
           },
           "zerolinecolor": "white",
           "zerolinewidth": 2
          }
         }
        },
        "title": {
         "text": "Counts for found attributes"
        },
        "xaxis": {
         "anchor": "y",
         "domain": [
          0,
          1
         ],
         "title": {
          "text": "Attribute"
         }
        },
        "yaxis": {
         "anchor": "x",
         "domain": [
          0,
          1
         ],
         "title": {
          "text": "Count"
         }
        }
       }
      },
      "text/html": [
       "<div>                            <div id=\"37a32ebc-79b3-4bee-9c3d-6c6f2acbde7f\" class=\"plotly-graph-div\" style=\"height:525px; width:100%;\"></div>            <script type=\"text/javascript\">                require([\"plotly\"], function(Plotly) {                    window.PLOTLYENV=window.PLOTLYENV || {};                                    if (document.getElementById(\"37a32ebc-79b3-4bee-9c3d-6c6f2acbde7f\")) {                    Plotly.newPlot(                        \"37a32ebc-79b3-4bee-9c3d-6c6f2acbde7f\",                        [{\"alignmentgroup\":\"True\",\"hovertemplate\":\"attribute=%{x}<br>count=%{y}<br>label=%{text}<extra></extra>\",\"legendgroup\":\"\",\"marker\":{\"color\":\"#636efa\",\"pattern\":{\"shape\":\"\"}},\"name\":\"\",\"offsetgroup\":\"\",\"orientation\":\"v\",\"showlegend\":false,\"text\":[5517.0,409.0,14.0,1612.0,103.0,1.0,479.0,129.0,22.0,3.0,1.0,186.0,42.0,2.0,188.0,2.0,5.0,14.0,142.0,5.0,3.0,2.0,1.0,1.0,1.0,9.0,27.0,8.0,137.0,15.0,3.0,1.0,6.0,4.0,18.0,129.0,3.0,1.0,7.0,9.0,1.0,1.0,1.0,1.0,1.0,23.0,1.0,3.0,23.0,1.0,21.0,1.0,9.0,18.0,1.0,2.0,3.0,1.0,1.0,1.0,1.0,1.0,3.0,1.0,1.0,23.0,17.0,1.0,1.0,1.0,1.0,2.0,1.0,1.0,4.0,1.0,1.0,1.0,22.0,1.0,7.0,6.0,4.0,179.0,7.0,3.0,2.0,1.0,1.0,1.0,21.0,1.0,1.0,3.0,1.0,3.0,1.0,2.0,1.0,1.0,1.0,7.0,9.0,6.0,6.0,2.0,12.0,4.0,1.0,7.0,8.0,2.0,8.0,2.0,1.0,10.0,2.0,1.0,1.0,3.0,2.0,2.0,3.0,7.0,1.0,4.0,1.0,3.0,1.0,1.0,2.0,1.0,1.0,1.0,1.0,2.0,1.0,1.0,1.0,1.0,1.0,1.0,9.0,1.0,1.0,13.0,47.0,1.0,9.0,3.0,1.0,1.0,22.0,4.0,1.0,1.0,2.0,1.0,3.0,2.0,2.0,1.0,1.0,1.0,1.0,2.0,1.0,1.0,1.0,1.0,1.0,1.0,1.0,1.0,6.0,1.0,1.0,1.0,2.0,1.0,1.0,1.0,1.0,8.0,1.0],\"textposition\":\"auto\",\"x\":[null,\"isolation_source\",\"analyte_type\",\"tissue\",\"dev_stage\",\"Sampling_Description\",\"histological_type\",\"study_name\",\"study_disease\",\"submitted_sample_id\",\"culturing conditions\",\"cell_type\",\"env_local_scale\",\"family_relationship\",\"source_name\",\"env_matter\",\"ArrayExpress-Species\",\"age\",\"env_medium\",\"Stage\",\"env_package\",\"microbial mat/biofilm environmental package\",\"organ_or_cell_type\",\"elev\",\"sample comment\",\"cell_line\",\"human gut environmental package\",\"samp_collect_device\",\"project_name\",\"sample_name\",\"note\",\"host_site_sampled\",\"ontological term\",\"description\",\"disease\",\"sample_type\",\"geo_loc_name\",\"host_tissue_sample\",\"plant-associated environmental package\",\"biomaterial_provider\",\"gestation_state\",\"soluble_org_mat\",\"primary tissue\",\"tissue compartment\",\"env matter\",\"host\",\"Sample_source_name\",\"target subfragment\",\"env_broad_scale\",\"source cell type\",\"host_tissue_sampled\",\"timepoint\",\"treatment\",\"soil environmental package\",\"environmental stress\",\"source material cell type\",\"tissue supergroup\",\"groups with 10 and more replicates\",\"growth condition\",\"colonization status\",\"growth_med\",\"surface\",\"type\",\"soil_no3_nh4_tin_total_n_units\",\"cell sorting strategy\",\"isolate\",\"common name\",\"Body Location\",\"tumour site\",\"Brain_area\",\"Sample Collection Device\",\"growth_protocol\",\"Tooth_Class\",\"target cell type\",\"title\",\"cell cluster\",\"lab_host\",\"cdnasynthesis\",\"life_stage\",\"infection\",\"brain region\",\"phenotype\",\"source_type\",\"INSDC center name\",\"organism\",\"tumor site\",\"strain\",\"environmental history\",\"cell or tissue type\",\"joint\",\"ArrayExpress-SPECIES\",\"metastatic site\",\"group\",\"plant_body_site\",\"name\",\"GOLD Ecosystem Classification\",\"collected_by\",\"host_diet\",\"propagation\",\"multiplexing\",\"habitat\",\"samp_mat_process\",\"host_life_stage\",\"host_body_product\",\"plant structure development stage\",\"life cycle stage\",\"source_material_id\",\"host_disease\",\"pathological_status\",\"isol_growth_condt\",\"plant_struc\",\"sub_species\",\"derived_from\",\"bio_material\",\"sample id\",\"isolation source host associated\",\"samp_size\",\"human gut environmental package*\",\"Age_Group\",\"progenitor cell type\",\"broker name\",\"host_age\",\"ref_biomaterial\",\"host_body_habitat\",\"cell type source\",\"cell_subtype\",\"brain bank\",\"plant_growth_med\",\"cell stage\",\"sample_processing_method\",\"condition\",\"cell_id\",\"replicate\",\"Submission title\",\"inferred cell type\",\"sampling site\",\"breed\",\"gut segment type\",\"gravidity\",\"pcr_clean_up_methods\",\"definition\",\"Replicate\",\"metagenome-source\",\"samp_protocol\",\"intestinal_region\",\"anatomical_part\",\"metagenomic source\",\"tissue source\",\"collecting institution\",\"plant anatomical entity\",\"altitude\",\"source_sample\",\"ww_sample_site\",\"host_anatomical_part\",\"body_location_collected\",\"dissection_roi\",\"virus identifier\",\"collection_method\",\"geographic location (region and locality)\",\"pulmonary_disord\",\"site\",\"domain\",\"Attribute\",\"subject\",\"soil_type\",\"source\",\"muscle state\",\"cultivar\",\"stage and sex\",\"regionre\",\"dna_extraction_kit\",\"misc_param\",\"microbial_biomass\",\"component_organism\",\"isolation source host-associated\",\"brainregion\",\"INSDC center alias\",\"localization\",\"local environmental context\",\"collection_device\",\"rhizosphere_or_soil\",\"library_construction_protocol\",\"water environmental package\",\"scientific_name\",\"plant developmental stage\"],\"xaxis\":\"x\",\"y\":[5517,409,14,1612,103,1,479,129,22,3,1,186,42,2,188,2,5,14,142,5,3,2,1,1,1,9,27,8,137,15,3,1,6,4,18,129,3,1,7,9,1,1,1,1,1,23,1,3,23,1,21,1,9,18,1,2,3,1,1,1,1,1,3,1,1,23,17,1,1,1,1,2,1,1,4,1,1,1,22,1,7,6,4,179,7,3,2,1,1,1,21,1,1,3,1,3,1,2,1,1,1,7,9,6,6,2,12,4,1,7,8,2,8,2,1,10,2,1,1,3,2,2,3,7,1,4,1,3,1,1,2,1,1,1,1,2,1,1,1,1,1,1,9,1,1,13,47,1,9,3,1,1,22,4,1,1,2,1,3,2,2,1,1,1,1,2,1,1,1,1,1,1,1,1,6,1,1,1,2,1,1,1,1,8,1],\"yaxis\":\"y\",\"type\":\"bar\"}],                        {\"template\":{\"data\":{\"histogram2dcontour\":[{\"type\":\"histogram2dcontour\",\"colorbar\":{\"outlinewidth\":0,\"ticks\":\"\"},\"colorscale\":[[0.0,\"#0d0887\"],[0.1111111111111111,\"#46039f\"],[0.2222222222222222,\"#7201a8\"],[0.3333333333333333,\"#9c179e\"],[0.4444444444444444,\"#bd3786\"],[0.5555555555555556,\"#d8576b\"],[0.6666666666666666,\"#ed7953\"],[0.7777777777777778,\"#fb9f3a\"],[0.8888888888888888,\"#fdca26\"],[1.0,\"#f0f921\"]]}],\"choropleth\":[{\"type\":\"choropleth\",\"colorbar\":{\"outlinewidth\":0,\"ticks\":\"\"}}],\"histogram2d\":[{\"type\":\"histogram2d\",\"colorbar\":{\"outlinewidth\":0,\"ticks\":\"\"},\"colorscale\":[[0.0,\"#0d0887\"],[0.1111111111111111,\"#46039f\"],[0.2222222222222222,\"#7201a8\"],[0.3333333333333333,\"#9c179e\"],[0.4444444444444444,\"#bd3786\"],[0.5555555555555556,\"#d8576b\"],[0.6666666666666666,\"#ed7953\"],[0.7777777777777778,\"#fb9f3a\"],[0.8888888888888888,\"#fdca26\"],[1.0,\"#f0f921\"]]}],\"heatmap\":[{\"type\":\"heatmap\",\"colorbar\":{\"outlinewidth\":0,\"ticks\":\"\"},\"colorscale\":[[0.0,\"#0d0887\"],[0.1111111111111111,\"#46039f\"],[0.2222222222222222,\"#7201a8\"],[0.3333333333333333,\"#9c179e\"],[0.4444444444444444,\"#bd3786\"],[0.5555555555555556,\"#d8576b\"],[0.6666666666666666,\"#ed7953\"],[0.7777777777777778,\"#fb9f3a\"],[0.8888888888888888,\"#fdca26\"],[1.0,\"#f0f921\"]]}],\"heatmapgl\":[{\"type\":\"heatmapgl\",\"colorbar\":{\"outlinewidth\":0,\"ticks\":\"\"},\"colorscale\":[[0.0,\"#0d0887\"],[0.1111111111111111,\"#46039f\"],[0.2222222222222222,\"#7201a8\"],[0.3333333333333333,\"#9c179e\"],[0.4444444444444444,\"#bd3786\"],[0.5555555555555556,\"#d8576b\"],[0.6666666666666666,\"#ed7953\"],[0.7777777777777778,\"#fb9f3a\"],[0.8888888888888888,\"#fdca26\"],[1.0,\"#f0f921\"]]}],\"contourcarpet\":[{\"type\":\"contourcarpet\",\"colorbar\":{\"outlinewidth\":0,\"ticks\":\"\"}}],\"contour\":[{\"type\":\"contour\",\"colorbar\":{\"outlinewidth\":0,\"ticks\":\"\"},\"colorscale\":[[0.0,\"#0d0887\"],[0.1111111111111111,\"#46039f\"],[0.2222222222222222,\"#7201a8\"],[0.3333333333333333,\"#9c179e\"],[0.4444444444444444,\"#bd3786\"],[0.5555555555555556,\"#d8576b\"],[0.6666666666666666,\"#ed7953\"],[0.7777777777777778,\"#fb9f3a\"],[0.8888888888888888,\"#fdca26\"],[1.0,\"#f0f921\"]]}],\"surface\":[{\"type\":\"surface\",\"colorbar\":{\"outlinewidth\":0,\"ticks\":\"\"},\"colorscale\":[[0.0,\"#0d0887\"],[0.1111111111111111,\"#46039f\"],[0.2222222222222222,\"#7201a8\"],[0.3333333333333333,\"#9c179e\"],[0.4444444444444444,\"#bd3786\"],[0.5555555555555556,\"#d8576b\"],[0.6666666666666666,\"#ed7953\"],[0.7777777777777778,\"#fb9f3a\"],[0.8888888888888888,\"#fdca26\"],[1.0,\"#f0f921\"]]}],\"mesh3d\":[{\"type\":\"mesh3d\",\"colorbar\":{\"outlinewidth\":0,\"ticks\":\"\"}}],\"scatter\":[{\"fillpattern\":{\"fillmode\":\"overlay\",\"size\":10,\"solidity\":0.2},\"type\":\"scatter\"}],\"parcoords\":[{\"type\":\"parcoords\",\"line\":{\"colorbar\":{\"outlinewidth\":0,\"ticks\":\"\"}}}],\"scatterpolargl\":[{\"type\":\"scatterpolargl\",\"marker\":{\"colorbar\":{\"outlinewidth\":0,\"ticks\":\"\"}}}],\"bar\":[{\"error_x\":{\"color\":\"#2a3f5f\"},\"error_y\":{\"color\":\"#2a3f5f\"},\"marker\":{\"line\":{\"color\":\"#E5ECF6\",\"width\":0.5},\"pattern\":{\"fillmode\":\"overlay\",\"size\":10,\"solidity\":0.2}},\"type\":\"bar\"}],\"scattergeo\":[{\"type\":\"scattergeo\",\"marker\":{\"colorbar\":{\"outlinewidth\":0,\"ticks\":\"\"}}}],\"scatterpolar\":[{\"type\":\"scatterpolar\",\"marker\":{\"colorbar\":{\"outlinewidth\":0,\"ticks\":\"\"}}}],\"histogram\":[{\"marker\":{\"pattern\":{\"fillmode\":\"overlay\",\"size\":10,\"solidity\":0.2}},\"type\":\"histogram\"}],\"scattergl\":[{\"type\":\"scattergl\",\"marker\":{\"colorbar\":{\"outlinewidth\":0,\"ticks\":\"\"}}}],\"scatter3d\":[{\"type\":\"scatter3d\",\"line\":{\"colorbar\":{\"outlinewidth\":0,\"ticks\":\"\"}},\"marker\":{\"colorbar\":{\"outlinewidth\":0,\"ticks\":\"\"}}}],\"scattermapbox\":[{\"type\":\"scattermapbox\",\"marker\":{\"colorbar\":{\"outlinewidth\":0,\"ticks\":\"\"}}}],\"scatterternary\":[{\"type\":\"scatterternary\",\"marker\":{\"colorbar\":{\"outlinewidth\":0,\"ticks\":\"\"}}}],\"scattercarpet\":[{\"type\":\"scattercarpet\",\"marker\":{\"colorbar\":{\"outlinewidth\":0,\"ticks\":\"\"}}}],\"carpet\":[{\"aaxis\":{\"endlinecolor\":\"#2a3f5f\",\"gridcolor\":\"white\",\"linecolor\":\"white\",\"minorgridcolor\":\"white\",\"startlinecolor\":\"#2a3f5f\"},\"baxis\":{\"endlinecolor\":\"#2a3f5f\",\"gridcolor\":\"white\",\"linecolor\":\"white\",\"minorgridcolor\":\"white\",\"startlinecolor\":\"#2a3f5f\"},\"type\":\"carpet\"}],\"table\":[{\"cells\":{\"fill\":{\"color\":\"#EBF0F8\"},\"line\":{\"color\":\"white\"}},\"header\":{\"fill\":{\"color\":\"#C8D4E3\"},\"line\":{\"color\":\"white\"}},\"type\":\"table\"}],\"barpolar\":[{\"marker\":{\"line\":{\"color\":\"#E5ECF6\",\"width\":0.5},\"pattern\":{\"fillmode\":\"overlay\",\"size\":10,\"solidity\":0.2}},\"type\":\"barpolar\"}],\"pie\":[{\"automargin\":true,\"type\":\"pie\"}]},\"layout\":{\"autotypenumbers\":\"strict\",\"colorway\":[\"#636efa\",\"#EF553B\",\"#00cc96\",\"#ab63fa\",\"#FFA15A\",\"#19d3f3\",\"#FF6692\",\"#B6E880\",\"#FF97FF\",\"#FECB52\"],\"font\":{\"color\":\"#2a3f5f\"},\"hovermode\":\"closest\",\"hoverlabel\":{\"align\":\"left\"},\"paper_bgcolor\":\"white\",\"plot_bgcolor\":\"#E5ECF6\",\"polar\":{\"bgcolor\":\"#E5ECF6\",\"angularaxis\":{\"gridcolor\":\"white\",\"linecolor\":\"white\",\"ticks\":\"\"},\"radialaxis\":{\"gridcolor\":\"white\",\"linecolor\":\"white\",\"ticks\":\"\"}},\"ternary\":{\"bgcolor\":\"#E5ECF6\",\"aaxis\":{\"gridcolor\":\"white\",\"linecolor\":\"white\",\"ticks\":\"\"},\"baxis\":{\"gridcolor\":\"white\",\"linecolor\":\"white\",\"ticks\":\"\"},\"caxis\":{\"gridcolor\":\"white\",\"linecolor\":\"white\",\"ticks\":\"\"}},\"coloraxis\":{\"colorbar\":{\"outlinewidth\":0,\"ticks\":\"\"}},\"colorscale\":{\"sequential\":[[0.0,\"#0d0887\"],[0.1111111111111111,\"#46039f\"],[0.2222222222222222,\"#7201a8\"],[0.3333333333333333,\"#9c179e\"],[0.4444444444444444,\"#bd3786\"],[0.5555555555555556,\"#d8576b\"],[0.6666666666666666,\"#ed7953\"],[0.7777777777777778,\"#fb9f3a\"],[0.8888888888888888,\"#fdca26\"],[1.0,\"#f0f921\"]],\"sequentialminus\":[[0.0,\"#0d0887\"],[0.1111111111111111,\"#46039f\"],[0.2222222222222222,\"#7201a8\"],[0.3333333333333333,\"#9c179e\"],[0.4444444444444444,\"#bd3786\"],[0.5555555555555556,\"#d8576b\"],[0.6666666666666666,\"#ed7953\"],[0.7777777777777778,\"#fb9f3a\"],[0.8888888888888888,\"#fdca26\"],[1.0,\"#f0f921\"]],\"diverging\":[[0,\"#8e0152\"],[0.1,\"#c51b7d\"],[0.2,\"#de77ae\"],[0.3,\"#f1b6da\"],[0.4,\"#fde0ef\"],[0.5,\"#f7f7f7\"],[0.6,\"#e6f5d0\"],[0.7,\"#b8e186\"],[0.8,\"#7fbc41\"],[0.9,\"#4d9221\"],[1,\"#276419\"]]},\"xaxis\":{\"gridcolor\":\"white\",\"linecolor\":\"white\",\"ticks\":\"\",\"title\":{\"standoff\":15},\"zerolinecolor\":\"white\",\"automargin\":true,\"zerolinewidth\":2},\"yaxis\":{\"gridcolor\":\"white\",\"linecolor\":\"white\",\"ticks\":\"\",\"title\":{\"standoff\":15},\"zerolinecolor\":\"white\",\"automargin\":true,\"zerolinewidth\":2},\"scene\":{\"xaxis\":{\"backgroundcolor\":\"#E5ECF6\",\"gridcolor\":\"white\",\"linecolor\":\"white\",\"showbackground\":true,\"ticks\":\"\",\"zerolinecolor\":\"white\",\"gridwidth\":2},\"yaxis\":{\"backgroundcolor\":\"#E5ECF6\",\"gridcolor\":\"white\",\"linecolor\":\"white\",\"showbackground\":true,\"ticks\":\"\",\"zerolinecolor\":\"white\",\"gridwidth\":2},\"zaxis\":{\"backgroundcolor\":\"#E5ECF6\",\"gridcolor\":\"white\",\"linecolor\":\"white\",\"showbackground\":true,\"ticks\":\"\",\"zerolinecolor\":\"white\",\"gridwidth\":2}},\"shapedefaults\":{\"line\":{\"color\":\"#2a3f5f\"}},\"annotationdefaults\":{\"arrowcolor\":\"#2a3f5f\",\"arrowhead\":0,\"arrowwidth\":1},\"geo\":{\"bgcolor\":\"white\",\"landcolor\":\"#E5ECF6\",\"subunitcolor\":\"white\",\"showland\":true,\"showlakes\":true,\"lakecolor\":\"white\"},\"title\":{\"x\":0.05},\"mapbox\":{\"style\":\"light\"}}},\"xaxis\":{\"anchor\":\"y\",\"domain\":[0.0,1.0],\"title\":{\"text\":\"Attribute\"}},\"yaxis\":{\"anchor\":\"x\",\"domain\":[0.0,1.0],\"title\":{\"text\":\"Count\"}},\"legend\":{\"tracegroupgap\":0},\"margin\":{\"t\":60},\"barmode\":\"relative\",\"title\":{\"text\":\"Counts for found attributes\"}},                        {\"responsive\": true}                    ).then(function(){\n",
       "                            \n",
       "var gd = document.getElementById('37a32ebc-79b3-4bee-9c3d-6c6f2acbde7f');\n",
       "var x = new MutationObserver(function (mutations, observer) {{\n",
       "        var display = window.getComputedStyle(gd).display;\n",
       "        if (!display || display === 'none') {{\n",
       "            console.log([gd, 'removed!']);\n",
       "            Plotly.purge(gd);\n",
       "            observer.disconnect();\n",
       "        }}\n",
       "}});\n",
       "\n",
       "// Listen for the removal of the full notebook cells\n",
       "var notebookContainer = gd.closest('#notebook-container');\n",
       "if (notebookContainer) {{\n",
       "    x.observe(notebookContainer, {childList: true});\n",
       "}}\n",
       "\n",
       "// Listen for the clearing of the current output cell\n",
       "var outputEl = gd.closest('.output');\n",
       "if (outputEl) {{\n",
       "    x.observe(outputEl, {childList: true});\n",
       "}}\n",
       "\n",
       "                        })                };                });            </script>        </div>"
      ]
     },
     "metadata": {},
     "output_type": "display_data"
    }
   ],
   "source": [
    "importlib.reload(tissue_eval)\n",
    "\n",
    "tissue_eval.matches_graph(result_dict)\n",
    "tissue_eval.attribute_name_graph(attribute_dict)"
   ]
  },
  {
   "cell_type": "code",
   "execution_count": 47,
   "metadata": {},
   "outputs": [],
   "source": [
    "tissue_map_filepath = '../../data/biosamples/results'\n",
    "\n",
    "v1_2 = pd.read_csv(tissue_map_filepath + '/biosample_tissue_locations_1.2.csv')\n",
    "v2_0 = pd.read_csv(tissue_map_filepath + '/biosample_tissue_locations_2.0.csv')\n",
    "\n",
    "v2_0['delta_bto'] = None\n",
    "v2_0['delta_attr'] = None\n",
    "\n",
    "for index, row in v2_0.iterrows():\n",
    "    if pd.isnull(row['bto_label']) and pd.isnull(v1_2.loc[index]['bto_label']):\n",
    "        delta_bto = 'unchanged'\n",
    "    elif row['bto_label'] == v1_2.loc[index]['bto_label']:\n",
    "        delta_bto = 'unchanged'\n",
    "    elif pd.isnull(row['bto_label']):\n",
    "        delta_bto = 'lost'\n",
    "    elif pd.isnull(v1_2.loc[index]['bto_label']):\n",
    "        delta_bto = 'gained'\n",
    "    else:\n",
    "        delta_bto = 'changed'\n",
    "\n",
    "    if pd.isnull(row['matched_attr']) and pd.isnull(v1_2.loc[index]['matched_attr']):\n",
    "        delta_attr = 'unchanged'\n",
    "    elif row['matched_attr'] == v1_2.loc[index]['matched_attr']:\n",
    "        delta_attr = 'unchanged'\n",
    "    elif pd.isnull(row['matched_attr']):\n",
    "        delta_attr = 'lost'\n",
    "    elif pd.isnull(v1_2.loc[index]['matched_attr']):\n",
    "        delta_attr = 'gained'\n",
    "    else:\n",
    "        delta_bto = 'changed'\n",
    "\n",
    "    v2_0.loc[index, 'delta_bto'] = delta_bto\n",
    "    v2_0.loc[index, 'delta_attr'] = delta_attr\n",
    "\n",
    "# add new columns to the original file\n",
    "v2_0.to_csv(tissue_map_filepath + '/biosample_tissue_locations_2.0.csv', index=False)"
   ]
  }
 ],
 "metadata": {
  "kernelspec": {
   "display_name": "Python 3",
   "language": "python",
   "name": "python3"
  },
  "language_info": {
   "codemirror_mode": {
    "name": "ipython",
    "version": 3
   },
   "file_extension": ".py",
   "mimetype": "text/x-python",
   "name": "python",
   "nbconvert_exporter": "python",
   "pygments_lexer": "ipython3",
   "version": "3.9.16"
  },
  "orig_nbformat": 4
 },
 "nbformat": 4,
 "nbformat_minor": 2
}
