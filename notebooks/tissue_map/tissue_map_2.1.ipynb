{
 "cells": [
  {
   "attachments": {},
   "cell_type": "markdown",
   "metadata": {},
   "source": [
    "# Version 2.1\n",
    "- Takes the depth of terms in BRENDA to account\n",
    "    - Depth of a term is the shortest path to the root when more than one path exists\n",
    "- Looks at the title of the study to find any relevant information\n",
    "\n",
    "## Issues\n",
    "- More information may be available in the BioProject title and description\n"
   ]
  },
  {
   "cell_type": "code",
   "execution_count": 2,
   "metadata": {},
   "outputs": [
    {
     "name": "stderr",
     "output_type": "stream",
     "text": [
      "* Owlready2 * Warning: optimized Cython parser module 'owlready2_optimized' is not available, defaulting to slower Python implementation\n",
      "\n",
      "Warning: SQLite3 version 3.40.0 and 3.41.2 have huge performance regressions; please install version 3.41.1 or 3.42!\n",
      "\n"
     ]
    }
   ],
   "source": [
    "from owlready2 import *\n",
    "import pandas as pd\n",
    "import numpy as np\n",
    "import spacy\n",
    "import xml.sax\n",
    "import csv\n",
    "import importlib\n",
    "import tissue_eval"
   ]
  },
  {
   "cell_type": "code",
   "execution_count": 101,
   "metadata": {},
   "outputs": [
    {
     "name": "stdout",
     "output_type": "stream",
     "text": [
      "Number of classes: 6569\n"
     ]
    }
   ],
   "source": [
    "# Load the BTO ontology\n",
    "onto_path.append('../../data/ontologies/')\n",
    "onto = get_ontology('http://purl.obolibrary.org/obo/bto.owl').load()\n",
    "\n",
    "# classes dictionary: {class_name: class_label} \n",
    "#   - class_label is None if no label is found\n",
    "# class_synonyms dictionary: {class_name: [synonym1, synonym2, ...]}\n",
    "#   - synonym list is empty if no synonym is found\n",
    "classes = {c.name: c.label.first() for c in onto.classes()}\n",
    "class_synonyms = {c.name: c.hasExactSynonym + c.hasRelatedSynonym for c in onto.classes()}\n",
    "\n",
    "# create a reverse mapping of classes and synonyms to BTO IDs\n",
    "classes_reverse = {c.label.first().lower(): c.name for c in onto.classes() if c.label != []}\n",
    "class_synonyms_reverse = {s.lower(): c for c, syn in class_synonyms.items() for s in syn}\n",
    "labels_reverse = {**classes_reverse, **class_synonyms_reverse}\n",
    "\n",
    "assert len(classes) == len(class_synonyms)\n",
    "print('Number of classes:', len(classes))\n",
    "\n",
    "# flatten the synonyms and class labels into a single set\n",
    "class_labels = {c for c in classes.values() if c is not None}\n",
    "class_synonyms_flattend = {s for syn in class_synonyms.values() for s in syn}\n",
    "bto_values = class_labels.union(class_synonyms_flattend)\n",
    "\n",
    "# depth_dict: {class_name: depth}\n",
    "depth_dict = {}\n",
    "for c in onto.classes():\n",
    "    depth_dict[c.name] = len(c.ancestors())"
   ]
  },
  {
   "cell_type": "code",
   "execution_count": 8,
   "metadata": {},
   "outputs": [],
   "source": [
    "from spacy.matcher import Matcher\n",
    "from spacy.tokenizer import Tokenizer\n",
    "\n",
    "nlp = spacy.load('en_core_web_sm')\n",
    "matcher = Matcher(nlp.vocab)\n",
    "tokenizer = Tokenizer(nlp.vocab)\n",
    "\n",
    "patterns = []\n",
    "\n",
    "for bto_value in bto_values:\n",
    "    pattern = [{'LOWER': token.lower_} for token in tokenizer(bto_value)]\n",
    "    patterns.append(pattern)\n",
    "\n",
    "matcher.add('bto', patterns, greedy='LONGEST')"
   ]
  },
  {
   "cell_type": "code",
   "execution_count": 107,
   "metadata": {},
   "outputs": [],
   "source": [
    "class BioSamplesMatcherHandler(xml.sax.ContentHandler):\n",
    "    def __init__(self, sample_dict, attribute_dict) -> None:\n",
    "        super().__init__()\n",
    "        self.sample_dict = sample_dict\n",
    "        self.attribute_dict = attribute_dict\n",
    "        self.biosample_id = ''\n",
    "\n",
    "    def startElement(self, name, attrs):\n",
    "        if name == 'BioSample':\n",
    "            self.biosample_id = attrs['accession']\n",
    "\n",
    "    def endElement(self, name):\n",
    "        self.sample_dict[self.biosample_id] = None"
   ]
  },
  {
   "cell_type": "code",
   "execution_count": 108,
   "metadata": {},
   "outputs": [
    {
     "name": "stdout",
     "output_type": "stream",
     "text": [
      "Number of samples: 10000\n"
     ]
    }
   ],
   "source": [
    "sample_dict = {}\n",
    "attribute_dict = {}\n",
    "biosamples_path = '../../data/biosamples/biosample_random_samples.xml'\n",
    "\n",
    "parser = xml.sax.make_parser()\n",
    "handler = BioSamplesMatcherHandler(sample_dict, attribute_dict)\n",
    "parser.setContentHandler(handler)\n",
    "\n",
    "parser.parse(biosamples_path)\n",
    "print('Number of samples:', len(sample_dict))"
   ]
  },
  {
   "cell_type": "code",
   "execution_count": null,
   "metadata": {},
   "outputs": [],
   "source": [
    "result_dict = {}\n",
    "\n",
    "for biosample_id, bto_term in sample_dict.items():\n",
    "    if bto_term == None:\n",
    "        result_dict[biosample_id] = None\n",
    "    else:\n",
    "        result_dict[biosample_id] = bto_term\n",
    "\n",
    "print('Number of samples:', len(result_dict))"
   ]
  },
  {
   "cell_type": "code",
   "execution_count": null,
   "metadata": {},
   "outputs": [],
   "source": [
    "# take the whole attribute stuff to check results\n",
    "\n",
    "\n",
    "with open('../../data/biosamples/results/biosample_tissue_locations_2.1.csv', 'w') as f:\n",
    "    writer = csv.writer(f)\n",
    "    writer.writerow(['biosample_accession_id', 'biosample_url', 'matched_attr', 'bto_label', 'bto_name', 'bto_url'])\n",
    "    for biosample_id in sample_dict:\n",
    "        accession_id = biosample_id\n",
    "        url = 'https://www.ncbi.nlm.nih.gov/biosample/' + biosample_id\n",
    "        matched_attr = attribute_dict[biosample_id] if attribute_dict[biosample_id] is not None else ''\n",
    "        bto_label = result_dict[biosample_id]\n",
    "        bto_name = labels_reverse[bto_label] if bto_label is not None else None\n",
    "        bto_url = 'http://purl.obolibrary.org/obo/' + bto_name if bto_name is not None else ''\n",
    "\n",
    "        writer.writerow([accession_id, url, matched_attr, bto_label, bto_name, bto_url])\n",
    "\n",
    "print('Finished writing results to CSV file')"
   ]
  },
  {
   "cell_type": "code",
   "execution_count": null,
   "metadata": {},
   "outputs": [],
   "source": [
    "importlib.reload(tissue_eval)\n",
    "\n",
    "tissue_eval.matches_graph(result_dict)\n",
    "tissue_eval.attribute_name_graph(attribute_dict)"
   ]
  },
  {
   "cell_type": "code",
   "execution_count": null,
   "metadata": {},
   "outputs": [],
   "source": [
    "tissue_map_filepath = '../../data/biosamples/results'\n",
    "\n",
    "v2_0 = pd.read_csv(tissue_map_filepath + '/biosample_tissue_locations_2.0.csv')\n",
    "v2_1 = pd.read_csv(tissue_map_filepath + '/biosample_tissue_locations_2.1.csv')\n",
    "\n",
    "v2_1['delta_bto'] = None\n",
    "v2_1['delta_attr'] = None\n",
    "\n",
    "for index, row in v2_1.iterrows():\n",
    "    if pd.isnull(row['bto_label']) and pd.isnull(v2_0.loc[index]['bto_label']):\n",
    "        delta_bto = 'unchanged'\n",
    "    elif row['bto_label'] == v2_0.loc[index]['bto_label']:\n",
    "        delta_bto = 'unchanged'\n",
    "    elif pd.isnull(row['bto_label']):\n",
    "        delta_bto = 'lost'\n",
    "    elif pd.isnull(v2_0.loc[index]['bto_label']):\n",
    "        delta_bto = 'gained'\n",
    "    else:\n",
    "        delta_bto = 'changed'\n",
    "\n",
    "    if pd.isnull(row['matched_attr']) and pd.isnull(v2_0.loc[index]['matched_attr']):\n",
    "        delta_attr = 'unchanged'\n",
    "    elif row['matched_attr'] == v2_0.loc[index]['matched_attr']:\n",
    "        delta_attr = 'unchanged'\n",
    "    elif pd.isnull(row['matched_attr']):\n",
    "        delta_attr = 'lost'\n",
    "    elif pd.isnull(v2_0.loc[index]['matched_attr']):\n",
    "        delta_attr = 'gained'\n",
    "    else:\n",
    "        delta_bto = 'changed'\n",
    "\n",
    "    v2_1.loc[index, 'delta_bto'] = delta_bto\n",
    "    v2_1.loc[index, 'delta_attr'] = delta_attr\n",
    "\n",
    "# add new columns to the original file\n",
    "v2_1.to_csv(tissue_map_filepath + '/biosample_tissue_locations_2.1.csv', index=False)"
   ]
  }
 ],
 "metadata": {
  "kernelspec": {
   "display_name": "Python 3",
   "language": "python",
   "name": "python3"
  },
  "language_info": {
   "codemirror_mode": {
    "name": "ipython",
    "version": 3
   },
   "file_extension": ".py",
   "mimetype": "text/x-python",
   "name": "python",
   "nbconvert_exporter": "python",
   "pygments_lexer": "ipython3",
   "version": "3.9.16"
  },
  "orig_nbformat": 4
 },
 "nbformat": 4,
 "nbformat_minor": 2
}
