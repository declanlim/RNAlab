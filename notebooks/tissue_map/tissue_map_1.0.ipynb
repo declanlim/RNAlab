{
 "cells": [
  {
   "cell_type": "code",
   "execution_count": 52,
   "metadata": {},
   "outputs": [],
   "source": [
    "from owlready2 import *\n",
    "import xml.sax\n",
    "import csv\n",
    "import tissue_eval "
   ]
  },
  {
   "cell_type": "code",
   "execution_count": 53,
   "metadata": {},
   "outputs": [
    {
     "name": "stdout",
     "output_type": "stream",
     "text": [
      "Number of classes:  6569\n"
     ]
    }
   ],
   "source": [
    "# Load the BTO ontology and classes\n",
    "onto_path.append('../../data/ontologies/bto.owl')\n",
    "onto = get_ontology('http://purl.obolibrary.org/obo/bto.owl').load()\n",
    "\n",
    "# class_names stores the names in the form BTO_0000001\n",
    "# class_labels stores the label (english name) of the class or '' if no label is present\n",
    "# class_synonyms stores a dictionary of the form {class_name: [synonym1, synonym2, ...]}\n",
    "class_names = [c.name for c in onto.classes()]\n",
    "class_labels = [c.label[0] if len(c.label) > 0 else '' for c in onto.classes()]\n",
    "class_synonyms = {c.name: c.hasExactSynonym + c.hasRelatedSynonym for c in onto.classes()}\n",
    "\n",
    "assert len(class_names) == len(class_labels) == len(class_synonyms)\n",
    "print('Number of classes: ', len(class_names))"
   ]
  },
  {
   "cell_type": "code",
   "execution_count": 54,
   "metadata": {},
   "outputs": [],
   "source": [
    "class BioSamplesAttributesHandler(xml.sax.ContentHandler):\n",
    "    '''\n",
    "    SAX handler to read attributes from a BioSamples XML file and extract possible tissue locations\n",
    "    - extracts attributes with harmonized names from the target_attributes set\n",
    "    '''\n",
    "    def __init__(self, target_attributes, sample_dict):\n",
    "        self.biosample_id = ''\n",
    "        self.attribute_name = ''\n",
    "        self.target_attributes = target_attributes \n",
    "        self.sample_dict = sample_dict\n",
    "        self.attribute_list = []\n",
    "\n",
    "    def startElement(self, name, attrs):\n",
    "        if name == 'BioSample':\n",
    "            self.biosample_id = attrs['accession']\n",
    "        elif name == 'Attribute' and 'harmonized_name' in attrs:\n",
    "            attribute = attrs['harmonized_name']    \n",
    "            if attribute in self.target_attributes:\n",
    "                self.attribute_name = attrs['harmonized_name']\n",
    "\n",
    "    def characters(self, content):\n",
    "        if self.attribute_name != '':\n",
    "            self.attribute_list.append((self.attribute_name, content))\n",
    "            self.attribute_name = ''\n",
    "\n",
    "    def endElement(self, name):\n",
    "        if name == 'BioSample':\n",
    "            self.sample_dict[self.biosample_id] = self.attribute_list\n",
    "            self.biosample_id = ''\n",
    "            self.attribute_list = []\n",
    "\n",
    "    def endDocument(self):\n",
    "        print('Finished parsing BioSamples XML file')\n"
   ]
  },
  {
   "cell_type": "code",
   "execution_count": 55,
   "metadata": {},
   "outputs": [
    {
     "name": "stdout",
     "output_type": "stream",
     "text": [
      "Finished parsing BioSamples XML file\n",
      "Number of samples:  10000\n"
     ]
    }
   ],
   "source": [
    "# sample_dict stores the biosample accession id and its possible tissue attributes in a list of tuples\n",
    "sample_dict = {}\n",
    "# biosamples_path = '/mnt/disk1/biosample_set.xml'\n",
    "biosamples_path = '../../data/biosamples/biosample_random_samples.xml'\n",
    "target_attributes = {\"cell_line\", \"cell_subtype\", \"cell_type\", \"host_tissue_sampled\", \"sample_type\", \"tissue\", \"host_anatomical_part\", \"isolation_source\", \"source_name\", \"source_type\", \"strain\", \"subclone\", \"subgroup\"}\n",
    "\n",
    "parser = xml.sax.make_parser()\n",
    "handler = BioSamplesAttributesHandler(target_attributes, sample_dict)\n",
    "parser.setContentHandler(handler)\n",
    "parser.parse(biosamples_path)\n",
    "\n",
    "print('Number of samples: ', len(sample_dict))"
   ]
  },
  {
   "cell_type": "code",
   "execution_count": 56,
   "metadata": {},
   "outputs": [],
   "source": [
    "# result_dict stores the biosample accession id and the found tissue location from the BTO ontology\n",
    "# if no tissue location is found or no possible attributes were identified, the value is None\n",
    "\n",
    "result_dict = {}\n",
    "for biosample_id, attributes in sample_dict.items():\n",
    "    for attribute in attributes:\n",
    "        # finds the first matching attribute in the BTO ontology\n",
    "        res = onto.search(label=attribute[1].lower())\n",
    "        if len(res) > 0:\n",
    "            result_dict[biosample_id] = res[0].label[0]\n",
    "            break\n",
    "    \n",
    "    if biosample_id not in result_dict:\n",
    "        result_dict[biosample_id] = None"
   ]
  },
  {
   "cell_type": "code",
   "execution_count": 57,
   "metadata": {},
   "outputs": [
    {
     "name": "stdout",
     "output_type": "stream",
     "text": [
      "Number of positive results:  2301\n",
      "Number of negative results:  7699\n"
     ]
    }
   ],
   "source": [
    "# positive_results is a set of biosample accession ids that have a matching tissue location in the BTO ontology\n",
    "# negative_results is a set of biosample accession ids that have no matching tissue location in the BTO ontology\n",
    "positive_resuults = set()\n",
    "negative_results = set()\n",
    "\n",
    "for biosample_id, tissue in result_dict.items():\n",
    "    if tissue is not None:\n",
    "        positive_resuults.add(biosample_id)\n",
    "    else:\n",
    "        negative_results.add(biosample_id)\n",
    "\n",
    "print('Number of positive results: ', len(positive_resuults))\n",
    "print('Number of negative results: ', len(negative_results))"
   ]
  },
  {
   "cell_type": "code",
   "execution_count": 58,
   "metadata": {},
   "outputs": [
    {
     "name": "stdout",
     "output_type": "stream",
     "text": [
      "Finished writing results to csv file\n"
     ]
    }
   ],
   "source": [
    "# write the results to a csv file\n",
    "with open('../../data/biosamples/results/biosample_tissue_locations.csv', 'w') as f:\n",
    "    writer = csv.writer(f)\n",
    "    writer.writerow(['biosample_id', '1.0'])\n",
    "    for biosample_id, tissue in result_dict.items():\n",
    "        if tissue is not None:\n",
    "            writer.writerow([biosample_id, tissue])\n",
    "        else:\n",
    "            writer.writerow([biosample_id, 'None'])\n",
    "\n",
    "print('Finished writing results to csv file')  "
   ]
  },
  {
   "cell_type": "code",
   "execution_count": null,
   "metadata": {},
   "outputs": [],
   "source": [
    "tissue_eval.attribute_graph(result_dict)"
   ]
  },
  {
   "cell_type": "code",
   "execution_count": null,
   "metadata": {},
   "outputs": [],
   "source": []
  }
 ],
 "metadata": {
  "kernelspec": {
   "display_name": "Python 3",
   "language": "python",
   "name": "python3"
  },
  "language_info": {
   "codemirror_mode": {
    "name": "ipython",
    "version": 3
   },
   "file_extension": ".py",
   "mimetype": "text/x-python",
   "name": "python",
   "nbconvert_exporter": "python",
   "pygments_lexer": "ipython3",
   "version": "3.9.16"
  },
  "orig_nbformat": 4
 },
 "nbformat": 4,
 "nbformat_minor": 2
}
