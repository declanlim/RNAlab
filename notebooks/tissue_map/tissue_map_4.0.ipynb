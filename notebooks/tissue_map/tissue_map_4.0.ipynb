{
 "cells": [
  {
   "attachments": {},
   "cell_type": "markdown",
   "metadata": {},
   "source": [
    "# Version 4.0\n",
    "\n",
    "- Uses johnsnowlabs healthcare NLP software to link values to the BTO"
   ]
  },
  {
   "cell_type": "code",
   "execution_count": 24,
   "metadata": {},
   "outputs": [
    {
     "name": "stdout",
     "output_type": "stream",
     "text": [
      "👌 Detected license file /home/ec2-user/workspace/RNAlab/notebooks/tissue_map/aws_credentials_8085.json\n",
      "👌 Detected license file /home/ec2-user/workspace/RNAlab/notebooks/tissue_map/aws_credentials_8085.json\n",
      "👌 JSL-Home is up to date! \n",
      "👌 Detected license file /home/ec2-user/workspace/RNAlab/notebooks/tissue_map/aws_credentials_8085.json\n",
      "Installed 1 products:\n",
      "💊 Spark-Healthcare==4.4.4 installed! ✅ Heal the planet with NLP! \n",
      "\u001b[91m🚨 Your Spark-Healthcare is outdated, installed==4.4.4 but latest version==4.4.3\n",
      "You can run \u001b[92m nlp.install() \u001b[39mto update Spark-Healthcare\n",
      "\u001b[91m🚨 Your Spark-OCR is outdated, installed==4.4.3 but latest version==4.4.2\n",
      "You can run \u001b[92m nlp.install() \u001b[39mto update Spark-OCR\n"
     ]
    }
   ],
   "source": [
    "from johnsnowlabs import nlp, medical, visual\n",
    "\n",
    "# After uploading your license run this to install all licensed Python Wheels and pre-download Jars the Spark Session JVM\n",
    "nlp.install()"
   ]
  },
  {
   "cell_type": "code",
   "execution_count": 25,
   "metadata": {},
   "outputs": [
    {
     "name": "stdout",
     "output_type": "stream",
     "text": [
      "Spark Session already created, some configs may not take.\n",
      "👌 Detected license file /home/ec2-user/workspace/RNAlab/notebooks/tissue_map/aws_credentials_8085.json\n"
     ]
    }
   ],
   "source": [
    "from johnsnowlabs import nlp, medical, visual\n",
    "import pandas as pd\n",
    "\n",
    "# Automatically load license data and start a session with all jars user has access to\n",
    "spark = nlp.start()"
   ]
  },
  {
   "cell_type": "code",
   "execution_count": 31,
   "metadata": {},
   "outputs": [],
   "source": [
    "from pyspark.sql import DataFrame\n",
    "import pyspark.sql.functions as F\n",
    "import pyspark.sql.types as T\n",
    "import pyspark.sql as SQL\n",
    "from pyspark import keyword_only"
   ]
  },
  {
   "cell_type": "code",
   "execution_count": 43,
   "metadata": {},
   "outputs": [
    {
     "name": "stdout",
     "output_type": "stream",
     "text": [
      "+-----+\n",
      "|hello|\n",
      "+-----+\n",
      "|spark|\n",
      "+-----+\n",
      "\n"
     ]
    }
   ],
   "source": [
    "import pyspark\n",
    "from pyspark.sql import SparkSession\n",
    "\n",
    "spark = SparkSession.builder.getOrCreate()\n",
    "df = spark.sql('''select 'spark' as hello ''')\n",
    "df.show()"
   ]
  }
 ],
 "metadata": {
  "kernelspec": {
   "display_name": "Python 3",
   "language": "python",
   "name": "python3"
  },
  "language_info": {
   "codemirror_mode": {
    "name": "ipython",
    "version": 3
   },
   "file_extension": ".py",
   "mimetype": "text/x-python",
   "name": "python",
   "nbconvert_exporter": "python",
   "pygments_lexer": "ipython3",
   "version": "3.9.16"
  },
  "orig_nbformat": 4
 },
 "nbformat": 4,
 "nbformat_minor": 2
}
