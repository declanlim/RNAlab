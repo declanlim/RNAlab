{
 "cells": [
  {
   "cell_type": "code",
   "execution_count": 1,
   "metadata": {},
   "outputs": [
    {
     "name": "stderr",
     "output_type": "stream",
     "text": [
      "* Owlready2 * Warning: optimized Cython parser module 'owlready2_optimized' is not available, defaulting to slower Python implementation\n",
      "\n",
      "Warning: SQLite3 version 3.40.0 and 3.41.2 have huge performance regressions; please install version 3.41.1 or 3.42!\n",
      "\n"
     ]
    }
   ],
   "source": [
    "from owlready2 import *\n",
    "import csv"
   ]
  },
  {
   "cell_type": "code",
   "execution_count": 46,
   "metadata": {},
   "outputs": [],
   "source": [
    "'''\n",
    "Creates a csv file containing data from the BTO ontology.\n",
    "- csv file  used to create an index in Elasticsearch\n",
    "- 3 BTO terms are deprecated and have no label\n",
    "    - BTO_0000441: adipose tissue\n",
    "    - BTO_0001414: umbilical vein endothelium\n",
    "    - BTO_0003973: prostatic intraepithelial neoplasia cell\n",
    "'''\n",
    "onto_path.append('../../data/ontologies/')\n",
    "onto = get_ontology('http://purl.obolibrary.org/obo/bto.owl').load()\n",
    "\n",
    "with open('../../data/elastic_docs/bto.csv', 'w') as f:\n",
    "    writer = csv.writer(f)\n",
    "    writer.writerow(['biosample_id', 'label', 'definition', 'comment'])\n",
    "    for c in onto.classes():\n",
    "        biosample_id = c.name\n",
    "        label = c.label[0] if c.label else ''\n",
    "        definition = c.IAO_0000115[0] if c.IAO_0000115 else ''\n",
    "        comment = c.comment[0] if c.comment else ''\n",
    "\n",
    "        writer.writerow([biosample_id, label, definition, comment])\n",
    "    "
   ]
  }
 ],
 "metadata": {
  "kernelspec": {
   "display_name": "Python 3",
   "language": "python",
   "name": "python3"
  },
  "language_info": {
   "codemirror_mode": {
    "name": "ipython",
    "version": 3
   },
   "file_extension": ".py",
   "mimetype": "text/x-python",
   "name": "python",
   "nbconvert_exporter": "python",
   "pygments_lexer": "ipython3",
   "version": "3.9.16"
  },
  "orig_nbformat": 4
 },
 "nbformat": 4,
 "nbformat_minor": 2
}
